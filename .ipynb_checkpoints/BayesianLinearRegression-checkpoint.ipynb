{
 "cells": [
  {
   "cell_type": "markdown",
   "metadata": {},
   "source": [
    "# Bayesian Linear Regression"
   ]
  },
  {
   "cell_type": "code",
   "execution_count": 1,
   "metadata": {
    "collapsed": true
   },
   "outputs": [],
   "source": [
    "import MVG as MVG\n",
    "import SuperMatExpr as SME\n",
    "from sympy import *\n",
    "import utils as utils\n",
    "from IPython.display import display, Math, Latex"
   ]
  },
  {
   "cell_type": "code",
   "execution_count": 2,
   "metadata": {
    "collapsed": true
   },
   "outputs": [],
   "source": [
    "# Define some symbols\n",
    "D, N, Ns = symbols('D N Ns')\n",
    "sig_y = symbols('\\u03c3_y')"
   ]
  },
  {
   "cell_type": "markdown",
   "metadata": {},
   "source": [
    "## 1. Prior"
   ]
  },
  {
   "cell_type": "code",
   "execution_count": 12,
   "metadata": {
    "collapsed": false
   },
   "outputs": [
    {
     "name": "stdout",
     "output_type": "stream",
     "text": [
      "p_w:\n"
     ]
    },
    {
     "data": {
      "text/latex": [
       "\\begin{align*}\n",
       "p\\left(\\mathbf{w}\\right)&= \\mathcal{N}\\left(\\mathbf{m}_{\\mathbf{w}},\\mathbf{\\Sigma}_{\\mathbf{w}}\\right)\\\\\n",
       "\\mathbf{m}_{\\mathbf{w}} &= \\mathbf{0}\\\\\n",
       "\\mathbf{\\Sigma}_{\\mathbf{w}} &= \\mathbf{I}\\\\\n",
       "\\end{align*}"
      ],
      "text/plain": [
       "<IPython.core.display.Latex object>"
      ]
     },
     "metadata": {},
     "output_type": "display_data"
    }
   ],
   "source": [
    "# Prior\n",
    "w = SME.SuperMatSymbol(D,1,name='w',mat_type='var')\n",
    "mu_w = SME.SuperMatSymbol(D,1,mat_type='mean',dep_vars=[w],expanded=ZeroMatrix(D,1))\n",
    "S_ww = SME.SuperMatSymbol(D,D,mat_type='covar',dep_vars=[w],expanded=Identity(D))\n",
    "p_w = MVG.MVG([w],moments=[mu_w,S_ww,utils.getZ(S_ww)])\n",
    "\n",
    "print(\"p_w:\")\n",
    "display(Latex(utils.matLatex(p_w)))"
   ]
  },
  {
   "cell_type": "markdown",
   "metadata": {},
   "source": [
    "# 2. Likelihood"
   ]
  },
  {
   "cell_type": "code",
   "execution_count": 13,
   "metadata": {
    "collapsed": false
   },
   "outputs": [
    {
     "name": "stdout",
     "output_type": "stream",
     "text": [
      "p_y:\n"
     ]
    },
    {
     "data": {
      "text/latex": [
       "\\begin{align*}\n",
       "p\\left(\\mathbf{y}|\\mathbf{w},\\mathbf{X}\\right)&= \\mathcal{N}\\left(\\mathbf{m}_{\\mathbf{y}|\\mathbf{w},\\mathbf{X}},\\mathbf{\\Sigma}_{\\mathbf{y}|\\mathbf{w},\\mathbf{X}}\\right)\\\\\n",
       "\\mathbf{m}_{\\mathbf{y}|\\mathbf{w},\\mathbf{X}} &= \\mathbf{X}^T \\mathbf{w}\\\\\n",
       "\\mathbf{\\Sigma}_{\\mathbf{y}|\\mathbf{w},\\mathbf{X}} &= \\sigma_y^{2} \\mathbf{I}\\\\\n",
       "\\end{align*}"
      ],
      "text/plain": [
       "<IPython.core.display.Latex object>"
      ]
     },
     "metadata": {},
     "output_type": "display_data"
    }
   ],
   "source": [
    "# Likelihood of w given X\n",
    "X = SME.SuperMatSymbol(D,N,name='X',mat_type='var')\n",
    "y = SME.SuperMatSymbol(N,1,name='y',mat_type='var')\n",
    "mu_y = SME.SuperMatSymbol(N,1,mat_type='mean',dep_vars=[y],cond_vars=[w,X],expanded=X.T*w)\n",
    "S_yy = SME.SuperMatSymbol(N,N,mat_type='covar',dep_vars=[y],cond_vars=[w,X],expanded=sig_y**2*Identity(N))\n",
    "p_y = MVG.MVG([y],moments=[mu_y,S_yy,utils.getZ(S_yy)],conditioned_vars=[w,X])\n",
    "\n",
    "print(\"p_y:\")\n",
    "display(Latex(utils.matLatex(p_y)))"
   ]
  },
  {
   "cell_type": "markdown",
   "metadata": {},
   "source": [
    "# 3. Posterior"
   ]
  },
  {
   "cell_type": "code",
   "execution_count": 14,
   "metadata": {
    "collapsed": false
   },
   "outputs": [
    {
     "name": "stdout",
     "output_type": "stream",
     "text": [
      "cond_vars:  [w]\n",
      "X'*w\n",
      "coeffs:  [X']\n",
      "rem:  0\n",
      "Lambda:  [0]\n",
      "Omega:  [[X']]\n",
      "marginal_mean:  [0]\n",
      "utils.matmul(Omega,marginal_mean):  [0]\n",
      "p_w_y:\n"
     ]
    },
    {
     "data": {
      "text/latex": [
       "\\begin{align*}\n",
       "p\\left(\\mathbf{y},\\mathbf{w}|\\mathbf{X}\\right)&= \\mathcal{N}\\left(\\mathbf{m}_{\\mathbf{y},\\mathbf{w}|\\mathbf{X}},\\mathbf{\\Sigma}_{\\mathbf{y},\\mathbf{w}|\\mathbf{X}}\\right)\\\\\n",
       "\\mathbf{m}_{\\mathbf{y},\\mathbf{w}|\\mathbf{X}} &= \\left[\\begin{smallmatrix}\\mathbf{0}\\\\\\mathbf{0}\\end{smallmatrix}\\right]\\\\\n",
       "\\mathbf{\\Sigma}_{\\mathbf{y},\\mathbf{w}|\\mathbf{X}} &= \\left[\\begin{smallmatrix}\\sigma_y^{2} \\mathbf{I} + \\mathbf{X}^T \\mathbf{X}&\\mathbf{X}^T\\\\\\mathbf{X}&\\mathbf{I}\\end{smallmatrix}\\right]\\\\\n",
       "\\end{align*}"
      ],
      "text/plain": [
       "<IPython.core.display.Latex object>"
      ]
     },
     "metadata": {},
     "output_type": "display_data"
    }
   ],
   "source": [
    "# Joint of w and y\n",
    "p_w_y = p_w*p_y\n",
    "\n",
    "print(\"p_w_y:\")\n",
    "display(Latex(utils.matLatex(p_w_y)))"
   ]
  },
  {
   "cell_type": "code",
   "execution_count": 15,
   "metadata": {
    "collapsed": false
   },
   "outputs": [
    {
     "name": "stdout",
     "output_type": "stream",
     "text": [
      "S.blockform:  [[S_(y,y)]]\n",
      "S.variables_dim1:  {y: 0}\n",
      "S.variables_dim2:  {y: 0}\n",
      "old_mean:  [0]\n",
      "P: [[S_(w,w)]], Q: [[S_(w,y)]], R: [[S_(y,w)]], S: [[S_(y,y)]]\n",
      "v_marg_vars:  [y]\n",
      "marg_mean:  [0]\n",
      "p_w_post:\n"
     ]
    },
    {
     "data": {
      "text/latex": [
       "\\begin{align*}\n",
       "p\\left(\\mathbf{w}|\\mathbf{X},\\mathbf{y}\\right)&= \\mathcal{N}\\left(\\mathbf{m}_{\\mathbf{w}|\\mathbf{X},\\mathbf{y}},\\mathbf{\\Sigma}_{\\mathbf{w}|\\mathbf{X},\\mathbf{y}}\\right)\\\\\n",
       "\\mathbf{m}_{\\mathbf{w}|\\mathbf{X},\\mathbf{y}} &= \\mathbf{X} \\left(\\sigma_y^{2} \\mathbf{I} + \\mathbf{X}^T \\mathbf{X}\\right)^{-1} \\mathbf{y}\\\\\n",
       "\\mathbf{\\Sigma}_{\\mathbf{w}|\\mathbf{X},\\mathbf{y}} &= \\mathbf{I} - \\mathbf{X} \\left(\\sigma_y^{2} \\mathbf{I} + \\mathbf{X}^T \\mathbf{X}\\right)^{-1} \\mathbf{X}^T\\\\\n",
       "\\end{align*}"
      ],
      "text/plain": [
       "<IPython.core.display.Latex object>"
      ]
     },
     "metadata": {},
     "output_type": "display_data"
    }
   ],
   "source": [
    "# Inference: posterior over w\n",
    "p_w_post = p_w_y.condition([y])\n",
    "\n",
    "print(\"p_w_post:\")\n",
    "display(Latex(utils.matLatex(p_w_post)))"
   ]
  },
  {
   "cell_type": "markdown",
   "metadata": {},
   "source": [
    "# 4. Prediction"
   ]
  },
  {
   "cell_type": "code",
   "execution_count": 16,
   "metadata": {
    "collapsed": false
   },
   "outputs": [
    {
     "name": "stdout",
     "output_type": "stream",
     "text": [
      "p_ys:\n"
     ]
    },
    {
     "data": {
      "text/latex": [
       "\\begin{align*}\n",
       "p\\left(\\mathbf{y}_{*}|\\mathbf{w},\\mathbf{X}_{*}\\right)&= \\mathcal{N}\\left(\\mathbf{m}_{\\mathbf{y}_{*}|\\mathbf{w},\\mathbf{X}_{*}},\\mathbf{\\Sigma}_{\\mathbf{y}_{*}|\\mathbf{w},\\mathbf{X}_{*}}\\right)\\\\\n",
       "\\mathbf{m}_{\\mathbf{y}_{*}|\\mathbf{w},\\mathbf{X}_{*}} &= \\mathbf{X}_{*}^T \\mathbf{w}\\\\\n",
       "\\mathbf{\\Sigma}_{\\mathbf{y}_{*}|\\mathbf{w},\\mathbf{X}_{*}} &= \\sigma_y^{2} \\mathbf{I}\\\\\n",
       "\\end{align*}"
      ],
      "text/plain": [
       "<IPython.core.display.Latex object>"
      ]
     },
     "metadata": {},
     "output_type": "display_data"
    }
   ],
   "source": [
    "#Prediction\n",
    "\n",
    "# Likelihood of w given Xs\n",
    "Xs = SME.SuperMatSymbol(D,Ns,name='X_s',mat_type='var')\n",
    "ys = SME.SuperMatSymbol(Ns,1,name='y_s',mat_type='var')\n",
    "mu_ys = SME.SuperMatSymbol(Ns,1,mat_type='mean',dep_vars=[ys],cond_vars=[w,Xs],expanded=Xs.T*w)\n",
    "S_ysys = SME.SuperMatSymbol(Ns,Ns,mat_type='covar',dep_vars=[ys],cond_vars=[w,Xs],expanded=sig_y**2*Identity(Ns))\n",
    "p_ys = MVG.MVG([ys],moments=[mu_ys,S_ysys,utils.getZ(S_ysys)],conditioned_vars=[w,Xs])\n",
    "\n",
    "print(\"p_ys:\")\n",
    "display(Latex(utils.matLatex(p_ys)))"
   ]
  },
  {
   "cell_type": "code",
   "execution_count": 17,
   "metadata": {
    "collapsed": false
   },
   "outputs": [
    {
     "name": "stdout",
     "output_type": "stream",
     "text": [
      "cond_vars:  [w]\n",
      "X_s'*w\n",
      "coeffs:  [X_s']\n",
      "rem:  0\n",
      "Lambda:  [0]\n",
      "Omega:  [[X_s']]\n",
      "marginal_mean:  [S_(w,y)*S_(y,y)^-1*y]\n",
      "utils.matmul(Omega,marginal_mean):  [X_s'*S_(w,y)*S_(y,y)^-1*y]\n",
      "p_w_ys:\n"
     ]
    },
    {
     "data": {
      "text/latex": [
       "\\begin{align*}\n",
       "p\\left(\\mathbf{y}_{*},\\mathbf{w}|\\mathbf{y},\\mathbf{X},\\mathbf{X}_{*}\\right)&= \\mathcal{N}\\left(\\mathbf{m}_{\\mathbf{y}_{*},\\mathbf{w}|\\mathbf{y},\\mathbf{X},\\mathbf{X}_{*}},\\mathbf{\\Sigma}_{\\mathbf{y}_{*},\\mathbf{w}|\\mathbf{y},\\mathbf{X},\\mathbf{X}_{*}}\\right)\\\\\n",
       "\\mathbf{m}_{\\mathbf{y}_{*},\\mathbf{w}|\\mathbf{y},\\mathbf{X},\\mathbf{X}_{*}} &= \\left[\\begin{smallmatrix}\\mathbf{X}_{*}^T \\mathbf{X} \\left(\\sigma_y^{2} \\mathbf{I} + \\mathbf{X}^T \\mathbf{X}\\right)^{-1} \\mathbf{y}\\\\\\mathbf{X} \\left(\\sigma_y^{2} \\mathbf{I} + \\mathbf{X}^T \\mathbf{X}\\right)^{-1} \\mathbf{y}\\end{smallmatrix}\\right]\\\\\n",
       "\\mathbf{\\Sigma}_{\\mathbf{y}_{*},\\mathbf{w}|\\mathbf{y},\\mathbf{X},\\mathbf{X}_{*}} &= \\left[\\begin{smallmatrix}\\sigma_y^{2} \\mathbf{I} + \\mathbf{X}_{*}^T \\left(\\mathbf{I} - \\mathbf{X} \\left(\\sigma_y^{2} \\mathbf{I} + \\mathbf{X}^T \\mathbf{X}\\right)^{-1} \\mathbf{X}^T\\right) \\mathbf{X}_{*}&\\mathbf{X}_{*}^T \\left(\\mathbf{I} - \\mathbf{X} \\left(\\sigma_y^{2} \\mathbf{I} + \\mathbf{X}^T \\mathbf{X}\\right)^{-1} \\mathbf{X}^T\\right)\\\\\\left(\\mathbf{I} + \\left(-1 \\mathbf{X} \\left(\\sigma_y^{2} \\mathbf{I} + \\mathbf{X}^T \\mathbf{X}\\right)^{-1} \\mathbf{X}^T\\right)^T\\right) \\mathbf{X}_{*}&\\mathbf{I} - \\mathbf{X} \\left(\\sigma_y^{2} \\mathbf{I} + \\mathbf{X}^T \\mathbf{X}\\right)^{-1} \\mathbf{X}^T\\end{smallmatrix}\\right]\\\\\n",
       "\\end{align*}"
      ],
      "text/plain": [
       "<IPython.core.display.Latex object>"
      ]
     },
     "metadata": {},
     "output_type": "display_data"
    }
   ],
   "source": [
    "# Joint of w and ys\n",
    "p_w_ys = p_w_post*p_ys\n",
    "\n",
    "print(\"p_w_ys:\")\n",
    "display(Latex(utils.matLatex(p_w_ys)))"
   ]
  },
  {
   "cell_type": "code",
   "execution_count": 18,
   "metadata": {
    "collapsed": false
   },
   "outputs": [
    {
     "name": "stdout",
     "output_type": "stream",
     "text": [
      "new_blockfom:  [[S_(y_s,y_s), S_(y_s,w)], [S_(w,y_s), S_(w,w)]]\n",
      "self.covar.blockform:  [[S_(y_s,y_s), S_(y_s,w)], [S_(w,y_s), S_(w,w)]]\n",
      "new_blockfom:  [[S_(y_s,y_s)]]\n",
      "self.covar.blockform:  [[S_(y_s,y_s), S_(y_s,w)], [S_(w,y_s), S_(w,w)]]\n",
      "p_ys_post:\n"
     ]
    },
    {
     "data": {
      "text/latex": [
       "\\begin{align*}\n",
       "p\\left(\\mathbf{y}_{*}|\\mathbf{y},\\mathbf{X},\\mathbf{X}_{*}\\right)&= \\mathcal{N}\\left(\\mathbf{m}_{\\mathbf{y}_{*}|\\mathbf{y},\\mathbf{X},\\mathbf{X}_{*}},\\mathbf{\\Sigma}_{\\mathbf{y}_{*}|\\mathbf{y},\\mathbf{X},\\mathbf{X}_{*}}\\right)\\\\\n",
       "\\mathbf{m}_{\\mathbf{y}_{*}|\\mathbf{y},\\mathbf{X},\\mathbf{X}_{*}} &= \\mathbf{X}_{*}^T \\mathbf{X} \\left(\\sigma_y^{2} \\mathbf{I} + \\mathbf{X}^T \\mathbf{X}\\right)^{-1} \\mathbf{y}\\\\\n",
       "\\mathbf{\\Sigma}_{\\mathbf{y}_{*}|\\mathbf{y},\\mathbf{X},\\mathbf{X}_{*}} &= \\sigma_y^{2} \\mathbf{I} + \\mathbf{X}_{*}^T \\left(\\mathbf{I} - \\mathbf{X} \\left(\\sigma_y^{2} \\mathbf{I} + \\mathbf{X}^T \\mathbf{X}\\right)^{-1} \\mathbf{X}^T\\right) \\mathbf{X}_{*}\\\\\n",
       "\\end{align*}"
      ],
      "text/plain": [
       "<IPython.core.display.Latex object>"
      ]
     },
     "metadata": {},
     "output_type": "display_data"
    }
   ],
   "source": [
    "# Predictive distribution of ys\n",
    "p_ys_post = p_w_ys.marginalize([w])\n",
    "\n",
    "print(\"p_ys_post:\")\n",
    "display(Latex(utils.matLatex(p_ys_post)))"
   ]
  },
  {
   "cell_type": "code",
   "execution_count": null,
   "metadata": {
    "collapsed": true
   },
   "outputs": [],
   "source": []
  }
 ],
 "metadata": {
  "anaconda-cloud": {},
  "kernelspec": {
   "display_name": "Python [Root]",
   "language": "python",
   "name": "Python [Root]"
  },
  "language_info": {
   "codemirror_mode": {
    "name": "ipython",
    "version": 3
   },
   "file_extension": ".py",
   "mimetype": "text/x-python",
   "name": "python",
   "nbconvert_exporter": "python",
   "pygments_lexer": "ipython3",
   "version": "3.5.2"
  },
  "latex_envs": {
   "bibliofile": "biblio.bib",
   "cite_by": "apalike",
   "current_citInitial": 1,
   "eqLabelWithNumbers": true,
   "eqNumInitial": 0
  }
 },
 "nbformat": 4,
 "nbformat_minor": 0
}
