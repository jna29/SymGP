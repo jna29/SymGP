{
 "cells": [
  {
   "cell_type": "markdown",
   "metadata": {},
   "source": [
    "# FITC"
   ]
  },
  {
   "cell_type": "code",
   "execution_count": 1,
   "metadata": {
    "collapsed": true
   },
   "outputs": [],
   "source": [
    "from sympy import *\n",
    "import utils as utils\n",
    "from SuperMatExpr import Variable, SuperDiagMat\n",
    "from MVG import MVG\n",
    "import kernels.kernel as kern\n",
    "from IPython.display import display, Math, Latex"
   ]
  },
  {
   "cell_type": "code",
   "execution_count": 2,
   "metadata": {
    "collapsed": true
   },
   "outputs": [],
   "source": [
    "m, n, l = symbols('m n l')\n",
    "s_y = symbols('\\u03c3_y')\n",
    "K = kern.Kernel()"
   ]
  },
  {
   "cell_type": "markdown",
   "metadata": {},
   "source": [
    "## 1. Induding prior"
   ]
  },
  {
   "cell_type": "code",
   "execution_count": 3,
   "metadata": {
    "collapsed": false
   },
   "outputs": [
    {
     "name": "stdout",
     "output_type": "stream",
     "text": [
      "p_u:\n"
     ]
    },
    {
     "data": {
      "text/latex": [
       "\\begin{align*}\n",
       "p\\left(\\mathbf{u}\\right)&= \\mathcal{N}\\left(\\mathbf{m}_{\\mathbf{u}},\\mathbf{\\Sigma}_{\\mathbf{u}}\\right)\\\\\n",
       "\\mathbf{m}_{\\mathbf{u}} &= \\mathbf{0}\\\\\n",
       "\\mathbf{\\Sigma}_{\\mathbf{u}} &= \\mathbf{K}_{\\mathbf{u},\\mathbf{u}}\\\\\n",
       "\\end{align*}"
      ],
      "text/plain": [
       "<IPython.core.display.Latex object>"
      ]
     },
     "metadata": {},
     "output_type": "display_data"
    }
   ],
   "source": [
    "u = Variable('u',m,1)\n",
    "p_u = MVG([u],mean=ZeroMatrix(m,1),cov=K(u,u))\n",
    "\n",
    "print(\"p_u:\")\n",
    "display(Latex(utils.matLatex(p_u)))"
   ]
  },
  {
   "cell_type": "markdown",
   "metadata": {},
   "source": [
    "## 2. Training and Test Conditionals"
   ]
  },
  {
   "cell_type": "code",
   "execution_count": 4,
   "metadata": {
    "collapsed": false
   },
   "outputs": [
    {
     "name": "stdout",
     "output_type": "stream",
     "text": [
      "q_fgu:\n"
     ]
    },
    {
     "data": {
      "text/latex": [
       "\\begin{align*}\n",
       "q_{FITC}\\left(\\mathbf{f}|\\mathbf{u}\\right)&= \\mathcal{N}\\left(\\mathbf{m}_{\\mathbf{f}|\\mathbf{u}},\\mathbf{\\Sigma}_{\\mathbf{f}|\\mathbf{u}}\\right)\\\\\n",
       "\\mathbf{m}_{\\mathbf{f}|\\mathbf{u}} &= \\mathbf{K}_{\\mathbf{f},\\mathbf{u}} \\mathbf{K}_{\\mathbf{u},\\mathbf{u}}^{-1} \\mathbf{u}\\\\\n",
       "\\mathbf{\\Sigma}_{\\mathbf{f}|\\mathbf{u}} &= \\text{diag}[\\mathbf{K}_{\\mathbf{f},\\mathbf{f}} - \\mathbf{K}_{\\mathbf{f},\\mathbf{u}} \\mathbf{K}_{\\mathbf{u},\\mathbf{u}}^{-1} \\mathbf{K}_{\\mathbf{u},\\mathbf{f}}]\\\\\n",
       "\\end{align*}"
      ],
      "text/plain": [
       "<IPython.core.display.Latex object>"
      ]
     },
     "metadata": {},
     "output_type": "display_data"
    }
   ],
   "source": [
    "f, fs, y = utils.variables(\"f fs y\",[n, l, n])\n",
    "\n",
    "q_fgu = MVG([f], mean=K(f,u)*K(u,u).I*u,\n",
    "                 cov=SuperDiagMat(K(f,f)-K(f,u)*K(u,u).I*K(u,f)),\n",
    "                 cond_vars=[u],\n",
    "                 prefix='q_{FITC}')\n",
    "\n",
    "print(\"q_fgu:\")\n",
    "display(Latex(utils.matLatex(q_fgu)))"
   ]
  },
  {
   "cell_type": "code",
   "execution_count": 5,
   "metadata": {
    "collapsed": false
   },
   "outputs": [
    {
     "name": "stdout",
     "output_type": "stream",
     "text": [
      "q_fgu:\n"
     ]
    },
    {
     "data": {
      "text/latex": [
       "\\begin{align*}\n",
       "q_{FITC}\\left(\\mathbf{fs}|\\mathbf{u}\\right)&= \\mathcal{N}\\left(\\mathbf{m}_{\\mathbf{fs}|\\mathbf{u}},\\mathbf{\\Sigma}_{\\mathbf{fs}|\\mathbf{u}}\\right)\\\\\n",
       "\\mathbf{m}_{\\mathbf{fs}|\\mathbf{u}} &= \\mathbf{K}_{\\mathbf{fs},\\mathbf{u}} \\mathbf{K}_{\\mathbf{u},\\mathbf{u}}^{-1} \\mathbf{u}\\\\\n",
       "\\mathbf{\\Sigma}_{\\mathbf{fs}|\\mathbf{u}} &= \\mathbf{K}_{\\mathbf{fs},\\mathbf{fs}} - \\mathbf{K}_{\\mathbf{fs},\\mathbf{u}} \\mathbf{K}_{\\mathbf{u},\\mathbf{u}}^{-1} \\mathbf{K}_{\\mathbf{u},\\mathbf{fs}}\\\\\n",
       "\\end{align*}"
      ],
      "text/plain": [
       "<IPython.core.display.Latex object>"
      ]
     },
     "metadata": {},
     "output_type": "display_data"
    }
   ],
   "source": [
    "q_fsgu = MVG([fs], mean=K(fs,u)*K(u,u).I*u,\n",
    "                   cov=K(fs,fs)-K(fs,u)*K(u,u).I*K(u,fs),\n",
    "                   cond_vars=[u],\n",
    "                   prefix='q_{FITC}')\n",
    "\n",
    "print(\"q_fgu:\")\n",
    "display(Latex(utils.matLatex(q_fsgu)))"
   ]
  },
  {
   "cell_type": "code",
   "execution_count": 6,
   "metadata": {
    "collapsed": false
   },
   "outputs": [
    {
     "name": "stdout",
     "output_type": "stream",
     "text": [
      "q_f_fs_g_u:\n"
     ]
    },
    {
     "data": {
      "text/latex": [
       "\\begin{align*}\n",
       "q_{FITC}\\left(\\mathbf{f},\\mathbf{fs}|\\mathbf{u}\\right)&= \\mathcal{N}\\left(\\mathbf{m}_{\\mathbf{f},\\mathbf{fs}|\\mathbf{u}},\\mathbf{\\Sigma}_{\\mathbf{f},\\mathbf{fs}|\\mathbf{u}}\\right)\\\\\n",
       "\\mathbf{m}_{\\mathbf{f},\\mathbf{fs}|\\mathbf{u}} &= \\left[\\begin{smallmatrix}\\mathbf{K}_{\\mathbf{f},\\mathbf{u}} \\mathbf{K}_{\\mathbf{u},\\mathbf{u}}^{-1} \\mathbf{u}\\\\\\mathbf{K}_{\\mathbf{fs},\\mathbf{u}} \\mathbf{K}_{\\mathbf{u},\\mathbf{u}}^{-1} \\mathbf{u}\\end{smallmatrix}\\right]\\\\\n",
       "\\mathbf{\\Sigma}_{\\mathbf{f},\\mathbf{fs}|\\mathbf{u}} &= \\left[\\begin{smallmatrix}\\text{diag}[\\mathbf{K}_{\\mathbf{f},\\mathbf{f}} - \\mathbf{K}_{\\mathbf{f},\\mathbf{u}} \\mathbf{K}_{\\mathbf{u},\\mathbf{u}}^{-1} \\mathbf{K}_{\\mathbf{u},\\mathbf{f}}]&\\mathbf{0}\\\\\\mathbf{0}&\\mathbf{K}_{\\mathbf{fs},\\mathbf{fs}} - \\mathbf{K}_{\\mathbf{fs},\\mathbf{u}} \\mathbf{K}_{\\mathbf{u},\\mathbf{u}}^{-1} \\mathbf{K}_{\\mathbf{u},\\mathbf{fs}}\\end{smallmatrix}\\right]\\\\\n",
       "\\end{align*}"
      ],
      "text/plain": [
       "<IPython.core.display.Latex object>"
      ]
     },
     "metadata": {},
     "output_type": "display_data"
    }
   ],
   "source": [
    "# q(f,fs|u)\n",
    "q_f_fs_g_u = q_fgu*q_fsgu\n",
    "\n",
    "print(\"q_f_fs_g_u:\")\n",
    "display(Latex(utils.matLatex(q_f_fs_g_u)))"
   ]
  },
  {
   "cell_type": "code",
   "execution_count": 7,
   "metadata": {
    "collapsed": false
   },
   "outputs": [
    {
     "name": "stdout",
     "output_type": "stream",
     "text": [
      "q_f_fs_u:\n"
     ]
    },
    {
     "data": {
      "text/latex": [
       "\\begin{align*}\n",
       "q_{FITC}\\left(\\mathbf{f},\\mathbf{fs},\\mathbf{u}\\right)&= \\mathcal{N}\\left(\\mathbf{m}_{\\mathbf{f},\\mathbf{fs},\\mathbf{u}},\\mathbf{\\Sigma}_{\\mathbf{f},\\mathbf{fs},\\mathbf{u}}\\right)\\\\\n",
       "\\mathbf{m}_{\\mathbf{f},\\mathbf{fs},\\mathbf{u}} &= \\left[\\begin{smallmatrix}\\mathbf{0}\\\\\\mathbf{0}\\\\\\mathbf{0}\\end{smallmatrix}\\right]\\\\\n",
       "\\mathbf{\\Sigma}_{\\mathbf{f},\\mathbf{fs},\\mathbf{u}} &= \\left[\\begin{smallmatrix}\\text{diag}[\\mathbf{K}_{\\mathbf{f},\\mathbf{f}} - \\mathbf{K}_{\\mathbf{f},\\mathbf{u}} \\mathbf{K}_{\\mathbf{u},\\mathbf{u}}^{-1} \\mathbf{K}_{\\mathbf{u},\\mathbf{f}}] + \\mathbf{K}_{\\mathbf{f},\\mathbf{u}} \\mathbf{K}_{\\mathbf{u},\\mathbf{u}}^{-1} \\mathbf{K}_{\\mathbf{u},\\mathbf{f}}&\\mathbf{K}_{\\mathbf{f},\\mathbf{u}} \\mathbf{K}_{\\mathbf{u},\\mathbf{u}}^{-1} \\mathbf{K}_{\\mathbf{u},\\mathbf{fs}}&\\mathbf{K}_{\\mathbf{f},\\mathbf{u}}\\\\\\mathbf{K}_{\\mathbf{fs},\\mathbf{u}} \\mathbf{K}_{\\mathbf{u},\\mathbf{u}}^{-1} \\mathbf{K}_{\\mathbf{u},\\mathbf{f}}&\\mathbf{K}_{\\mathbf{fs},\\mathbf{fs}}&\\mathbf{K}_{\\mathbf{fs},\\mathbf{u}}\\\\\\mathbf{K}_{\\mathbf{u},\\mathbf{f}}&\\mathbf{K}_{\\mathbf{u},\\mathbf{fs}}&\\mathbf{K}_{\\mathbf{u},\\mathbf{u}}\\end{smallmatrix}\\right]\\\\\n",
       "\\end{align*}"
      ],
      "text/plain": [
       "<IPython.core.display.Latex object>"
      ]
     },
     "metadata": {},
     "output_type": "display_data"
    }
   ],
   "source": [
    "# q(f,fs,u)\n",
    "q_f_fs_u = q_f_fs_g_u*p_u\n",
    "\n",
    "print(\"q_f_fs_u:\")\n",
    "display(Latex(utils.matLatex(q_f_fs_u)))"
   ]
  },
  {
   "cell_type": "code",
   "execution_count": 8,
   "metadata": {
    "collapsed": false
   },
   "outputs": [
    {
     "name": "stdout",
     "output_type": "stream",
     "text": [
      "q_f_fs:\n"
     ]
    },
    {
     "data": {
      "text/latex": [
       "\\begin{align*}\n",
       "q_{FITC}\\left(\\mathbf{f},\\mathbf{fs}\\right)&= \\mathcal{N}\\left(\\mathbf{m}_{\\mathbf{f},\\mathbf{fs}},\\mathbf{\\Sigma}_{\\mathbf{f},\\mathbf{fs}}\\right)\\\\\n",
       "\\mathbf{m}_{\\mathbf{f},\\mathbf{fs}} &= \\left[\\begin{smallmatrix}\\mathbf{0}\\\\\\mathbf{0}\\end{smallmatrix}\\right]\\\\\n",
       "\\mathbf{\\Sigma}_{\\mathbf{f},\\mathbf{fs}} &= \\left[\\begin{smallmatrix}\\text{diag}[\\mathbf{K}_{\\mathbf{f},\\mathbf{f}} - \\mathbf{K}_{\\mathbf{f},\\mathbf{u}} \\mathbf{K}_{\\mathbf{u},\\mathbf{u}}^{-1} \\mathbf{K}_{\\mathbf{u},\\mathbf{f}}] + \\mathbf{K}_{\\mathbf{f},\\mathbf{u}} \\mathbf{K}_{\\mathbf{u},\\mathbf{u}}^{-1} \\mathbf{K}_{\\mathbf{u},\\mathbf{f}}&\\mathbf{K}_{\\mathbf{f},\\mathbf{u}} \\mathbf{K}_{\\mathbf{u},\\mathbf{u}}^{-1} \\mathbf{K}_{\\mathbf{u},\\mathbf{fs}}\\\\\\mathbf{K}_{\\mathbf{fs},\\mathbf{u}} \\mathbf{K}_{\\mathbf{u},\\mathbf{u}}^{-1} \\mathbf{K}_{\\mathbf{u},\\mathbf{f}}&\\mathbf{K}_{\\mathbf{fs},\\mathbf{fs}}\\end{smallmatrix}\\right]\\\\\n",
       "\\end{align*}"
      ],
      "text/plain": [
       "<IPython.core.display.Latex object>"
      ]
     },
     "metadata": {},
     "output_type": "display_data"
    }
   ],
   "source": [
    "# Effective prior: q(f,fs)\n",
    "q_f_fs = q_f_fs_u.marginalize([u])\n",
    "\n",
    "print(\"q_f_fs:\")\n",
    "display(Latex(utils.matLatex(q_f_fs)))"
   ]
  },
  {
   "cell_type": "markdown",
   "metadata": {},
   "source": [
    "## 3. Likelihood"
   ]
  },
  {
   "cell_type": "code",
   "execution_count": 9,
   "metadata": {
    "collapsed": false
   },
   "outputs": [
    {
     "name": "stdout",
     "output_type": "stream",
     "text": [
      "p_ygf:\n"
     ]
    },
    {
     "data": {
      "text/latex": [
       "\\begin{align*}\n",
       "p\\left(\\mathbf{y}|\\mathbf{f}\\right)&= \\mathcal{N}\\left(\\mathbf{m}_{\\mathbf{y}|\\mathbf{f}},\\mathbf{\\Sigma}_{\\mathbf{y}|\\mathbf{f}}\\right)\\\\\n",
       "\\mathbf{m}_{\\mathbf{y}|\\mathbf{f}} &= \\mathbf{f}\\\\\n",
       "\\mathbf{\\Sigma}_{\\mathbf{y}|\\mathbf{f}} &= \\sigma_y^{2} \\mathbf{I}\\\\\n",
       "\\end{align*}"
      ],
      "text/plain": [
       "<IPython.core.display.Latex object>"
      ]
     },
     "metadata": {},
     "output_type": "display_data"
    }
   ],
   "source": [
    "p_ygf = MVG([y],mean=f,cov=s_y**2*Identity(n),cond_vars=[f])\n",
    "\n",
    "print(\"p_ygf:\")\n",
    "display(Latex(utils.matLatex(p_ygf)))"
   ]
  },
  {
   "cell_type": "markdown",
   "metadata": {},
   "source": [
    "## 4. Inference "
   ]
  },
  {
   "cell_type": "code",
   "execution_count": 10,
   "metadata": {
    "collapsed": false
   },
   "outputs": [
    {
     "name": "stdout",
     "output_type": "stream",
     "text": [
      "q_f_fs_y:\n"
     ]
    },
    {
     "data": {
      "text/latex": [
       "\\begin{align*}\n",
       "q_{FITC}\\left(\\mathbf{y},\\mathbf{fs},\\mathbf{f}\\right)&= \\mathcal{N}\\left(\\mathbf{m}_{\\mathbf{y},\\mathbf{fs},\\mathbf{f}},\\mathbf{\\Sigma}_{\\mathbf{y},\\mathbf{fs},\\mathbf{f}}\\right)\\\\\n",
       "\\mathbf{m}_{\\mathbf{y},\\mathbf{fs},\\mathbf{f}} &= \\left[\\begin{smallmatrix}\\mathbf{0}\\\\\\mathbf{0}\\\\\\mathbf{0}\\end{smallmatrix}\\right]\\\\\n",
       "\\mathbf{\\Sigma}_{\\mathbf{y},\\mathbf{fs},\\mathbf{f}} &= \\left[\\begin{smallmatrix}\\sigma_y^{2} \\mathbf{I} + \\text{diag}[\\mathbf{K}_{\\mathbf{f},\\mathbf{f}} - \\mathbf{K}_{\\mathbf{f},\\mathbf{u}} \\mathbf{K}_{\\mathbf{u},\\mathbf{u}}^{-1} \\mathbf{K}_{\\mathbf{u},\\mathbf{f}}] + \\mathbf{K}_{\\mathbf{f},\\mathbf{u}} \\mathbf{K}_{\\mathbf{u},\\mathbf{u}}^{-1} \\mathbf{K}_{\\mathbf{u},\\mathbf{f}}&\\mathbf{K}_{\\mathbf{f},\\mathbf{u}} \\mathbf{K}_{\\mathbf{u},\\mathbf{u}}^{-1} \\mathbf{K}_{\\mathbf{u},\\mathbf{fs}}&\\text{diag}[\\mathbf{K}_{\\mathbf{f},\\mathbf{f}} - \\mathbf{K}_{\\mathbf{f},\\mathbf{u}} \\mathbf{K}_{\\mathbf{u},\\mathbf{u}}^{-1} \\mathbf{K}_{\\mathbf{u},\\mathbf{f}}] + \\mathbf{K}_{\\mathbf{f},\\mathbf{u}} \\mathbf{K}_{\\mathbf{u},\\mathbf{u}}^{-1} \\mathbf{K}_{\\mathbf{u},\\mathbf{f}}\\\\\\mathbf{K}_{\\mathbf{fs},\\mathbf{u}} \\mathbf{K}_{\\mathbf{u},\\mathbf{u}}^{-1} \\mathbf{K}_{\\mathbf{u},\\mathbf{f}}&\\mathbf{K}_{\\mathbf{fs},\\mathbf{fs}}&\\mathbf{K}_{\\mathbf{fs},\\mathbf{u}} \\mathbf{K}_{\\mathbf{u},\\mathbf{u}}^{-1} \\mathbf{K}_{\\mathbf{u},\\mathbf{f}}\\\\\\text{diag}[\\mathbf{K}_{\\mathbf{f},\\mathbf{f}} - \\mathbf{K}_{\\mathbf{f},\\mathbf{u}} \\mathbf{K}_{\\mathbf{u},\\mathbf{u}}^{-1} \\mathbf{K}_{\\mathbf{u},\\mathbf{f}}] + \\mathbf{K}_{\\mathbf{f},\\mathbf{u}} \\mathbf{K}_{\\mathbf{u},\\mathbf{u}}^{-1} \\mathbf{K}_{\\mathbf{u},\\mathbf{f}}&\\mathbf{K}_{\\mathbf{f},\\mathbf{u}} \\mathbf{K}_{\\mathbf{u},\\mathbf{u}}^{-1} \\mathbf{K}_{\\mathbf{u},\\mathbf{fs}}&\\text{diag}[\\mathbf{K}_{\\mathbf{f},\\mathbf{f}} - \\mathbf{K}_{\\mathbf{f},\\mathbf{u}} \\mathbf{K}_{\\mathbf{u},\\mathbf{u}}^{-1} \\mathbf{K}_{\\mathbf{u},\\mathbf{f}}] + \\mathbf{K}_{\\mathbf{f},\\mathbf{u}} \\mathbf{K}_{\\mathbf{u},\\mathbf{u}}^{-1} \\mathbf{K}_{\\mathbf{u},\\mathbf{f}}\\end{smallmatrix}\\right]\\\\\n",
       "\\end{align*}"
      ],
      "text/plain": [
       "<IPython.core.display.Latex object>"
      ]
     },
     "metadata": {},
     "output_type": "display_data"
    }
   ],
   "source": [
    "# q(f,fs,y)\n",
    "q_f_fs_y = p_ygf*q_f_fs\n",
    "\n",
    "print(\"q_f_fs_y:\")\n",
    "display(Latex(utils.matLatex(q_f_fs_y)))"
   ]
  },
  {
   "cell_type": "code",
   "execution_count": 11,
   "metadata": {
    "collapsed": false
   },
   "outputs": [
    {
     "name": "stdout",
     "output_type": "stream",
     "text": [
      "q_f_fs_g_y:\n"
     ]
    },
    {
     "data": {
      "text/latex": [
       "\\begin{align*}\n",
       "q_{FITC}\\left(\\mathbf{fs},\\mathbf{f}|\\mathbf{y}\\right)&= \\mathcal{N}\\left(\\mathbf{m}_{\\mathbf{fs},\\mathbf{f}|\\mathbf{y}},\\mathbf{\\Sigma}_{\\mathbf{fs},\\mathbf{f}|\\mathbf{y}}\\right)\\\\\n",
       "\\mathbf{m}_{\\mathbf{fs},\\mathbf{f}|\\mathbf{y}} &= \\left[\\begin{smallmatrix}\\mathbf{K}_{\\mathbf{fs},\\mathbf{u}} \\mathbf{K}_{\\mathbf{u},\\mathbf{u}}^{-1} \\mathbf{K}_{\\mathbf{u},\\mathbf{f}} \\left(\\sigma_y^{2} \\mathbf{I} + \\text{diag}[\\mathbf{K}_{\\mathbf{f},\\mathbf{f}} - \\mathbf{K}_{\\mathbf{f},\\mathbf{u}} \\mathbf{K}_{\\mathbf{u},\\mathbf{u}}^{-1} \\mathbf{K}_{\\mathbf{u},\\mathbf{f}}] + \\mathbf{K}_{\\mathbf{f},\\mathbf{u}} \\mathbf{K}_{\\mathbf{u},\\mathbf{u}}^{-1} \\mathbf{K}_{\\mathbf{u},\\mathbf{f}}\\right)^{-1} \\mathbf{y}\\\\\\left(\\text{diag}[\\mathbf{K}_{\\mathbf{f},\\mathbf{f}} - \\mathbf{K}_{\\mathbf{f},\\mathbf{u}} \\mathbf{K}_{\\mathbf{u},\\mathbf{u}}^{-1} \\mathbf{K}_{\\mathbf{u},\\mathbf{f}}] + \\mathbf{K}_{\\mathbf{f},\\mathbf{u}} \\mathbf{K}_{\\mathbf{u},\\mathbf{u}}^{-1} \\mathbf{K}_{\\mathbf{u},\\mathbf{f}}\\right) \\left(\\sigma_y^{2} \\mathbf{I} + \\text{diag}[\\mathbf{K}_{\\mathbf{f},\\mathbf{f}} - \\mathbf{K}_{\\mathbf{f},\\mathbf{u}} \\mathbf{K}_{\\mathbf{u},\\mathbf{u}}^{-1} \\mathbf{K}_{\\mathbf{u},\\mathbf{f}}] + \\mathbf{K}_{\\mathbf{f},\\mathbf{u}} \\mathbf{K}_{\\mathbf{u},\\mathbf{u}}^{-1} \\mathbf{K}_{\\mathbf{u},\\mathbf{f}}\\right)^{-1} \\mathbf{y}\\end{smallmatrix}\\right]\\\\\n",
       "\\mathbf{\\Sigma}_{\\mathbf{fs},\\mathbf{f}|\\mathbf{y}} &= \\left[\\begin{smallmatrix}\\mathbf{K}_{\\mathbf{fs},\\mathbf{fs}} - \\mathbf{K}_{\\mathbf{fs},\\mathbf{u}} \\mathbf{K}_{\\mathbf{u},\\mathbf{u}}^{-1} \\mathbf{K}_{\\mathbf{u},\\mathbf{f}} \\left(\\sigma_y^{2} \\mathbf{I} + \\text{diag}[\\mathbf{K}_{\\mathbf{f},\\mathbf{f}} - \\mathbf{K}_{\\mathbf{f},\\mathbf{u}} \\mathbf{K}_{\\mathbf{u},\\mathbf{u}}^{-1} \\mathbf{K}_{\\mathbf{u},\\mathbf{f}}] + \\mathbf{K}_{\\mathbf{f},\\mathbf{u}} \\mathbf{K}_{\\mathbf{u},\\mathbf{u}}^{-1} \\mathbf{K}_{\\mathbf{u},\\mathbf{f}}\\right)^{-1} \\mathbf{K}_{\\mathbf{f},\\mathbf{u}} \\mathbf{K}_{\\mathbf{u},\\mathbf{u}}^{-1} \\mathbf{K}_{\\mathbf{u},\\mathbf{fs}}&\\mathbf{K}_{\\mathbf{fs},\\mathbf{u}} \\mathbf{K}_{\\mathbf{u},\\mathbf{u}}^{-1} \\mathbf{K}_{\\mathbf{u},\\mathbf{f}} - \\mathbf{K}_{\\mathbf{fs},\\mathbf{u}} \\mathbf{K}_{\\mathbf{u},\\mathbf{u}}^{-1} \\mathbf{K}_{\\mathbf{u},\\mathbf{f}} \\left(\\sigma_y^{2} \\mathbf{I} + \\text{diag}[\\mathbf{K}_{\\mathbf{f},\\mathbf{f}} - \\mathbf{K}_{\\mathbf{f},\\mathbf{u}} \\mathbf{K}_{\\mathbf{u},\\mathbf{u}}^{-1} \\mathbf{K}_{\\mathbf{u},\\mathbf{f}}] + \\mathbf{K}_{\\mathbf{f},\\mathbf{u}} \\mathbf{K}_{\\mathbf{u},\\mathbf{u}}^{-1} \\mathbf{K}_{\\mathbf{u},\\mathbf{f}}\\right)^{-1} \\left(\\text{diag}[\\mathbf{K}_{\\mathbf{f},\\mathbf{f}} - \\mathbf{K}_{\\mathbf{f},\\mathbf{u}} \\mathbf{K}_{\\mathbf{u},\\mathbf{u}}^{-1} \\mathbf{K}_{\\mathbf{u},\\mathbf{f}}] + \\mathbf{K}_{\\mathbf{f},\\mathbf{u}} \\mathbf{K}_{\\mathbf{u},\\mathbf{u}}^{-1} \\mathbf{K}_{\\mathbf{u},\\mathbf{f}}\\right)\\\\\\mathbf{K}_{\\mathbf{f},\\mathbf{u}} \\mathbf{K}_{\\mathbf{u},\\mathbf{u}}^{-1} \\mathbf{K}_{\\mathbf{u},\\mathbf{fs}} - \\left(\\text{diag}[\\mathbf{K}_{\\mathbf{f},\\mathbf{f}} - \\mathbf{K}_{\\mathbf{f},\\mathbf{u}} \\mathbf{K}_{\\mathbf{u},\\mathbf{u}}^{-1} \\mathbf{K}_{\\mathbf{u},\\mathbf{f}}] + \\mathbf{K}_{\\mathbf{f},\\mathbf{u}} \\mathbf{K}_{\\mathbf{u},\\mathbf{u}}^{-1} \\mathbf{K}_{\\mathbf{u},\\mathbf{f}}\\right) \\left(\\sigma_y^{2} \\mathbf{I} + \\text{diag}[\\mathbf{K}_{\\mathbf{f},\\mathbf{f}} - \\mathbf{K}_{\\mathbf{f},\\mathbf{u}} \\mathbf{K}_{\\mathbf{u},\\mathbf{u}}^{-1} \\mathbf{K}_{\\mathbf{u},\\mathbf{f}}] + \\mathbf{K}_{\\mathbf{f},\\mathbf{u}} \\mathbf{K}_{\\mathbf{u},\\mathbf{u}}^{-1} \\mathbf{K}_{\\mathbf{u},\\mathbf{f}}\\right)^{-1} \\mathbf{K}_{\\mathbf{f},\\mathbf{u}} \\mathbf{K}_{\\mathbf{u},\\mathbf{u}}^{-1} \\mathbf{K}_{\\mathbf{u},\\mathbf{fs}}&\\text{diag}[\\mathbf{K}_{\\mathbf{f},\\mathbf{f}} - \\mathbf{K}_{\\mathbf{f},\\mathbf{u}} \\mathbf{K}_{\\mathbf{u},\\mathbf{u}}^{-1} \\mathbf{K}_{\\mathbf{u},\\mathbf{f}}] + \\mathbf{K}_{\\mathbf{f},\\mathbf{u}} \\mathbf{K}_{\\mathbf{u},\\mathbf{u}}^{-1} \\mathbf{K}_{\\mathbf{u},\\mathbf{f}} - \\left(\\text{diag}[\\mathbf{K}_{\\mathbf{f},\\mathbf{f}} - \\mathbf{K}_{\\mathbf{f},\\mathbf{u}} \\mathbf{K}_{\\mathbf{u},\\mathbf{u}}^{-1} \\mathbf{K}_{\\mathbf{u},\\mathbf{f}}] + \\mathbf{K}_{\\mathbf{f},\\mathbf{u}} \\mathbf{K}_{\\mathbf{u},\\mathbf{u}}^{-1} \\mathbf{K}_{\\mathbf{u},\\mathbf{f}}\\right) \\left(\\sigma_y^{2} \\mathbf{I} + \\text{diag}[\\mathbf{K}_{\\mathbf{f},\\mathbf{f}} - \\mathbf{K}_{\\mathbf{f},\\mathbf{u}} \\mathbf{K}_{\\mathbf{u},\\mathbf{u}}^{-1} \\mathbf{K}_{\\mathbf{u},\\mathbf{f}}] + \\mathbf{K}_{\\mathbf{f},\\mathbf{u}} \\mathbf{K}_{\\mathbf{u},\\mathbf{u}}^{-1} \\mathbf{K}_{\\mathbf{u},\\mathbf{f}}\\right)^{-1} \\left(\\text{diag}[\\mathbf{K}_{\\mathbf{f},\\mathbf{f}} - \\mathbf{K}_{\\mathbf{f},\\mathbf{u}} \\mathbf{K}_{\\mathbf{u},\\mathbf{u}}^{-1} \\mathbf{K}_{\\mathbf{u},\\mathbf{f}}] + \\mathbf{K}_{\\mathbf{f},\\mathbf{u}} \\mathbf{K}_{\\mathbf{u},\\mathbf{u}}^{-1} \\mathbf{K}_{\\mathbf{u},\\mathbf{f}}\\right)\\end{smallmatrix}\\right]\\\\\n",
       "\\end{align*}"
      ],
      "text/plain": [
       "<IPython.core.display.Latex object>"
      ]
     },
     "metadata": {},
     "output_type": "display_data"
    }
   ],
   "source": [
    "# q(f,fs|y)\n",
    "q_f_fs_g_y = q_f_fs_y.condition([y])\n",
    "\n",
    "print(\"q_f_fs_g_y:\")\n",
    "display(Latex(utils.matLatex(q_f_fs_g_y)))"
   ]
  },
  {
   "cell_type": "code",
   "execution_count": 12,
   "metadata": {
    "collapsed": false
   },
   "outputs": [
    {
     "name": "stdout",
     "output_type": "stream",
     "text": [
      "q_fs_g_y:\n"
     ]
    },
    {
     "data": {
      "text/latex": [
       "\\begin{align*}\n",
       "q_{FITC}\\left(\\mathbf{fs}|\\mathbf{y}\\right)&= \\mathcal{N}\\left(\\mathbf{m}_{\\mathbf{fs}|\\mathbf{y}},\\mathbf{\\Sigma}_{\\mathbf{fs}|\\mathbf{y}}\\right)\\\\\n",
       "\\mathbf{m}_{\\mathbf{fs}|\\mathbf{y}} &= \\mathbf{K}_{\\mathbf{fs},\\mathbf{u}} \\mathbf{K}_{\\mathbf{u},\\mathbf{u}}^{-1} \\mathbf{K}_{\\mathbf{u},\\mathbf{f}} \\left(\\sigma_y^{2} \\mathbf{I} + \\text{diag}[\\mathbf{K}_{\\mathbf{f},\\mathbf{f}} - \\mathbf{K}_{\\mathbf{f},\\mathbf{u}} \\mathbf{K}_{\\mathbf{u},\\mathbf{u}}^{-1} \\mathbf{K}_{\\mathbf{u},\\mathbf{f}}] + \\mathbf{K}_{\\mathbf{f},\\mathbf{u}} \\mathbf{K}_{\\mathbf{u},\\mathbf{u}}^{-1} \\mathbf{K}_{\\mathbf{u},\\mathbf{f}}\\right)^{-1} \\mathbf{y}\\\\\n",
       "\\mathbf{\\Sigma}_{\\mathbf{fs}|\\mathbf{y}} &= \\mathbf{K}_{\\mathbf{fs},\\mathbf{fs}} - \\mathbf{K}_{\\mathbf{fs},\\mathbf{u}} \\mathbf{K}_{\\mathbf{u},\\mathbf{u}}^{-1} \\mathbf{K}_{\\mathbf{u},\\mathbf{f}} \\left(\\sigma_y^{2} \\mathbf{I} + \\text{diag}[\\mathbf{K}_{\\mathbf{f},\\mathbf{f}} - \\mathbf{K}_{\\mathbf{f},\\mathbf{u}} \\mathbf{K}_{\\mathbf{u},\\mathbf{u}}^{-1} \\mathbf{K}_{\\mathbf{u},\\mathbf{f}}] + \\mathbf{K}_{\\mathbf{f},\\mathbf{u}} \\mathbf{K}_{\\mathbf{u},\\mathbf{u}}^{-1} \\mathbf{K}_{\\mathbf{u},\\mathbf{f}}\\right)^{-1} \\mathbf{K}_{\\mathbf{f},\\mathbf{u}} \\mathbf{K}_{\\mathbf{u},\\mathbf{u}}^{-1} \\mathbf{K}_{\\mathbf{u},\\mathbf{fs}}\\\\\n",
       "\\end{align*}"
      ],
      "text/plain": [
       "<IPython.core.display.Latex object>"
      ]
     },
     "metadata": {},
     "output_type": "display_data"
    }
   ],
   "source": [
    "# q(fs|y)\n",
    "q_fs_g_y = q_f_fs_g_y.marginalize([f])\n",
    "\n",
    "print(\"q_fs_g_y:\")\n",
    "display(Latex(utils.matLatex(q_fs_g_y)))"
   ]
  },
  {
   "cell_type": "code",
   "execution_count": 15,
   "metadata": {
    "collapsed": false
   },
   "outputs": [
    {
     "name": "stdout",
     "output_type": "stream",
     "text": [
      "Q(fs,f)*(Q(f,f) + σ_y**2*I + SuperDiagMat(K(f,f) + (-1)*Q(f,f)))^-1*y\n",
      "K(fs,fs) + (-1)*Q(fs,f)*(Q(f,f) + σ_y**2*I + SuperDiagMat(K(f,f) + (-1)*Q(f,f)))^-1*Q(f,fs)\n",
      "q_fs_g_y (replaced):\n"
     ]
    },
    {
     "data": {
      "text/latex": [
       "\\begin{align*}\n",
       "q_{FITC}\\left(\\mathbf{fs}|\\mathbf{y}\\right)&= \\mathcal{N}\\left(\\mathbf{m}_{\\mathbf{fs}|\\mathbf{y}},\\mathbf{\\Sigma}_{\\mathbf{fs}|\\mathbf{y}}\\right)\\\\\n",
       "\\mathbf{m}_{\\mathbf{fs}|\\mathbf{y}} &= \\mathbf{Q}_{\\mathbf{fs},\\mathbf{f}} \\left(\\mathbf{Q}_{\\mathbf{f},\\mathbf{f}} + \\sigma_y^{2} \\mathbf{I} + \\text{diag}[\\mathbf{K}_{\\mathbf{f},\\mathbf{f}} - \\mathbf{Q}_{\\mathbf{f},\\mathbf{f}}]\\right)^{-1} \\mathbf{y}\\\\\n",
       "\\mathbf{\\Sigma}_{\\mathbf{fs}|\\mathbf{y}} &= \\mathbf{K}_{\\mathbf{fs},\\mathbf{fs}} - \\mathbf{Q}_{\\mathbf{fs},\\mathbf{f}} \\left(\\mathbf{Q}_{\\mathbf{f},\\mathbf{f}} + \\sigma_y^{2} \\mathbf{I} + \\text{diag}[\\mathbf{K}_{\\mathbf{f},\\mathbf{f}} - \\mathbf{Q}_{\\mathbf{f},\\mathbf{f}}]\\right)^{-1} \\mathbf{Q}_{\\mathbf{f},\\mathbf{fs}}\\\\\n",
       "\\end{align*}"
      ],
      "text/plain": [
       "<IPython.core.display.Latex object>"
      ]
     },
     "metadata": {},
     "output_type": "display_data"
    }
   ],
   "source": [
    "Q = kern.Kernel(name='Q')\n",
    "repl_dict = {K(fs,u)*K(u,u).I*K(u,f): Q(fs,f),\n",
    "             K(f,u)*K(u,u).I*K(u,f): Q(f,f),\n",
    "             K(f,u)*K(u,u).I*K(u,fs): Q(f,fs)}\n",
    "\n",
    "q_fs_g_y.mean.expanded = utils.replace(q_fs_g_y.mean, repl_dict)\n",
    "q_fs_g_y.covar.expanded = utils.replace(q_fs_g_y.covar, repl_dict)\n",
    "\n",
    "print(\"q_fs_g_y (replaced):\")\n",
    "display(Latex(utils.matLatex(q_fs_g_y)))"
   ]
  },
  {
   "cell_type": "code",
   "execution_count": null,
   "metadata": {
    "collapsed": true
   },
   "outputs": [],
   "source": []
  }
 ],
 "metadata": {
  "anaconda-cloud": {},
  "kernelspec": {
   "display_name": "Python [Root]",
   "language": "python",
   "name": "Python [Root]"
  },
  "language_info": {
   "codemirror_mode": {
    "name": "ipython",
    "version": 3
   },
   "file_extension": ".py",
   "mimetype": "text/x-python",
   "name": "python",
   "nbconvert_exporter": "python",
   "pygments_lexer": "ipython3",
   "version": "3.5.2"
  },
  "latex_envs": {
   "bibliofile": "biblio.bib",
   "cite_by": "apalike",
   "current_citInitial": 1,
   "eqLabelWithNumbers": true,
   "eqNumInitial": 0
  }
 },
 "nbformat": 4,
 "nbformat_minor": 0
}
