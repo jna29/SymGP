{
 "cells": [
  {
   "cell_type": "markdown",
   "metadata": {},
   "source": [
    "# Kalman Filter"
   ]
  },
  {
   "cell_type": "code",
   "execution_count": 2,
   "metadata": {
    "collapsed": false
   },
   "outputs": [],
   "source": [
    "from sympy import *\n",
    "import utils as utils\n",
    "import SuperMatExpr as SME\n",
    "import MVG as MVG\n",
    "from IPython.display import display, Math, Latex"
   ]
  },
  {
   "cell_type": "code",
   "execution_count": 3,
   "metadata": {
    "collapsed": true
   },
   "outputs": [],
   "source": [
    "# Shapes\n",
    "m, n = symbols('m n')"
   ]
  },
  {
   "cell_type": "markdown",
   "metadata": {},
   "source": [
    "## 1. Variables"
   ]
  },
  {
   "cell_type": "code",
   "execution_count": 7,
   "metadata": {
    "collapsed": false
   },
   "outputs": [],
   "source": [
    "# Variables                               \n",
    "x_prev = SME.SuperMatSymbol(m,1,name='x_{t-1}',mat_type='var')    # x_(t-1)\n",
    "x_t = SME.SuperMatSymbol(m,1,name='x_t',mat_type='var')           # x_t\n",
    "y_prev = SME.SuperMatSymbol(n,1,name='y_{1:t-1}',mat_type='var')  # y_(1:t-1) \n",
    "y_t = SME.SuperMatSymbol(n,1,name='y_t',mat_type='var')           # y_t\n",
    "b_t = SME.SuperMatSymbol(m,1,name='b_t',mat_type='var')           # b_t\n",
    "d_t = SME.SuperMatSymbol(n,1,name='d_t',mat_type='var')           # d_t\n",
    "w_t = SME.SuperMatSymbol(m,1,name='w_t',mat_type='var')           # w_t\n",
    "e_t = SME.SuperMatSymbol(n,1,name='e_t',mat_type='var')           # e_t"
   ]
  },
  {
   "cell_type": "markdown",
   "metadata": {},
   "source": [
    "## 2. Constant Parameters"
   ]
  },
  {
   "cell_type": "code",
   "execution_count": 8,
   "metadata": {
    "collapsed": false
   },
   "outputs": [],
   "source": [
    "# Constant parameters\n",
    "A = SME.SuperMatSymbol(m,m,name='A',mat_type='other')                                     \n",
    "Q = SME.SuperMatSymbol(m,m,name='Q',mat_type='covar',dep_vars=[w_t])\n",
    "R = SME.SuperMatSymbol(n,n,name='R',mat_type='covar',dep_vars=[e_t])\n",
    "C = SME.SuperMatSymbol(n,m,name='B',mat_type='other')"
   ]
  },
  {
   "cell_type": "markdown",
   "metadata": {},
   "source": [
    "## 3. p(x_(t-1)|y_(1:t-1))"
   ]
  },
  {
   "cell_type": "code",
   "execution_count": 9,
   "metadata": {
    "collapsed": false
   },
   "outputs": [
    {
     "name": "stdout",
     "output_type": "stream",
     "text": [
      "p_xprev:\n"
     ]
    },
    {
     "data": {
      "text/latex": [
       "\\begin{align*}\n",
       "p\\left(\\mathbf{x_{t-1}}|\\mathbf{y_{1:t-1}}\\right)&= \\mathcal{N}\\left(\\mathbf{m}_{\\mathbf{x_{t-1}}|\\mathbf{y_{1:t-1}}},\\mathbf{\\Sigma}_{\\mathbf{x_{t-1}}|\\mathbf{y_{1:t-1}}}\\right)\\\\\n",
       "\\end{align*}"
      ],
      "text/plain": [
       "<IPython.core.display.Latex object>"
      ]
     },
     "metadata": {},
     "output_type": "display_data"
    }
   ],
   "source": [
    "# p(x_(t-1)|y_(1:t-1))\n",
    "f_prev = SME.SuperMatSymbol(m,1,name='m_{t|t}',mat_type='mean',dep_vars=[x_prev])   # \\hat{x}_(t|t) (mean)\n",
    "F_prev = SME.SuperMatSymbol(m,m,name='P_{t|t}',mat_type='covar',dep_vars=[x_prev])  # P_(t|t) (covariance)\n",
    "p_xprev = MVG.MVG([x_prev], moments=[f_prev, F_prev, utils.getZ(F_prev)], conditioned_vars=[y_prev])\n",
    "\n",
    "print(\"p_xprev:\")\n",
    "display(Latex(utils.matLatex(p_xprev)))"
   ]
  },
  {
   "cell_type": "markdown",
   "metadata": {},
   "source": [
    "## 4. p(x_t|x_(t-1))"
   ]
  },
  {
   "cell_type": "code",
   "execution_count": 10,
   "metadata": {
    "collapsed": false
   },
   "outputs": [
    {
     "name": "stdout",
     "output_type": "stream",
     "text": [
      "p_xt:\n"
     ]
    },
    {
     "data": {
      "text/latex": [
       "\\begin{align*}\n",
       "p\\left(\\mathbf{x_t}|\\mathbf{x_{t-1}}\\right)&= \\mathcal{N}\\left(\\mathbf{m}_{\\mathbf{x_t}|\\mathbf{x_{t-1}}},\\mathbf{\\Sigma}_{\\mathbf{x_t}|\\mathbf{x_{t-1}}}\\right)\\\\\n",
       "\\mathbf{m}_{\\mathbf{x_t}|\\mathbf{x_{t-1}}} &= \\mathbf{A} \\mathbf{x_{t-1}} + \\mathbf{b_t}\\\\\n",
       "\\mathbf{\\Sigma}_{\\mathbf{x_t}|\\mathbf{x_{t-1}}} &= \\Sigma_{\\mathbf{w_t}}\\\\\n",
       "\\end{align*}"
      ],
      "text/plain": [
       "<IPython.core.display.Latex object>"
      ]
     },
     "metadata": {},
     "output_type": "display_data"
    }
   ],
   "source": [
    "m_xt = SME.SuperMatSymbol(m,1,mat_type='mean',dep_vars=[x_t],cond_vars=[x_prev],expanded=A*x_prev + b_t) \n",
    "cov_xt = SME.SuperMatSymbol(m,m,mat_type='covar',dep_vars=[x_t],cond_vars=[x_prev],expanded=Q)\n",
    "p_xt = MVG.MVG([x_t],moments=[m_xt, cov_xt, utils.getZ(cov_xt)], conditioned_vars=[x_prev])\n",
    "\n",
    "print(\"p_xt:\")\n",
    "display(Latex(utils.matLatex(p_xt)))"
   ]
  },
  {
   "cell_type": "markdown",
   "metadata": {},
   "source": [
    "## 5. p(x_t,x_(t-1)|y_(1:t-1))"
   ]
  },
  {
   "cell_type": "code",
   "execution_count": 11,
   "metadata": {
    "collapsed": false
   },
   "outputs": [
    {
     "name": "stdout",
     "output_type": "stream",
     "text": [
      "p_xt_xprev:\n"
     ]
    },
    {
     "data": {
      "text/latex": [
       "\\begin{align*}\n",
       "p\\left(\\mathbf{x_t},\\mathbf{x_{t-1}}|\\mathbf{y_{1:t-1}}\\right)&= \\mathcal{N}\\left(\\mathbf{m}_{\\mathbf{x_t},\\mathbf{x_{t-1}}|\\mathbf{y_{1:t-1}}},\\mathbf{\\Sigma}_{\\mathbf{x_t},\\mathbf{x_{t-1}}|\\mathbf{y_{1:t-1}}}\\right)\\\\\n",
       "\\mathbf{m}_{\\mathbf{x_t},\\mathbf{x_{t-1}}|\\mathbf{y_{1:t-1}}} &= \\left[\\begin{smallmatrix}\\mathbf{A} \\mu_{\\mathbf{x_{t-1}}} + \\mathbf{b_t}\\\\\\mu_{\\mathbf{x_{t-1}}}\\end{smallmatrix}\\right]\\\\\n",
       "\\mathbf{\\Sigma}_{\\mathbf{x_t},\\mathbf{x_{t-1}}|\\mathbf{y_{1:t-1}}} &= \\left[\\begin{smallmatrix}\\mathbf{A} \\Sigma_{\\mathbf{x_{t-1}}} \\mathbf{A}^T + \\Sigma_{\\mathbf{w_t}}&\\mathbf{A} \\Sigma_{\\mathbf{x_{t-1}}}\\\\\\Sigma_{\\mathbf{x_{t-1}}} \\mathbf{A}^T&\\Sigma_{\\mathbf{x_{t-1}}}\\end{smallmatrix}\\right]\\\\\n",
       "\\end{align*}"
      ],
      "text/plain": [
       "<IPython.core.display.Latex object>"
      ]
     },
     "metadata": {},
     "output_type": "display_data"
    }
   ],
   "source": [
    "p_xt_xprev = p_xt*p_xprev\n",
    "\n",
    "print(\"p_xt_xprev:\")\n",
    "display(Latex(utils.matLatex(p_xt_xprev)))"
   ]
  },
  {
   "cell_type": "markdown",
   "metadata": {},
   "source": [
    "## 6. p(x_t|y_(1:t-1))"
   ]
  },
  {
   "cell_type": "code",
   "execution_count": 12,
   "metadata": {
    "collapsed": false
   },
   "outputs": [
    {
     "name": "stdout",
     "output_type": "stream",
     "text": [
      "p_xt_predict:\n"
     ]
    },
    {
     "data": {
      "text/latex": [
       "\\begin{align*}\n",
       "p\\left(\\mathbf{x_t}|\\mathbf{y_{1:t-1}}\\right)&= \\mathcal{N}\\left(\\mathbf{m}_{\\mathbf{x_t}|\\mathbf{y_{1:t-1}}},\\mathbf{\\Sigma}_{\\mathbf{x_t}|\\mathbf{y_{1:t-1}}}\\right)\\\\\n",
       "\\mathbf{m}_{\\mathbf{x_t}|\\mathbf{y_{1:t-1}}} &= \\mathbf{A} \\mu_{\\mathbf{x_{t-1}}} + \\mathbf{b_t}\\\\\n",
       "\\mathbf{\\Sigma}_{\\mathbf{x_t}|\\mathbf{y_{1:t-1}}} &= \\mathbf{A} \\Sigma_{\\mathbf{x_{t-1}}} \\mathbf{A}^T + \\Sigma_{\\mathbf{w_t}}\\\\\n",
       "\\end{align*}"
      ],
      "text/plain": [
       "<IPython.core.display.Latex object>"
      ]
     },
     "metadata": {},
     "output_type": "display_data"
    }
   ],
   "source": [
    "p_xt_predict = p_xt_xprev.marginalize([x_prev])\n",
    "\n",
    "print(\"p_xt_predict:\")\n",
    "display(Latex(utils.matLatex(p_xt_predict)))"
   ]
  },
  {
   "cell_type": "markdown",
   "metadata": {},
   "source": [
    "## 7. p(y_t|x_t)"
   ]
  },
  {
   "cell_type": "code",
   "execution_count": 14,
   "metadata": {
    "collapsed": false
   },
   "outputs": [
    {
     "name": "stdout",
     "output_type": "stream",
     "text": [
      "p_yt:\n"
     ]
    },
    {
     "data": {
      "text/latex": [
       "\\begin{align*}\n",
       "p\\left(\\mathbf{y_t}|\\mathbf{x_t}\\right)&= \\mathcal{N}\\left(\\mathbf{m}_{\\mathbf{y_t}|\\mathbf{x_t}},\\mathbf{\\Sigma}_{\\mathbf{y_t}|\\mathbf{x_t}}\\right)\\\\\n",
       "\\mathbf{m}_{\\mathbf{y_t}|\\mathbf{x_t}} &= \\mathbf{B} \\mathbf{x_t} + \\mathbf{d_t}\\\\\n",
       "\\mathbf{\\Sigma}_{\\mathbf{y_t}|\\mathbf{x_t}} &= \\Sigma_{\\mathbf{e_t}}\\\\\n",
       "\\end{align*}"
      ],
      "text/plain": [
       "<IPython.core.display.Latex object>"
      ]
     },
     "metadata": {},
     "output_type": "display_data"
    }
   ],
   "source": [
    "m_yt = SME.SuperMatSymbol(n,1,mat_type='mean',dep_vars=[y_t],cond_vars=[x_t],expanded=C*x_t + d_t)\n",
    "cov_yt = SME.SuperMatSymbol(n,n,mat_type='covar',dep_vars=[y_t],cond_vars=[x_t],expanded=R)\n",
    "p_yt = MVG.MVG([y_t], moments=[m_yt,cov_yt,utils.getZ(cov_yt)],conditioned_vars=[x_t])\n",
    "\n",
    "print(\"p_yt:\")\n",
    "display(Latex(utils.matLatex(p_yt)))"
   ]
  },
  {
   "cell_type": "markdown",
   "metadata": {},
   "source": [
    "## 8. p(y_t,x_t|y_(1:t-1))"
   ]
  },
  {
   "cell_type": "code",
   "execution_count": 15,
   "metadata": {
    "collapsed": false
   },
   "outputs": [
    {
     "name": "stdout",
     "output_type": "stream",
     "text": [
      "p_yt_xt:\n"
     ]
    },
    {
     "data": {
      "text/latex": [
       "\\begin{align*}\n",
       "p\\left(\\mathbf{y_t},\\mathbf{x_t}|\\mathbf{y_{1:t-1}}\\right)&= \\mathcal{N}\\left(\\mathbf{m}_{\\mathbf{y_t},\\mathbf{x_t}|\\mathbf{y_{1:t-1}}},\\mathbf{\\Sigma}_{\\mathbf{y_t},\\mathbf{x_t}|\\mathbf{y_{1:t-1}}}\\right)\\\\\n",
       "\\mathbf{m}_{\\mathbf{y_t},\\mathbf{x_t}|\\mathbf{y_{1:t-1}}} &= \\left[\\begin{smallmatrix}\\mathbf{B} \\left(\\mathbf{A} \\mu_{\\mathbf{x_{t-1}}} + \\mathbf{b_t}\\right) + \\mathbf{d_t}\\\\\\mathbf{A} \\mu_{\\mathbf{x_{t-1}}} + \\mathbf{b_t}\\end{smallmatrix}\\right]\\\\\n",
       "\\mathbf{\\Sigma}_{\\mathbf{y_t},\\mathbf{x_t}|\\mathbf{y_{1:t-1}}} &= \\left[\\begin{smallmatrix}\\mathbf{B} \\left(\\mathbf{A} \\Sigma_{\\mathbf{x_{t-1}}} \\mathbf{A}^T + \\Sigma_{\\mathbf{w_t}}\\right) \\mathbf{B}^T + \\Sigma_{\\mathbf{e_t}}&\\mathbf{B} \\left(\\mathbf{A} \\Sigma_{\\mathbf{x_{t-1}}} \\mathbf{A}^T + \\Sigma_{\\mathbf{w_t}}\\right)\\\\\\left(\\mathbf{A} \\Sigma_{\\mathbf{x_{t-1}}} \\mathbf{A}^T + \\Sigma_{\\mathbf{w_t}}\\right) \\mathbf{B}^T&\\mathbf{A} \\Sigma_{\\mathbf{x_{t-1}}} \\mathbf{A}^T + \\Sigma_{\\mathbf{w_t}}\\end{smallmatrix}\\right]\\\\\n",
       "\\end{align*}"
      ],
      "text/plain": [
       "<IPython.core.display.Latex object>"
      ]
     },
     "metadata": {},
     "output_type": "display_data"
    }
   ],
   "source": [
    "p_yt_xt = p_yt*p_xt_predict\n",
    "\n",
    "print(\"p_yt_xt:\")\n",
    "display(Latex(utils.matLatex(p_yt_xt)))"
   ]
  },
  {
   "cell_type": "markdown",
   "metadata": {},
   "source": [
    "## 9. p(x_t|y_(1:t))"
   ]
  },
  {
   "cell_type": "code",
   "execution_count": 16,
   "metadata": {
    "collapsed": false
   },
   "outputs": [
    {
     "name": "stdout",
     "output_type": "stream",
     "text": [
      "S.blockform:  [[S_(y_t,y_t)]]\n",
      "S.variables_dim1:  {y_t: 0}\n",
      "S.variables_dim2:  {y_t: 0}\n",
      "old_mean:  [A*m_{t|t} + b_t]\n",
      "P: [[S_(x_t,x_t)]], Q: [[S_(x_t,y_t)]], R: [[S_(y_t,x_t)]], S: [[S_(y_t,y_t)]]\n",
      "v_marg_vars:  [y_t]\n",
      "marg_mean:  [B*(A*m_{t|t} + b_t) + d_t]\n",
      "p_xt_update:\n"
     ]
    },
    {
     "data": {
      "text/latex": [
       "\\begin{align*}\n",
       "p\\left(\\mathbf{x_t}|\\mathbf{y_{1:t-1}},\\mathbf{y_t}\\right)&= \\mathcal{N}\\left(\\mathbf{m}_{\\mathbf{x_t}|\\mathbf{y_{1:t-1}},\\mathbf{y_t}},\\mathbf{\\Sigma}_{\\mathbf{x_t}|\\mathbf{y_{1:t-1}},\\mathbf{y_t}}\\right)\\\\\n",
       "\\mathbf{m}_{\\mathbf{x_t}|\\mathbf{y_{1:t-1}},\\mathbf{y_t}} &= \\mathbf{A} \\mu_{\\mathbf{x_{t-1}}} + \\left(\\mathbf{A} \\Sigma_{\\mathbf{x_{t-1}}} \\mathbf{A}^T + \\Sigma_{\\mathbf{w_t}}\\right) \\mathbf{B}^T \\left(\\mathbf{B} \\left(\\mathbf{A} \\Sigma_{\\mathbf{x_{t-1}}} \\mathbf{A}^T + \\Sigma_{\\mathbf{w_t}}\\right) \\mathbf{B}^T + \\Sigma_{\\mathbf{e_t}}\\right)^{-1} \\left(-1 \\left(\\mathbf{B} \\left(\\mathbf{A} \\mu_{\\mathbf{x_{t-1}}} + \\mathbf{b_t}\\right) + \\mathbf{d_t}\\right) + \\mathbf{y_t}\\right) + \\mathbf{b_t}\\\\\n",
       "\\mathbf{\\Sigma}_{\\mathbf{x_t}|\\mathbf{y_{1:t-1}},\\mathbf{y_t}} &= \\mathbf{A} \\Sigma_{\\mathbf{x_{t-1}}} \\mathbf{A}^T - \\left(\\mathbf{A} \\Sigma_{\\mathbf{x_{t-1}}} \\mathbf{A}^T + \\Sigma_{\\mathbf{w_t}}\\right) \\mathbf{B}^T \\left(\\mathbf{B} \\left(\\mathbf{A} \\Sigma_{\\mathbf{x_{t-1}}} \\mathbf{A}^T + \\Sigma_{\\mathbf{w_t}}\\right) \\mathbf{B}^T + \\Sigma_{\\mathbf{e_t}}\\right)^{-1} \\mathbf{B} \\left(\\mathbf{A} \\Sigma_{\\mathbf{x_{t-1}}} \\mathbf{A}^T + \\Sigma_{\\mathbf{w_t}}\\right) + \\Sigma_{\\mathbf{w_t}}\\\\\n",
       "\\end{align*}"
      ],
      "text/plain": [
       "<IPython.core.display.Latex object>"
      ]
     },
     "metadata": {},
     "output_type": "display_data"
    }
   ],
   "source": [
    "p_xt_update = p_yt_xt.condition([y_t])\n",
    "\n",
    "print(\"p_xt_update:\")\n",
    "display(Latex(utils.matLatex(p_xt_update)))"
   ]
  }
 ],
 "metadata": {
  "anaconda-cloud": {},
  "kernelspec": {
   "display_name": "Python [Root]",
   "language": "python",
   "name": "Python [Root]"
  },
  "language_info": {
   "codemirror_mode": {
    "name": "ipython",
    "version": 3
   },
   "file_extension": ".py",
   "mimetype": "text/x-python",
   "name": "python",
   "nbconvert_exporter": "python",
   "pygments_lexer": "ipython3",
   "version": "3.5.2"
  },
  "latex_envs": {
   "bibliofile": "biblio.bib",
   "cite_by": "apalike",
   "current_citInitial": 1,
   "eqLabelWithNumbers": true,
   "eqNumInitial": 0
  }
 },
 "nbformat": 4,
 "nbformat_minor": 0
}
