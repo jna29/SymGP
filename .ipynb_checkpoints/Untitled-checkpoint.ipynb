{
 "cells": [
  {
   "cell_type": "code",
   "execution_count": null,
   "metadata": {
    "collapsed": true
   },
   "outputs": [],
   "source": [
    "import MVG as MVG\n",
    "import SuperMatExpr as SME\n",
    "from sympy import *\n",
    "import utils as utils\n",
    "\n",
    "def getDet(cov):\n",
    "     return -cov.shape[0]/2*ln(2*pi) - Rational(1,2)*ln(Determinant(cov))\n",
    "\n",
    "D, N, Ns = symbols('D N Ns')\n",
    "sig_y = symbols('\\u03c3_y')\n",
    "\n",
    "w = SME.SuperMatSymbol('w',D,1,'var')\n",
    "y = SME.SuperMatSymbol('y',N,1,'var')\n",
    "ys = SME.SuperMatSymbol('y_s',Ns,1,'var')\n",
    "X = SME.SuperMatSymbol('X',D,N,'var')\n",
    "Xs = SME.SuperMatSymbol('X_s',D,Ns,'var')\n",
    "\n",
    "mu_w = SME.SuperMatSymbol('',D,1,'mean',dependent_vars=[w],expanded=ZeroMatrix(D,1))\n",
    "mu_y = SME.SuperMatSymbol('',N,1,'mean',dependent_vars=[y],cond_vars=[w,X],expanded=X.T*w)\n",
    "mu_ys = SME.SuperMatSymbol('',Ns,1,'mean',dependent_vars=[ys],cond_vars=[w,Xs],expanded=Xs.T*w)\n",
    "S_ww = SME.SuperMatSymbol('',D,D,'covar',dependent_vars=[w],expanded=Identity(D))\n",
    "S_yy = SME.SuperMatSymbol('',N,N,'covar',dependent_vars=[y],cond_vars=[w,X],expanded=sig_y**2*Identity(N))\n",
    "S_ysys = SME.SuperMatSymbol('',Ns,Ns,'covar',dependent_vars=[ys],cond_vars=[w,Xs],expanded=sig_y**2*Identity(Ns))\n",
    "\n",
    "p_w = MVG.MVG([w],moments=[mu_w,S_ww,getDet(S_ww)])\n",
    "p_y = MVG.MVG([y],moments=[mu_y,S_yy,getDet(S_yy)],conditioned_vars=[w,X])\n",
    "p_ys = MVG.MVG([ys],moments=[mu_ys,S_ysys,getDet(S_ysys)],conditioned_vars=[w,Xs])\n",
    "p_w_y = p_w*p_y\n",
    "p_w_post = p_w_y.condition([y])\n",
    "p_w_ys = p_w_post*p_ys\n",
    "p_ys_post = p_w_ys.marginalize([w])\n",
    "print(utils.matLatex(p_ys_post.covar.expanded))"
   ]
  },
  {
   "cell_type": "markdown",
   "metadata": {},
   "source": [
    "$I + -1 X \\left(\\sigma_y^{2} I + X^T X\\right)^{-1} X^T$\n",
    "\n",
    "$Xs^T X \\left(\\sigma_y^{2} I + X^T X\\right)^{-1} y$"
   ]
  },
  {
   "cell_type": "code",
   "execution_count": null,
   "metadata": {
    "collapsed": true
   },
   "outputs": [],
   "source": []
  }
 ],
 "metadata": {
  "kernelspec": {
   "display_name": "Python [Root]",
   "language": "python",
   "name": "Python [Root]"
  },
  "language_info": {
   "codemirror_mode": {
    "name": "ipython",
    "version": 3
   },
   "file_extension": ".py",
   "mimetype": "text/x-python",
   "name": "python",
   "nbconvert_exporter": "python",
   "pygments_lexer": "ipython3",
   "version": "3.5.2"
  }
 },
 "nbformat": 4,
 "nbformat_minor": 0
}
