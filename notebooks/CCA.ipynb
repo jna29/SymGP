{
 "cells": [
  {
   "cell_type": "markdown",
   "metadata": {},
   "source": [
    "# Canonical Correlation Analysis (CCA)"
   ]
  },
  {
   "cell_type": "markdown",
   "metadata": {},
   "source": [
    "Example is taken from *Section 12.5.3, Machine Learning: A Probabilistic Perspective by Kevin Murphy.*"
   ]
  },
  {
   "cell_type": "code",
   "execution_count": 1,
   "metadata": {
    "collapsed": true
   },
   "outputs": [],
   "source": [
    "from symgp import *\n",
    "from sympy import *\n",
    "\n",
    "from IPython.display import display, Math, Latex"
   ]
  },
  {
   "cell_type": "markdown",
   "metadata": {},
   "source": [
    "## Set up shapes, variables and constants\n",
    "\n",
    "We have two observed variables `x` and `y` of shapes `(D_x,1)` and `(D_y,1)` and the latent variables `z_s`, `z_x`, `z_y` of shapes `(L_o,1)`, `(L_x,1)` and `(L_y,1)`."
   ]
  },
  {
   "cell_type": "code",
   "execution_count": 2,
   "metadata": {
    "collapsed": true
   },
   "outputs": [],
   "source": [
    "# Shapes\n",
    "D_x, D_y, L_o, L_x, L_y = symbols('D_x, D_y, L_o L_x L_y')\n",
    "\n",
    "# Variables\n",
    "x, y, z_s, z_x, z_y = utils.variables('x y z_{s} z_{x} z_{y}', [D_x, D_y, L_o, L_x, L_y])\n",
    "\n",
    "# Constants\n",
    "B_x, W_x, mu_x, B_y, W_y, mu_y = utils.constants('B_{x} W_{x} \\u03bc_{x} B_{y} W_{y} \\u03bc_{y}',\n",
    "                                                 [(D_x,L_x), (D_x,L_o), D_x, (D_y,L_y), (D_y,L_o), D_y])\n",
    "sig = symbols('\\u03c3')  # Noise standard deviation"
   ]
  },
  {
   "cell_type": "markdown",
   "metadata": {},
   "source": [
    "## Define the model"
   ]
  },
  {
   "cell_type": "code",
   "execution_count": 3,
   "metadata": {
    "collapsed": false
   },
   "outputs": [
    {
     "data": {
      "text/latex": [
       "\\begin{align*}\n",
       "p\\left(\\mathbf{z_{s}}\\right)&= \\mathcal{N}\\left(\\mathbf{z_{s}};\\mathbf{m}_{\\mathbf{z_{s}}},\\mathbf{\\Sigma}_{\\mathbf{z_{s}}}\\right)\\\\\n",
       "\\mathbf{m}_{\\mathbf{z_{s}}} &= \\mathbf{0}\\\\\n",
       "\\mathbf{\\Sigma}_{\\mathbf{z_{s}}} &= \\mathbf{I}\\\\\n",
       "\\end{align*}"
      ],
      "text/plain": [
       "<IPython.core.display.Latex object>"
      ]
     },
     "metadata": {},
     "output_type": "display_data"
    },
    {
     "data": {
      "text/latex": [
       "\\begin{align*}\n",
       "p\\left(\\mathbf{z_{x}}\\right)&= \\mathcal{N}\\left(\\mathbf{z_{x}};\\mathbf{m}_{\\mathbf{z_{x}}},\\mathbf{\\Sigma}_{\\mathbf{z_{x}}}\\right)\\\\\n",
       "\\mathbf{m}_{\\mathbf{z_{x}}} &= \\mathbf{0}\\\\\n",
       "\\mathbf{\\Sigma}_{\\mathbf{z_{x}}} &= \\mathbf{I}\\\\\n",
       "\\end{align*}"
      ],
      "text/plain": [
       "<IPython.core.display.Latex object>"
      ]
     },
     "metadata": {},
     "output_type": "display_data"
    },
    {
     "data": {
      "text/latex": [
       "\\begin{align*}\n",
       "p\\left(\\mathbf{z_{x}}\\right)&= \\mathcal{N}\\left(\\mathbf{z_{x}};\\mathbf{m}_{\\mathbf{z_{x}}},\\mathbf{\\Sigma}_{\\mathbf{z_{x}}}\\right)\\\\\n",
       "\\mathbf{m}_{\\mathbf{z_{x}}} &= \\mathbf{0}\\\\\n",
       "\\mathbf{\\Sigma}_{\\mathbf{z_{x}}} &= \\mathbf{I}\\\\\n",
       "\\end{align*}"
      ],
      "text/plain": [
       "<IPython.core.display.Latex object>"
      ]
     },
     "metadata": {},
     "output_type": "display_data"
    }
   ],
   "source": [
    "# p(z_s), p(z_x), p(z_y)\n",
    "p_zs = MVG([z_s],mean=ZeroMatrix(L_o,1),cov=Identity(L_o)) \n",
    "p_zx = MVG([z_x],mean=ZeroMatrix(L_x,1),cov=Identity(L_x)) \n",
    "p_zy = MVG([z_y],mean=ZeroMatrix(L_y,1),cov=Identity(L_y)) \n",
    "\n",
    "display(Latex(utils.matLatex(p_zs)))\n",
    "display(Latex(utils.matLatex(p_zx)))\n",
    "display(Latex(utils.matLatex(p_zx)))"
   ]
  },
  {
   "cell_type": "code",
   "execution_count": 4,
   "metadata": {
    "collapsed": false
   },
   "outputs": [
    {
     "data": {
      "text/latex": [
       "\\begin{align*}\n",
       "p\\left(\\mathbf{z_{s}},\\mathbf{z_{x}},\\mathbf{z_{y}}\\right)&= \\mathcal{N}\\left(\\left[\\begin{smallmatrix}\\mathbf{z_{s}}\\\\\\mathbf{z_{x}}\\\\\\mathbf{z_{y}}\\end{smallmatrix}\\right];\\mathbf{m}_{\\mathbf{z_{s}},\\mathbf{z_{x}},\\mathbf{z_{y}}},\\mathbf{\\Sigma}_{\\mathbf{z_{s}},\\mathbf{z_{x}},\\mathbf{z_{y}}}\\right)\\\\\n",
       "\\mathbf{m}_{\\mathbf{z_{s}},\\mathbf{z_{x}},\\mathbf{z_{y}}} &= \\left[\\begin{smallmatrix}\\mathbf{0}\\\\\\mathbf{0}\\\\\\mathbf{0}\\end{smallmatrix}\\right]\\\\\n",
       "\\mathbf{\\Sigma}_{\\mathbf{z_{s}},\\mathbf{z_{x}},\\mathbf{z_{y}}} &= \\left[\\begin{smallmatrix}\\mathbf{I}&\\mathbf{0}&\\mathbf{0}\\\\\\mathbf{0}&\\mathbf{I}&\\mathbf{0}\\\\\\mathbf{0}&\\mathbf{0}&\\mathbf{I}\\end{smallmatrix}\\right]\\\\\n",
       "\\end{align*}"
      ],
      "text/plain": [
       "<IPython.core.display.Latex object>"
      ]
     },
     "metadata": {},
     "output_type": "display_data"
    }
   ],
   "source": [
    "# p(z)\n",
    "p_z = p_zs*p_zx*p_zy\n",
    "\n",
    "display(Latex(utils.matLatex(p_z)))"
   ]
  },
  {
   "cell_type": "code",
   "execution_count": 5,
   "metadata": {
    "collapsed": false
   },
   "outputs": [
    {
     "data": {
      "text/latex": [
       "\\begin{align*}\n",
       "p\\left(\\mathbf{x}|\\mathbf{z_{x}},\\mathbf{z_{s}}\\right)&= \\mathcal{N}\\left(\\mathbf{x};\\mathbf{m}_{\\mathbf{x}|\\mathbf{z_{x}},\\mathbf{z_{s}}},\\mathbf{\\Sigma}_{\\mathbf{x}|\\mathbf{z_{x}},\\mathbf{z_{s}}}\\right)\\\\\n",
       "\\mathbf{m}_{\\mathbf{x}|\\mathbf{z_{x}},\\mathbf{z_{s}}} &= \\mathbf{μ_{x}} + \\mathbf{B_{x}} \\mathbf{z_{x}} + \\mathbf{W_{x}} \\mathbf{z_{s}}\\\\\n",
       "\\mathbf{\\Sigma}_{\\mathbf{x}|\\mathbf{z_{x}},\\mathbf{z_{s}}} &= \\sigma^{2} \\mathbf{I}\\\\\n",
       "\\end{align*}"
      ],
      "text/plain": [
       "<IPython.core.display.Latex object>"
      ]
     },
     "metadata": {},
     "output_type": "display_data"
    }
   ],
   "source": [
    "# p(x|z)\n",
    "p_x_g_z = MVG([x],mean=B_x*z_x + W_x*z_s + mu_x,cov=sig**2*Identity(D_x),cond_vars=[z_x,z_s])\n",
    "\n",
    "display(Latex(utils.matLatex(p_x_g_z)))"
   ]
  },
  {
   "cell_type": "code",
   "execution_count": 7,
   "metadata": {
    "collapsed": false
   },
   "outputs": [
    {
     "data": {
      "text/latex": [
       "\\begin{align*}\n",
       "p\\left(\\mathbf{y}|\\mathbf{z_{y}},\\mathbf{z_{s}}\\right)&= \\mathcal{N}\\left(\\mathbf{y};\\mathbf{m}_{\\mathbf{y}|\\mathbf{z_{y}},\\mathbf{z_{s}}},\\mathbf{\\Sigma}_{\\mathbf{y}|\\mathbf{z_{y}},\\mathbf{z_{s}}}\\right)\\\\\n",
       "\\mathbf{m}_{\\mathbf{y}|\\mathbf{z_{y}},\\mathbf{z_{s}}} &= \\mathbf{μ_{y}} + \\mathbf{B_{y}} \\mathbf{z_{y}} + \\mathbf{W_{y}} \\mathbf{z_{s}}\\\\\n",
       "\\mathbf{\\Sigma}_{\\mathbf{y}|\\mathbf{z_{y}},\\mathbf{z_{s}}} &= \\sigma^{2} \\mathbf{I}\\\\\n",
       "\\end{align*}"
      ],
      "text/plain": [
       "<IPython.core.display.Latex object>"
      ]
     },
     "metadata": {},
     "output_type": "display_data"
    }
   ],
   "source": [
    "# p(y|z)\n",
    "p_y_g_z = MVG([y],mean=B_y*z_y + W_y*z_s + mu_y,cov=sig**2*Identity(D_y),cond_vars=[z_y,z_s])\n",
    "\n",
    "display(Latex(utils.matLatex(p_y_g_z)))"
   ]
  },
  {
   "cell_type": "markdown",
   "metadata": {},
   "source": [
    "## Obtain joint distribution p(x,y)"
   ]
  },
  {
   "cell_type": "code",
   "execution_count": 8,
   "metadata": {
    "collapsed": false
   },
   "outputs": [
    {
     "data": {
      "text/latex": [
       "\\begin{align*}\n",
       "p\\left(\\mathbf{x},\\mathbf{y}|\\mathbf{z_{x}},\\mathbf{z_{y}},\\mathbf{z_{s}}\\right)&= \\mathcal{N}\\left(\\left[\\begin{smallmatrix}\\mathbf{x}\\\\\\mathbf{y}\\end{smallmatrix}\\right];\\mathbf{m}_{\\mathbf{x},\\mathbf{y}|\\mathbf{z_{x}},\\mathbf{z_{y}},\\mathbf{z_{s}}},\\mathbf{\\Sigma}_{\\mathbf{x},\\mathbf{y}|\\mathbf{z_{x}},\\mathbf{z_{y}},\\mathbf{z_{s}}}\\right)\\\\\n",
       "\\mathbf{m}_{\\mathbf{x},\\mathbf{y}|\\mathbf{z_{x}},\\mathbf{z_{y}},\\mathbf{z_{s}}} &= \\left[\\begin{smallmatrix}\\mathbf{μ_{x}} + \\mathbf{B_{x}} \\mathbf{z_{x}} + \\mathbf{W_{x}} \\mathbf{z_{s}}\\\\\\mathbf{μ_{y}} + \\mathbf{B_{y}} \\mathbf{z_{y}} + \\mathbf{W_{y}} \\mathbf{z_{s}}\\end{smallmatrix}\\right]\\\\\n",
       "\\mathbf{\\Sigma}_{\\mathbf{x},\\mathbf{y}|\\mathbf{z_{x}},\\mathbf{z_{y}},\\mathbf{z_{s}}} &= \\left[\\begin{smallmatrix}\\sigma^{2} \\mathbf{I}&\\mathbf{0}\\\\\\mathbf{0}&\\sigma^{2} \\mathbf{I}\\end{smallmatrix}\\right]\\\\\n",
       "\\end{align*}"
      ],
      "text/plain": [
       "<IPython.core.display.Latex object>"
      ]
     },
     "metadata": {},
     "output_type": "display_data"
    }
   ],
   "source": [
    "# p(v|z) (p(x,y|z_s,z_x,z_y))   We denote v = (x;y) and z = (z_s;z_x;z_y) \n",
    "p_v_g_z = p_x_g_z*p_y_g_z\n",
    "\n",
    "display(Latex(utils.matLatex(p_v_g_z)))"
   ]
  },
  {
   "cell_type": "code",
   "execution_count": 10,
   "metadata": {
    "collapsed": false
   },
   "outputs": [
    {
     "data": {
      "text/latex": [
       "\\begin{align*}\n",
       "p\\left(\\mathbf{x},\\mathbf{y},\\mathbf{z_{s}},\\mathbf{z_{x}},\\mathbf{z_{y}}\\right)&= \\mathcal{N}\\left(\\left[\\begin{smallmatrix}\\mathbf{x}\\\\\\mathbf{y}\\\\\\mathbf{z_{s}}\\\\\\mathbf{z_{x}}\\\\\\mathbf{z_{y}}\\end{smallmatrix}\\right];\\mathbf{m}_{\\mathbf{x},\\mathbf{y},\\mathbf{z_{s}},\\mathbf{z_{x}},\\mathbf{z_{y}}},\\mathbf{\\Sigma}_{\\mathbf{x},\\mathbf{y},\\mathbf{z_{s}},\\mathbf{z_{x}},\\mathbf{z_{y}}}\\right)\\\\\n",
       "\\mathbf{m}_{\\mathbf{x},\\mathbf{y},\\mathbf{z_{s}},\\mathbf{z_{x}},\\mathbf{z_{y}}} &= \\left[\\begin{smallmatrix}\\mathbf{μ_{x}}\\\\\\mathbf{μ_{y}}\\\\\\mathbf{0}\\\\\\mathbf{0}\\\\\\mathbf{0}\\end{smallmatrix}\\right]\\\\\n",
       "\\mathbf{\\Sigma}_{\\mathbf{x},\\mathbf{y},\\mathbf{z_{s}},\\mathbf{z_{x}},\\mathbf{z_{y}}} &= \\left[\\begin{smallmatrix}\\sigma^{2} \\mathbf{I} + \\mathbf{B_{x}} \\mathbf{B_{x}}^T + \\mathbf{W_{x}} \\mathbf{W_{x}}^T&\\mathbf{W_{x}} \\mathbf{W_{y}}^T&\\mathbf{W_{x}}&\\mathbf{B_{x}}&\\mathbf{0}\\\\\\mathbf{W_{y}} \\mathbf{W_{x}}^T&\\sigma^{2} \\mathbf{I} + \\mathbf{B_{y}} \\mathbf{B_{y}}^T + \\mathbf{W_{y}} \\mathbf{W_{y}}^T&\\mathbf{W_{y}}&\\mathbf{0}&\\mathbf{B_{y}}\\\\\\mathbf{W_{x}}^T&\\mathbf{W_{y}}^T&\\mathbf{I}&\\mathbf{0}&\\mathbf{0}\\\\\\mathbf{B_{x}}^T&\\mathbf{0}&\\mathbf{0}&\\mathbf{I}&\\mathbf{0}\\\\\\mathbf{0}&\\mathbf{B_{y}}^T&\\mathbf{0}&\\mathbf{0}&\\mathbf{I}\\end{smallmatrix}\\right]\\\\\n",
       "\\end{align*}"
      ],
      "text/plain": [
       "<IPython.core.display.Latex object>"
      ]
     },
     "metadata": {},
     "output_type": "display_data"
    }
   ],
   "source": [
    "# p(v,z) (p(x,y,z_s,z_x,z_y))\n",
    "p_v_z = p_v_g_z*p_z\n",
    "\n",
    "display(Latex(utils.matLatex(p_v_z)))"
   ]
  },
  {
   "cell_type": "code",
   "execution_count": 11,
   "metadata": {
    "collapsed": false
   },
   "outputs": [
    {
     "data": {
      "text/latex": [
       "\\begin{align*}\n",
       "p\\left(\\mathbf{x},\\mathbf{y}\\right)&= \\mathcal{N}\\left(\\left[\\begin{smallmatrix}\\mathbf{x}\\\\\\mathbf{y}\\end{smallmatrix}\\right];\\mathbf{m}_{\\mathbf{x},\\mathbf{y}},\\mathbf{\\Sigma}_{\\mathbf{x},\\mathbf{y}}\\right)\\\\\n",
       "\\mathbf{m}_{\\mathbf{x},\\mathbf{y}} &= \\left[\\begin{smallmatrix}\\mathbf{μ_{x}}\\\\\\mathbf{μ_{y}}\\end{smallmatrix}\\right]\\\\\n",
       "\\mathbf{\\Sigma}_{\\mathbf{x},\\mathbf{y}} &= \\left[\\begin{smallmatrix}\\sigma^{2} \\mathbf{I} + \\mathbf{B_{x}} \\mathbf{B_{x}}^T + \\mathbf{W_{x}} \\mathbf{W_{x}}^T&\\mathbf{W_{x}} \\mathbf{W_{y}}^T\\\\\\mathbf{W_{y}} \\mathbf{W_{x}}^T&\\sigma^{2} \\mathbf{I} + \\mathbf{B_{y}} \\mathbf{B_{y}}^T + \\mathbf{W_{y}} \\mathbf{W_{y}}^T\\end{smallmatrix}\\right]\\\\\n",
       "\\end{align*}"
      ],
      "text/plain": [
       "<IPython.core.display.Latex object>"
      ]
     },
     "metadata": {},
     "output_type": "display_data"
    }
   ],
   "source": [
    "# p(v) (p(x,y))\n",
    "p_v = p_v_z.marginalise([z_s,z_x,z_y])\n",
    "\n",
    "display(Latex(utils.matLatex(p_v)))"
   ]
  }
 ],
 "metadata": {
  "anaconda-cloud": {},
  "kernelspec": {
   "display_name": "Python [Root]",
   "language": "python",
   "name": "Python [Root]"
  },
  "language_info": {
   "codemirror_mode": {
    "name": "ipython",
    "version": 3
   },
   "file_extension": ".py",
   "mimetype": "text/x-python",
   "name": "python",
   "nbconvert_exporter": "python",
   "pygments_lexer": "ipython3",
   "version": "3.5.2"
  },
  "latex_envs": {
   "bibliofile": "biblio.bib",
   "cite_by": "apalike",
   "current_citInitial": 1,
   "eqLabelWithNumbers": true,
   "eqNumInitial": 0
  }
 },
 "nbformat": 4,
 "nbformat_minor": 0
}
