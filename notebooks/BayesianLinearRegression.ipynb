{
 "cells": [
  {
   "cell_type": "markdown",
   "metadata": {},
   "source": [
    "# Bayesian Linear Regression"
   ]
  },
  {
   "cell_type": "code",
   "execution_count": 1,
   "metadata": {
    "collapsed": false
   },
   "outputs": [],
   "source": [
    "import sys\n",
    "# Add the symgp folder path to the sys.path list\n",
    "module_path = r'/Users/jaduol/Documents/Uni (original)/Part II/IIB/MEng Project/'\n",
    "if module_path not in sys.path:\n",
    "    sys.path.append(module_path)\n",
    "\n",
    "from symgp import SuperMatSymbol, utils, MVG, Variable\n",
    "from sympy import symbols, ZeroMatrix, Identity\n",
    "from IPython.display import display, Math, Latex"
   ]
  },
  {
   "cell_type": "code",
   "execution_count": 2,
   "metadata": {
    "collapsed": true
   },
   "outputs": [],
   "source": [
    "# Define some symbols\n",
    "D, N, Ns = symbols('D N Ns')\n",
    "sig_y = symbols('\\u03c3_y')"
   ]
  },
  {
   "cell_type": "markdown",
   "metadata": {},
   "source": [
    "## 1. Prior"
   ]
  },
  {
   "cell_type": "code",
   "execution_count": 3,
   "metadata": {
    "collapsed": false
   },
   "outputs": [
    {
     "name": "stdout",
     "output_type": "stream",
     "text": [
      "p_w:\n"
     ]
    },
    {
     "data": {
      "text/latex": [
       "\\begin{align*}\n",
       "p\\left(\\mathbf{w}\\right)&= \\mathcal{N}\\left(\\mathbf{w};\\mathbf{m}_{\\mathbf{w}},\\mathbf{\\Sigma}_{\\mathbf{w}}\\right)\\\\\n",
       "\\mathbf{m}_{\\mathbf{w}} &= \\mathbf{0}\\\\\n",
       "\\mathbf{\\Sigma}_{\\mathbf{w}} &= \\mathbf{I}\\\\\n",
       "\\end{align*}"
      ],
      "text/plain": [
       "<IPython.core.display.Latex object>"
      ]
     },
     "metadata": {},
     "output_type": "display_data"
    }
   ],
   "source": [
    "# Prior\n",
    "w = Variable('w',D,1)\n",
    "p_w = MVG([w],mean=ZeroMatrix(D,1),cov=Identity(D))\n",
    "\n",
    "print(\"p_w:\")\n",
    "display(Latex(utils.matLatex(p_w)))"
   ]
  },
  {
   "cell_type": "markdown",
   "metadata": {},
   "source": [
    "# 2. Likelihood"
   ]
  },
  {
   "cell_type": "code",
   "execution_count": 4,
   "metadata": {
    "collapsed": false
   },
   "outputs": [
    {
     "name": "stdout",
     "output_type": "stream",
     "text": [
      "p_y:\n"
     ]
    },
    {
     "data": {
      "text/latex": [
       "\\begin{align*}\n",
       "p\\left(\\mathbf{y}|\\mathbf{w},\\mathbf{X}\\right)&= \\mathcal{N}\\left(\\mathbf{y};\\mathbf{m}_{\\mathbf{y}|\\mathbf{w},\\mathbf{X}},\\mathbf{\\Sigma}_{\\mathbf{y}|\\mathbf{w},\\mathbf{X}}\\right)\\\\\n",
       "\\mathbf{m}_{\\mathbf{y}|\\mathbf{w},\\mathbf{X}} &= \\mathbf{X}^T \\mathbf{w}\\\\\n",
       "\\mathbf{\\Sigma}_{\\mathbf{y}|\\mathbf{w},\\mathbf{X}} &= \\sigma_y^{2} \\mathbf{I}\\\\\n",
       "\\end{align*}"
      ],
      "text/plain": [
       "<IPython.core.display.Latex object>"
      ]
     },
     "metadata": {},
     "output_type": "display_data"
    }
   ],
   "source": [
    "# Likelihood of w given X\n",
    "X, y = utils.variables('X y',[(D,N), N])\n",
    "p_y = MVG([y], mean=X.T*w,\n",
    "               cov=sig_y**2*Identity(N),\n",
    "               cond_vars=[w,X])\n",
    "\n",
    "print(\"p_y:\")\n",
    "display(Latex(utils.matLatex(p_y)))"
   ]
  },
  {
   "cell_type": "markdown",
   "metadata": {},
   "source": [
    "# 3. Posterior"
   ]
  },
  {
   "cell_type": "code",
   "execution_count": 5,
   "metadata": {
    "collapsed": false
   },
   "outputs": [
    {
     "name": "stdout",
     "output_type": "stream",
     "text": [
      "sums:  [Basic(X'), Basic(w)]\n",
      "p_w_y:\n"
     ]
    },
    {
     "data": {
      "text/latex": [
       "\\begin{align*}\n",
       "p\\left(\\mathbf{y},\\mathbf{w}|\\mathbf{X}\\right)&= \\mathcal{N}\\left(\\left[\\begin{smallmatrix}\\mathbf{y}\\\\\\mathbf{w}\\end{smallmatrix}\\right];\\mathbf{m}_{\\mathbf{y},\\mathbf{w}|\\mathbf{X}},\\mathbf{\\Sigma}_{\\mathbf{y},\\mathbf{w}|\\mathbf{X}}\\right)\\\\\n",
       "\\mathbf{m}_{\\mathbf{y},\\mathbf{w}|\\mathbf{X}} &= \\left[\\begin{smallmatrix}\\mathbf{0}\\\\\\mathbf{0}\\end{smallmatrix}\\right]\\\\\n",
       "\\mathbf{\\Sigma}_{\\mathbf{y},\\mathbf{w}|\\mathbf{X}} &= \\left[\\begin{smallmatrix}\\sigma_y^{2} \\mathbf{I} + \\mathbf{X}^T \\mathbf{X}&\\mathbf{X}^T\\\\\\mathbf{X}&\\mathbf{I}\\end{smallmatrix}\\right]\\\\\n",
       "\\end{align*}"
      ],
      "text/plain": [
       "<IPython.core.display.Latex object>"
      ]
     },
     "metadata": {},
     "output_type": "display_data"
    }
   ],
   "source": [
    "# Joint of w and y\n",
    "p_w_y = p_w*p_y\n",
    "\n",
    "print(\"p_w_y:\")\n",
    "display(Latex(utils.matLatex(p_w_y)))"
   ]
  },
  {
   "cell_type": "code",
   "execution_count": 6,
   "metadata": {
    "collapsed": false
   },
   "outputs": [
    {
     "name": "stdout",
     "output_type": "stream",
     "text": [
      "p_w_post:\n"
     ]
    },
    {
     "data": {
      "text/latex": [
       "\\begin{align*}\n",
       "p\\left(\\mathbf{w}|\\mathbf{X},\\mathbf{y}\\right)&= \\mathcal{N}\\left(\\mathbf{w};\\mathbf{m}_{\\mathbf{w}|\\mathbf{X},\\mathbf{y}},\\mathbf{\\Sigma}_{\\mathbf{w}|\\mathbf{X},\\mathbf{y}}\\right)\\\\\n",
       "\\mathbf{m}_{\\mathbf{w}|\\mathbf{X},\\mathbf{y}} &= \\mathbf{X} \\left(\\sigma_y^{2} \\mathbf{I} + \\mathbf{X}^T \\mathbf{X}\\right)^{-1} \\mathbf{y}\\\\\n",
       "\\mathbf{\\Sigma}_{\\mathbf{w}|\\mathbf{X},\\mathbf{y}} &= \\mathbf{I} - \\mathbf{X} \\left(\\sigma_y^{2} \\mathbf{I} + \\mathbf{X}^T \\mathbf{X}\\right)^{-1} \\mathbf{X}^T\\\\\n",
       "\\end{align*}"
      ],
      "text/plain": [
       "<IPython.core.display.Latex object>"
      ]
     },
     "metadata": {},
     "output_type": "display_data"
    }
   ],
   "source": [
    "# Inference: posterior over w\n",
    "p_w_post = p_w_y.condition([y])\n",
    "\n",
    "print(\"p_w_post:\")\n",
    "display(Latex(utils.matLatex(p_w_post)))"
   ]
  },
  {
   "cell_type": "markdown",
   "metadata": {},
   "source": [
    "# 4. Prediction"
   ]
  },
  {
   "cell_type": "code",
   "execution_count": 7,
   "metadata": {
    "collapsed": false
   },
   "outputs": [
    {
     "name": "stdout",
     "output_type": "stream",
     "text": [
      "p_ys:\n"
     ]
    },
    {
     "data": {
      "text/latex": [
       "\\begin{align*}\n",
       "p\\left(\\mathbf{y}|\\mathbf{w},\\mathbf{X}\\right)&= \\mathcal{N}\\left(\\mathbf{y};\\mathbf{m}_{\\mathbf{y}|\\mathbf{w},\\mathbf{X}},\\mathbf{\\Sigma}_{\\mathbf{y}|\\mathbf{w},\\mathbf{X}}\\right)\\\\\n",
       "\\mathbf{m}_{\\mathbf{y}|\\mathbf{w},\\mathbf{X}} &= \\mathbf{X}^T \\mathbf{w}\\\\\n",
       "\\mathbf{\\Sigma}_{\\mathbf{y}|\\mathbf{w},\\mathbf{X}} &= \\sigma_y^{2} \\mathbf{I}\\\\\n",
       "\\end{align*}"
      ],
      "text/plain": [
       "<IPython.core.display.Latex object>"
      ]
     },
     "metadata": {},
     "output_type": "display_data"
    }
   ],
   "source": [
    "#Prediction\n",
    "\n",
    "# Likelihood of w given Xs\n",
    "Xs, ys = utils.variables('X y',[(D,Ns), Ns])\n",
    "p_ys = MVG([ys], mean=Xs.T*w,\n",
    "                 cov=sig_y**2*Identity(Ns),\n",
    "                 cond_vars=[w,Xs])\n",
    "\n",
    "print(\"p_ys:\")\n",
    "display(Latex(utils.matLatex(p_ys)))"
   ]
  },
  {
   "cell_type": "code",
   "execution_count": 8,
   "metadata": {
    "collapsed": false
   },
   "outputs": [
    {
     "name": "stdout",
     "output_type": "stream",
     "text": [
      "sums:  [Basic(X'), Basic(w)]\n",
      "p_w_ys:\n"
     ]
    },
    {
     "data": {
      "text/latex": [
       "\\begin{align*}\n",
       "p\\left(\\mathbf{y},\\mathbf{w}|\\mathbf{X},\\mathbf{X},\\mathbf{y}\\right)&= \\mathcal{N}\\left(\\left[\\begin{smallmatrix}\\mathbf{y}\\\\\\mathbf{w}\\end{smallmatrix}\\right];\\mathbf{m}_{\\mathbf{y},\\mathbf{w}|\\mathbf{X},\\mathbf{X},\\mathbf{y}},\\mathbf{\\Sigma}_{\\mathbf{y},\\mathbf{w}|\\mathbf{X},\\mathbf{X},\\mathbf{y}}\\right)\\\\\n",
       "\\mathbf{m}_{\\mathbf{y},\\mathbf{w}|\\mathbf{X},\\mathbf{X},\\mathbf{y}} &= \\left[\\begin{smallmatrix}\\mathbf{X}^T \\mathbf{X} \\left(\\sigma_y^{2} \\mathbf{I} + \\mathbf{X}^T \\mathbf{X}\\right)^{-1} \\mathbf{y}\\\\\\mathbf{X} \\left(\\sigma_y^{2} \\mathbf{I} + \\mathbf{X}^T \\mathbf{X}\\right)^{-1} \\mathbf{y}\\end{smallmatrix}\\right]\\\\\n",
       "\\mathbf{\\Sigma}_{\\mathbf{y},\\mathbf{w}|\\mathbf{X},\\mathbf{X},\\mathbf{y}} &= \\left[\\begin{smallmatrix}\\sigma_y^{2} \\mathbf{I} + \\mathbf{X}^T \\left(\\mathbf{I} - \\mathbf{X} \\left(\\sigma_y^{2} \\mathbf{I} + \\mathbf{X}^T \\mathbf{X}\\right)^{-1} \\mathbf{X}^T\\right) \\mathbf{X}&\\mathbf{X}^T \\left(\\mathbf{I} - \\mathbf{X} \\left(\\sigma_y^{2} \\mathbf{I} + \\mathbf{X}^T \\mathbf{X}\\right)^{-1} \\mathbf{X}^T\\right)\\\\\\left(\\mathbf{I} + \\left(-1 \\mathbf{X} \\left(\\sigma_y^{2} \\mathbf{I} + \\mathbf{X}^T \\mathbf{X}\\right)^{-1} \\mathbf{X}^T\\right)^T\\right) \\mathbf{X}&\\mathbf{I} - \\mathbf{X} \\left(\\sigma_y^{2} \\mathbf{I} + \\mathbf{X}^T \\mathbf{X}\\right)^{-1} \\mathbf{X}^T\\end{smallmatrix}\\right]\\\\\n",
       "\\end{align*}"
      ],
      "text/plain": [
       "<IPython.core.display.Latex object>"
      ]
     },
     "metadata": {},
     "output_type": "display_data"
    }
   ],
   "source": [
    "# Joint of w and ys\n",
    "p_w_ys = p_w_post*p_ys\n",
    "\n",
    "print(\"p_w_ys:\")\n",
    "display(Latex(utils.matLatex(p_w_ys)))"
   ]
  },
  {
   "cell_type": "code",
   "execution_count": 9,
   "metadata": {
    "collapsed": false
   },
   "outputs": [
    {
     "name": "stdout",
     "output_type": "stream",
     "text": [
      "p_ys_post:\n"
     ]
    },
    {
     "data": {
      "text/latex": [
       "\\begin{align*}\n",
       "p\\left(\\mathbf{y}|\\mathbf{X},\\mathbf{X},\\mathbf{y}\\right)&= \\mathcal{N}\\left(\\mathbf{y};\\mathbf{m}_{\\mathbf{y}|\\mathbf{X},\\mathbf{X},\\mathbf{y}},\\mathbf{\\Sigma}_{\\mathbf{y}|\\mathbf{X},\\mathbf{X},\\mathbf{y}}\\right)\\\\\n",
       "\\mathbf{m}_{\\mathbf{y}|\\mathbf{X},\\mathbf{X},\\mathbf{y}} &= \\mathbf{X}^T \\mathbf{X} \\left(\\sigma_y^{2} \\mathbf{I} + \\mathbf{X}^T \\mathbf{X}\\right)^{-1} \\mathbf{y}\\\\\n",
       "\\mathbf{\\Sigma}_{\\mathbf{y}|\\mathbf{X},\\mathbf{X},\\mathbf{y}} &= \\sigma_y^{2} \\mathbf{I} + \\mathbf{X}^T \\left(\\mathbf{I} - \\mathbf{X} \\left(\\sigma_y^{2} \\mathbf{I} + \\mathbf{X}^T \\mathbf{X}\\right)^{-1} \\mathbf{X}^T\\right) \\mathbf{X}\\\\\n",
       "\\end{align*}"
      ],
      "text/plain": [
       "<IPython.core.display.Latex object>"
      ]
     },
     "metadata": {},
     "output_type": "display_data"
    }
   ],
   "source": [
    "# Predictive distribution of ys\n",
    "p_ys_post = p_w_ys.marginalise([w])\n",
    "\n",
    "print(\"p_ys_post:\")\n",
    "display(Latex(utils.matLatex(p_ys_post)))"
   ]
  },
  {
   "cell_type": "code",
   "execution_count": null,
   "metadata": {
    "collapsed": true
   },
   "outputs": [],
   "source": []
  }
 ],
 "metadata": {
  "anaconda-cloud": {},
  "kernelspec": {
   "display_name": "Python [Root]",
   "language": "python",
   "name": "Python [Root]"
  },
  "language_info": {
   "codemirror_mode": {
    "name": "ipython",
    "version": 3
   },
   "file_extension": ".py",
   "mimetype": "text/x-python",
   "name": "python",
   "nbconvert_exporter": "python",
   "pygments_lexer": "ipython3",
   "version": "3.5.2"
  },
  "latex_envs": {
   "bibliofile": "biblio.bib",
   "cite_by": "apalike",
   "current_citInitial": 1,
   "eqLabelWithNumbers": true,
   "eqNumInitial": 0
  }
 },
 "nbformat": 4,
 "nbformat_minor": 0
}
