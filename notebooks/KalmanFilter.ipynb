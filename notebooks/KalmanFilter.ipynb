{
 "cells": [
  {
   "cell_type": "markdown",
   "metadata": {},
   "source": [
    "# Kalman Filter"
   ]
  },
  {
   "cell_type": "code",
   "execution_count": 1,
   "metadata": {
    "collapsed": false
   },
   "outputs": [],
   "source": [
    "import sys\n",
    "# Add the symgp folder path to the sys.path list\n",
    "module_path = r'/Users/jaduol/Documents/Uni (original)/Part II/IIB/MEng Project/'\n",
    "if module_path not in sys.path:\n",
    "    sys.path.append(module_path)\n",
    "\n",
    "from symgp import SuperMatSymbol, utils, MVG, Variable, SuperDiagMat, Kernel, Covariance, Constant, Mean\n",
    "from sympy import symbols, ZeroMatrix, Identity\n",
    "from IPython.display import display, Math, Latex, clear_output"
   ]
  },
  {
   "cell_type": "code",
   "execution_count": 2,
   "metadata": {
    "collapsed": false
   },
   "outputs": [],
   "source": [
    "# Shapes\n",
    "m, n, t = symbols('m n t')"
   ]
  },
  {
   "cell_type": "markdown",
   "metadata": {},
   "source": [
    "## 1. Variables"
   ]
  },
  {
   "cell_type": "code",
   "execution_count": 3,
   "metadata": {
    "collapsed": false
   },
   "outputs": [],
   "source": [
    "# Variables\n",
    "x_prev, x_t, y_prev, y_t, b_t, d_t, w_t, e_t = utils.variables('x_{t-1} x_t y_{1:t-1} y_t b_t d_t w_t e_t', \n",
    "                                                                [m, m, (n,t-1), n, m, n, m, n])"
   ]
  },
  {
   "cell_type": "markdown",
   "metadata": {},
   "source": [
    "## 2. Constant Parameters"
   ]
  },
  {
   "cell_type": "code",
   "execution_count": 4,
   "metadata": {
    "collapsed": false
   },
   "outputs": [],
   "source": [
    "# Constant parameters\n",
    "A, C = utils.constants('A C',[(m,m), (n,m)])                                  \n",
    "Q = Covariance(w_t, name='Q')\n",
    "R = Covariance(e_t, name='R')"
   ]
  },
  {
   "cell_type": "markdown",
   "metadata": {},
   "source": [
    "## 3. p(x_(t-1)|y_(1:t-1))"
   ]
  },
  {
   "cell_type": "code",
   "execution_count": 5,
   "metadata": {
    "collapsed": false
   },
   "outputs": [
    {
     "name": "stdout",
     "output_type": "stream",
     "text": [
      "p_xprev:\n"
     ]
    },
    {
     "data": {
      "text/latex": [
       "\\begin{align*}\n",
       "p\\left(\\mathbf{x_{t-1}}|\\mathbf{y_{1:t-1}}\\right)&= \\mathcal{N}\\left(\\mathbf{x_{t-1}};\\mathbf{m}_{\\mathbf{x_{t-1}}|\\mathbf{y_{1:t-1}}},\\mathbf{\\Sigma}_{\\mathbf{x_{t-1}}|\\mathbf{y_{1:t-1}}}\\right)\\\\\n",
       "\\mathbf{m}_{\\mathbf{x_{t-1}}|\\mathbf{y_{1:t-1}}} &= \\mathbf{m_{t-1|t-1}}\\\\\n",
       "\\mathbf{\\Sigma}_{\\mathbf{x_{t-1}}|\\mathbf{y_{1:t-1}}} &= \\mathbf{P_{t-1|t-1}}\\\\\n",
       "\\end{align*}"
      ],
      "text/plain": [
       "<IPython.core.display.Latex object>"
      ]
     },
     "metadata": {},
     "output_type": "display_data"
    }
   ],
   "source": [
    "# p(x_(t-1)|y_(1:t-1))\n",
    "f_prev = Mean(x_prev, name='m_{t-1|t-1}') \n",
    "F_prev = Covariance(x_prev, name='P_{t-1|t-1}') \n",
    "p_xprev = MVG([x_prev], mean=f_prev, cov=F_prev, cond_vars=[y_prev])\n",
    "\n",
    "print(\"p_xprev:\")\n",
    "display(Latex(utils.matLatex(p_xprev)))"
   ]
  },
  {
   "cell_type": "markdown",
   "metadata": {},
   "source": [
    "## 4. p(x_t|x_(t-1))"
   ]
  },
  {
   "cell_type": "code",
   "execution_count": 6,
   "metadata": {
    "collapsed": false
   },
   "outputs": [
    {
     "name": "stdout",
     "output_type": "stream",
     "text": [
      "p_xt:\n"
     ]
    },
    {
     "data": {
      "text/latex": [
       "\\begin{align*}\n",
       "p\\left(\\mathbf{x_t}|\\mathbf{x_{t-1}}\\right)&= \\mathcal{N}\\left(\\mathbf{x_t};\\mathbf{m}_{\\mathbf{x_t}|\\mathbf{x_{t-1}}},\\mathbf{\\Sigma}_{\\mathbf{x_t}|\\mathbf{x_{t-1}}}\\right)\\\\\n",
       "\\mathbf{m}_{\\mathbf{x_t}|\\mathbf{x_{t-1}}} &= \\mathbf{A} \\mathbf{x_{t-1}}\\\\\n",
       "\\mathbf{\\Sigma}_{\\mathbf{x_t}|\\mathbf{x_{t-1}}} &= \\mathbf{Q}\\\\\n",
       "\\end{align*}"
      ],
      "text/plain": [
       "<IPython.core.display.Latex object>"
      ]
     },
     "metadata": {},
     "output_type": "display_data"
    }
   ],
   "source": [
    "p_xt = MVG([x_t], mean=A*x_prev, cov=Q, cond_vars=[x_prev])\n",
    "\n",
    "print(\"p_xt:\")\n",
    "display(Latex(utils.matLatex(p_xt)))"
   ]
  },
  {
   "cell_type": "markdown",
   "metadata": {},
   "source": [
    "## 5. p(x_t,x_(t-1)|y_(1:t-1))"
   ]
  },
  {
   "cell_type": "code",
   "execution_count": 7,
   "metadata": {
    "collapsed": false
   },
   "outputs": [
    {
     "name": "stdout",
     "output_type": "stream",
     "text": [
      "p_xt_xprev:\n"
     ]
    },
    {
     "data": {
      "text/latex": [
       "\\begin{align*}\n",
       "p\\left(\\mathbf{x_t},\\mathbf{x_{t-1}}|\\mathbf{y_{1:t-1}}\\right)&= \\mathcal{N}\\left(\\left[\\begin{smallmatrix}\\mathbf{x_t}\\\\\\mathbf{x_{t-1}}\\end{smallmatrix}\\right];\\mathbf{m}_{\\mathbf{x_t},\\mathbf{x_{t-1}}|\\mathbf{y_{1:t-1}}},\\mathbf{\\Sigma}_{\\mathbf{x_t},\\mathbf{x_{t-1}}|\\mathbf{y_{1:t-1}}}\\right)\\\\\n",
       "\\mathbf{m}_{\\mathbf{x_t},\\mathbf{x_{t-1}}|\\mathbf{y_{1:t-1}}} &= \\left[\\begin{smallmatrix}\\mathbf{A} \\mathbf{m_{t-1|t-1}}\\\\\\mathbf{m_{t-1|t-1}}\\end{smallmatrix}\\right]\\\\\n",
       "\\mathbf{\\Sigma}_{\\mathbf{x_t},\\mathbf{x_{t-1}}|\\mathbf{y_{1:t-1}}} &= \\left[\\begin{smallmatrix}\\mathbf{Q} + \\mathbf{A} \\mathbf{P_{t-1|t-1}} \\mathbf{A}^T&\\mathbf{A} \\mathbf{P_{t-1|t-1}}\\\\\\mathbf{P_{t-1|t-1}} \\mathbf{A}^T&\\mathbf{P_{t-1|t-1}}\\end{smallmatrix}\\right]\\\\\n",
       "\\end{align*}"
      ],
      "text/plain": [
       "<IPython.core.display.Latex object>"
      ]
     },
     "metadata": {},
     "output_type": "display_data"
    }
   ],
   "source": [
    "p_xt_xprev = p_xt*p_xprev\n",
    "\n",
    "print(\"p_xt_xprev:\")\n",
    "display(Latex(utils.matLatex(p_xt_xprev)))"
   ]
  },
  {
   "cell_type": "markdown",
   "metadata": {},
   "source": [
    "## 6. p(x_t|y_(1:t-1))"
   ]
  },
  {
   "cell_type": "code",
   "execution_count": 8,
   "metadata": {
    "collapsed": false
   },
   "outputs": [
    {
     "name": "stdout",
     "output_type": "stream",
     "text": [
      "p_xt_predict:\n"
     ]
    },
    {
     "data": {
      "text/latex": [
       "\\begin{align*}\n",
       "p\\left(\\mathbf{x_t}|\\mathbf{y_{1:t-1}}\\right)&= \\mathcal{N}\\left(\\mathbf{x_t};\\mathbf{m}_{\\mathbf{x_t}|\\mathbf{y_{1:t-1}}},\\mathbf{\\Sigma}_{\\mathbf{x_t}|\\mathbf{y_{1:t-1}}}\\right)\\\\\n",
       "\\mathbf{m}_{\\mathbf{x_t}|\\mathbf{y_{1:t-1}}} &= \\mathbf{A} \\mathbf{m_{t-1|t-1}}\\\\\n",
       "\\mathbf{\\Sigma}_{\\mathbf{x_t}|\\mathbf{y_{1:t-1}}} &= \\mathbf{Q} + \\mathbf{A} \\mathbf{P_{t-1|t-1}} \\mathbf{A}^T\\\\\n",
       "\\end{align*}"
      ],
      "text/plain": [
       "<IPython.core.display.Latex object>"
      ]
     },
     "metadata": {},
     "output_type": "display_data"
    }
   ],
   "source": [
    "p_xt_predict = p_xt_xprev.marginalise([x_prev])\n",
    "\n",
    "print(\"p_xt_predict:\")\n",
    "display(Latex(utils.matLatex(p_xt_predict)))"
   ]
  },
  {
   "cell_type": "markdown",
   "metadata": {},
   "source": [
    "## 7. p(y_t|x_t)"
   ]
  },
  {
   "cell_type": "code",
   "execution_count": 9,
   "metadata": {
    "collapsed": false
   },
   "outputs": [
    {
     "name": "stdout",
     "output_type": "stream",
     "text": [
      "p_yt:\n"
     ]
    },
    {
     "data": {
      "text/latex": [
       "\\begin{align*}\n",
       "p\\left(\\mathbf{y_t}|\\mathbf{x_t}\\right)&= \\mathcal{N}\\left(\\mathbf{y_t};\\mathbf{m}_{\\mathbf{y_t}|\\mathbf{x_t}},\\mathbf{\\Sigma}_{\\mathbf{y_t}|\\mathbf{x_t}}\\right)\\\\\n",
       "\\mathbf{m}_{\\mathbf{y_t}|\\mathbf{x_t}} &= \\mathbf{C} \\mathbf{x_t}\\\\\n",
       "\\mathbf{\\Sigma}_{\\mathbf{y_t}|\\mathbf{x_t}} &= \\mathbf{R}\\\\\n",
       "\\end{align*}"
      ],
      "text/plain": [
       "<IPython.core.display.Latex object>"
      ]
     },
     "metadata": {},
     "output_type": "display_data"
    }
   ],
   "source": [
    "p_yt = MVG([y_t], mean=C*x_t, cov=R, cond_vars=[x_t])\n",
    "\n",
    "print(\"p_yt:\")\n",
    "display(Latex(utils.matLatex(p_yt)))"
   ]
  },
  {
   "cell_type": "markdown",
   "metadata": {},
   "source": [
    "## 8. p(y_t ,x_t|y_(1:t-1))"
   ]
  },
  {
   "cell_type": "code",
   "execution_count": 10,
   "metadata": {
    "collapsed": false
   },
   "outputs": [
    {
     "name": "stdout",
     "output_type": "stream",
     "text": [
      "p_yt_xt:\n"
     ]
    },
    {
     "data": {
      "text/latex": [
       "\\begin{align*}\n",
       "p\\left(\\mathbf{y_t},\\mathbf{x_t}|\\mathbf{y_{1:t-1}}\\right)&= \\mathcal{N}\\left(\\left[\\begin{smallmatrix}\\mathbf{y_t}\\\\\\mathbf{x_t}\\end{smallmatrix}\\right];\\mathbf{m}_{\\mathbf{y_t},\\mathbf{x_t}|\\mathbf{y_{1:t-1}}},\\mathbf{\\Sigma}_{\\mathbf{y_t},\\mathbf{x_t}|\\mathbf{y_{1:t-1}}}\\right)\\\\\n",
       "\\mathbf{m}_{\\mathbf{y_t},\\mathbf{x_t}|\\mathbf{y_{1:t-1}}} &= \\left[\\begin{smallmatrix}\\mathbf{C} \\mathbf{A} \\mathbf{m_{t-1|t-1}}\\\\\\mathbf{A} \\mathbf{m_{t-1|t-1}}\\end{smallmatrix}\\right]\\\\\n",
       "\\mathbf{\\Sigma}_{\\mathbf{y_t},\\mathbf{x_t}|\\mathbf{y_{1:t-1}}} &= \\left[\\begin{smallmatrix}\\mathbf{R} + \\mathbf{C} \\left(\\mathbf{Q} + \\mathbf{A} \\mathbf{P_{t-1|t-1}} \\mathbf{A}^T\\right) \\mathbf{C}^T&\\mathbf{C} \\left(\\mathbf{Q} + \\mathbf{A} \\mathbf{P_{t-1|t-1}} \\mathbf{A}^T\\right)\\\\\\left(\\mathbf{Q} + \\mathbf{A} \\mathbf{P_{t-1|t-1}} \\mathbf{A}^T\\right) \\mathbf{C}^T&\\mathbf{Q} + \\mathbf{A} \\mathbf{P_{t-1|t-1}} \\mathbf{A}^T\\end{smallmatrix}\\right]\\\\\n",
       "\\end{align*}"
      ],
      "text/plain": [
       "<IPython.core.display.Latex object>"
      ]
     },
     "metadata": {},
     "output_type": "display_data"
    }
   ],
   "source": [
    "p_yt_xt = p_yt*p_xt_predict\n",
    "\n",
    "print(\"p_yt_xt:\")\n",
    "display(Latex(utils.matLatex(p_yt_xt)))"
   ]
  },
  {
   "cell_type": "markdown",
   "metadata": {},
   "source": [
    "## 9. p(x_t|y_(1:t))"
   ]
  },
  {
   "cell_type": "code",
   "execution_count": 11,
   "metadata": {
    "collapsed": false
   },
   "outputs": [
    {
     "name": "stdout",
     "output_type": "stream",
     "text": [
      "p_xt_update:\n"
     ]
    },
    {
     "data": {
      "text/latex": [
       "\\begin{align*}\n",
       "p\\left(\\mathbf{x_t}|\\mathbf{y_{1:t-1}},\\mathbf{y_t}\\right)&= \\mathcal{N}\\left(\\mathbf{x_t};\\mathbf{m}_{\\mathbf{x_t}|\\mathbf{y_{1:t-1}},\\mathbf{y_t}},\\mathbf{\\Sigma}_{\\mathbf{x_t}|\\mathbf{y_{1:t-1}},\\mathbf{y_t}}\\right)\\\\\n",
       "\\mathbf{m}_{\\mathbf{x_t}|\\mathbf{y_{1:t-1}},\\mathbf{y_t}} &= \\mathbf{A} \\mathbf{m_{t-1|t-1}} + \\left(\\mathbf{Q} + \\mathbf{A} \\mathbf{P_{t-1|t-1}} \\mathbf{A}^T\\right) \\mathbf{C}^T \\left(\\mathbf{R} + \\mathbf{C} \\left(\\mathbf{Q} + \\mathbf{A} \\mathbf{P_{t-1|t-1}} \\mathbf{A}^T\\right) \\mathbf{C}^T\\right)^{-1} \\left(\\mathbf{y_t} - \\mathbf{C} \\mathbf{A} \\mathbf{m_{t-1|t-1}}\\right)\\\\\n",
       "\\mathbf{\\Sigma}_{\\mathbf{x_t}|\\mathbf{y_{1:t-1}},\\mathbf{y_t}} &= \\mathbf{Q} + \\mathbf{A} \\mathbf{P_{t-1|t-1}} \\mathbf{A}^T - \\left(\\mathbf{Q} + \\mathbf{A} \\mathbf{P_{t-1|t-1}} \\mathbf{A}^T\\right) \\mathbf{C}^T \\left(\\mathbf{R} + \\mathbf{C} \\left(\\mathbf{Q} + \\mathbf{A} \\mathbf{P_{t-1|t-1}} \\mathbf{A}^T\\right) \\mathbf{C}^T\\right)^{-1} \\mathbf{C} \\left(\\mathbf{Q} + \\mathbf{A} \\mathbf{P_{t-1|t-1}} \\mathbf{A}^T\\right)\\\\\n",
       "\\end{align*}"
      ],
      "text/plain": [
       "<IPython.core.display.Latex object>"
      ]
     },
     "metadata": {},
     "output_type": "display_data"
    }
   ],
   "source": [
    "p_xt_update = p_yt_xt.condition([y_t])\n",
    "\n",
    "print(\"p_xt_update:\")\n",
    "display(Latex(utils.matLatex(p_xt_update)))"
   ]
  },
  {
   "cell_type": "markdown",
   "metadata": {},
   "source": [
    "## Numerical Evaluation"
   ]
  },
  {
   "cell_type": "code",
   "execution_count": 12,
   "metadata": {
    "collapsed": false
   },
   "outputs": [],
   "source": [
    "from sympy import Matrix, Identity\n",
    "import numpy as np\n",
    "\n",
    "d = {'A': np.array([[1, 0, 1, 0],[0, 1, 0, 1],[0, 0, 1, 0],[0, 0, 0, 1]],dtype=np.float32),\n",
    "     'C': np.array([[1, 0, 0, 0],[0, 1, 0, 0]], dtype=np.float32),\n",
    "     'Q': 0.001*np.eye(4),#Matrix(Identity(4)),\n",
    "     'R': np.eye(2),#Matrix(Identity(2)),\n",
    "     'm_{t-1|t-1}': np.array([[8],[10],[1],[0]],dtype=np.float32),\n",
    "     'P_{t-1|t-1}': np.eye(4),#Matrix(Identity(4)),\n",
    "     'b_t': np.array([[0],[0],[0],[0]],dtype=np.float32),\n",
    "     'd_t': np.array([[0],[0]],dtype=np.float32)}\n"
   ]
  },
  {
   "cell_type": "code",
   "execution_count": 13,
   "metadata": {
    "collapsed": true
   },
   "outputs": [],
   "source": [
    "def ldsSample(A, C, Q, R, initmu, T):\n",
    "    \"\"\"\n",
    "        Simulates a run of a linear dynamical system\n",
    "    \"\"\"\n",
    "    \n",
    "    A, C = np.array(A.tolist(), dtype=np.float32), np.array(C.tolist(), dtype=np.float32)\n",
    "    Q, R = np.array(Q.tolist(), dtype=np.float32), np.array(R.tolist(), dtype=np.float32)\n",
    "    initmu = np.array(initmu.tolist(), dtype=np.float32).reshape((-1,))\n",
    "    \n",
    "    ss = A.shape[0]\n",
    "    os = C.shape[0]\n",
    "    \n",
    "    x = np.zeros((ss,T))\n",
    "    y = np.zeros((os,T))\n",
    "    \n",
    "    x[:,0] = np.dot(A,initmu) + np.random.multivariate_normal(np.zeros(ss),Q)\n",
    "    y[:,0] = np.dot(C,x[:,0]) + np.random.multivariate_normal(np.zeros(os),R)\n",
    "    \n",
    "    for t in range(1,T):\n",
    "        x[:,t] = np.dot(A,x[:,t-1]) + np.random.multivariate_normal(np.zeros(ss),Q)\n",
    "        y[:,t] = np.dot(C,x[:,t-1]) + np.random.multivariate_normal(np.zeros(os),R)\n",
    "    \n",
    "    return x,y\n"
   ]
  },
  {
   "cell_type": "code",
   "execution_count": 14,
   "metadata": {
    "collapsed": false
   },
   "outputs": [],
   "source": [
    "T = 15\n",
    "x, y = ldsSample(d['A'], d['C'], d['Q'], d['R'], d['m_{t-1|t-1}'], T)\n",
    "\n",
    "d['y_t'] = Matrix(y[:,0].reshape((-1,1)))"
   ]
  },
  {
   "cell_type": "code",
   "execution_count": 17,
   "metadata": {
    "collapsed": false
   },
   "outputs": [],
   "source": [
    "def kalmanFilter(y, A, C, Q, R, init_m, init_V, debug=False):\n",
    "    \n",
    "    A, C = np.array(A.tolist(), dtype=np.float32), np.array(C.tolist(), dtype=np.float32)\n",
    "    Q, R = np.array(Q.tolist(), dtype=np.float32), np.array(R.tolist(), dtype=np.float32)\n",
    "    init_m = np.array(init_m.tolist(), dtype=np.float32).reshape((-1,))\n",
    "    init_V = np.array(init_V.tolist(), dtype=np.float32)\n",
    "    \n",
    "    os, T = y.shape   #Observations shape \n",
    "    ss = A.shape[0]   #State space size\n",
    "    \n",
    "    m = np.zeros((ss, T))\n",
    "    mpred = np.zeros((ss, T))\n",
    "    V = np.zeros((ss, ss, T))\n",
    "    Vpred = np.zeros((ss, ss, T))\n",
    "    \n",
    "    for t in range(T):\n",
    "        if t==0:\n",
    "            d['m_{t-1|t-1}'] = init_m\n",
    "            d['P_{t-1|t-1}'] = init_V\n",
    "        else:\n",
    "            d['m_{t-1|t-1}'] = m[:,t-1]\n",
    "            d['P_{t-1|t-1}'] = V[:,:,t-1]\n",
    "        \n",
    "        d['y_t'] = Matrix(y[:,t].reshape((-1,1)))\n",
    "        \n",
    "        if debug:\n",
    "            print(\"t: \", t)\n",
    "            print(\"d['m_{t-1|t-1}']: \",d['m_{t-1|t-1}'])\n",
    "            print(\"d['P_{t-1|t-1}']: \",d['P_{t-1|t-1}'])\n",
    "            print(\"d['y_t']: \", d['y_t'])\n",
    "        \n",
    "    \n",
    "        m[:,t] =  utils.replace_with_num(p_xt_update.mean.to_full_expr(), d, debug)\n",
    "        V[:,:,t] = utils.replace_with_num(p_xt_update.covar.to_full_expr(), d, debug)\n",
    "        mpred[:,t] = utils.replace_with_num(p_xt_predict.mean.to_full_expr(), d, debug)\n",
    "        Vpred[:,:,t] = utils.replace_with_num(p_xt_predict.covar.to_full_expr(), d, debug)\n",
    "                \n",
    "    \n",
    "    return m, V, mpred, Vpred"
   ]
  },
  {
   "cell_type": "code",
   "execution_count": 18,
   "metadata": {
    "collapsed": false
   },
   "outputs": [],
   "source": [
    "mfilt, Vfilt, mpred, Vpred = kalmanFilter(y, d['A'], d['C'], d['Q'], d['R'], d['m_{t-1|t-1}'], d['P_{t-1|t-1}'])"
   ]
  },
  {
   "cell_type": "code",
   "execution_count": 19,
   "metadata": {
    "collapsed": false
   },
   "outputs": [],
   "source": [
    "#Configure the matplotlib backend as plotting inline\n",
    "%matplotlib inline\n",
    "import matplotlib.pyplot as plt\n",
    "import matplotlib.patches as patches\n",
    "\n",
    "#Enables latex\n",
    "from matplotlib import rc\n",
    "rc('font',**{'family':'sans-serif','sans-serif':['Helvetica'],'size':'20'})\n",
    "## for Palatino and other serif fonts use:\n",
    "#rc('font',**{'family':'serif','serif':['Palatino']})\n",
    "rc('text', usetex=True)\n",
    "\n",
    "def plotGaussianEllipse(ax, m, V, ellipsecolor, markercolor,label=None,t=None):\n",
    "    \"\"\"\n",
    "        Plots an ellipse representing the covariance matrix of a Gaussian.\n",
    "        \n",
    "        Args:\n",
    "            ax - The Axes object on which to plot the ellipses\n",
    "            m - The centre of the ellipse\n",
    "            V - Covariance matrix\n",
    "            ellipsecolor - Ellipse color border colour\n",
    "            markercolor - Centre marker colour\n",
    "          (Optional)\n",
    "            label - label for the plot containing this point\n",
    "            t - point at which to add new data\n",
    "    \"\"\"\n",
    "    \n",
    "    s = 4.605  #90% confidence interval\n",
    "    eigVals, eigVecs = np.linalg.eig(V)\n",
    "        \n",
    "    #Sort eigvalues to make sure that large eigval is first\n",
    "    idx = eigVals.argsort()[::-1]\n",
    "    eigVals = eigVals[idx]\n",
    "    eigVecs = eigVecs[:,idx]\n",
    "        \n",
    "    #Add ellipse to axes\n",
    "    border = patches.Arc(xy=m,width = 2*(s*eigVals[0])**0.5,height = 2*(s*eigVals[1])**0.5,\n",
    "                        angle=np.degrees(np.arctan2(eigVecs[1,0],eigVecs[0,0])), \\\n",
    "                         linewidth=0.5, linestyle='--',color=ellipsecolor,fill=False, zorder=2)\n",
    "    ax.add_patch(border)\n",
    "    \n",
    "    #Either plot points that are joined by a line or plot them individually\n",
    "    if t != None:\n",
    "        data = ax.lines[-1].get_data()\n",
    "        if t >= len(data[0]):\n",
    "            new_xdata = np.append(data[0],m[0])\n",
    "            new_ydata = np.append(data[1],m[1])\n",
    "            ax.lines[-1].set_data((new_xdata, new_ydata))\n",
    "        else:\n",
    "            data[0][t] = m[0]\n",
    "            data[1][t] = m[1]\n",
    "            ax.lines[-1].set_data((data[0],data[1]))        \n",
    "    else:   \n",
    "        ax.plot(m[0],m[1],'x-',ms=10,mew=2,c=markercolor,label=label)\n",
    "    \n",
    "def plotLine(ax, a, b, color):\n",
    "    \"\"\"\n",
    "        Plots a line between two points\n",
    "    \"\"\"\n",
    "    ax.plot([a[0], b[0]],[a[1], b[1]], color=color,linestyle='solid')"
   ]
  },
  {
   "cell_type": "code",
   "execution_count": 20,
   "metadata": {
    "collapsed": false
   },
   "outputs": [
    {
     "data": {
      "image/png": "[encoded data removed]",
      "text/plain": [
       "<matplotlib.figure.Figure at 0x10e039a20>"
      ]
     },
     "metadata": {},
     "output_type": "display_data"
    }
   ],
   "source": [
    "#Set up figure\n",
    "fig = plt.figure()\n",
    "fig.set_size_inches(20,7)\n",
    "ax = fig.add_subplot(111)\n",
    "plt.axis('equal')\n",
    "\n",
    "#Plot observations and true data\n",
    "ax.set_xlim(left=5,right=25)\n",
    "ax.set_ylim(bottom=5,top=15)\n",
    "ax.plot(y[0,:],y[1,:],'ko',label=r'Obs')  \n",
    "ax.plot(x[0,:],x[1,:],'g-s',label=r'True')\n",
    "ax.set_xlabel('$x_{1}$')\n",
    "ax.set_ylabel('$x_{2}$')\n",
    "fig.tight_layout()\n",
    "\n",
    "runTillEnd = False\n",
    "\n",
    "#Plot Kalman filter estimate\n",
    "for t in range(mfilt.shape[1]):\n",
    "    if not runTillEnd:\n",
    "        if input(\"Press enter to continue (Predict). Type 'rte' to run simulation to end.\") == \"rte\":\n",
    "            runTillEnd = True\n",
    "            \n",
    "    clear_output(wait=True)\n",
    "    \n",
    "    #Plot prediction\n",
    "    plotGaussianEllipse(ax, mpred[:,t], Vpred[:,:,t], \\\n",
    "                    ellipsecolor='green', markercolor='green')\n",
    "    display(plt.gcf())\n",
    "    \n",
    "    if not runTillEnd:\n",
    "        if input(\"Press enter to continue (Measurement). Type 'rte' to run simulation to end.\") == \"rte\":\n",
    "            runTillEnd = True\n",
    "            \n",
    "    clear_output(wait=True)\n",
    "    \n",
    "    #Remove last prediction ellipse\n",
    "    del ax.patches[-1]\n",
    "    del ax.lines[-1]\n",
    "            \n",
    "    #Plot update\n",
    "    if t == 0:\n",
    "        plotGaussianEllipse(ax, mfilt[:2,t],Vfilt[:2,:2,t],\\\n",
    "                    ellipsecolor='blue', markercolor='red',label=r'Filter')\n",
    "        ax.legend()\n",
    "    else:\n",
    "        plotGaussianEllipse(ax, mfilt[:2,t],Vfilt[:2,:2,t],\\\n",
    "                    ellipsecolor='blue', markercolor='red',t=t)\n",
    "    display(plt.gcf())\n",
    "\n",
    "clear_output(wait=True)"
   ]
  },
  {
   "cell_type": "markdown",
   "metadata": {},
   "source": [
    "## Simplification"
   ]
  },
  {
   "cell_type": "markdown",
   "metadata": {},
   "source": [
    "### Covariance of p(x_t|y_{1:t})"
   ]
  },
  {
   "cell_type": "code",
   "execution_count": 21,
   "metadata": {
    "collapsed": false
   },
   "outputs": [],
   "source": [
    "simp_exprs, subs = utils.simplify(p_xt_update.covar.to_full_expr())"
   ]
  },
  {
   "cell_type": "code",
   "execution_count": 22,
   "metadata": {
    "collapsed": false
   },
   "outputs": [
    {
     "name": "stdout",
     "output_type": "stream",
     "text": [
      "s:  Q + (-1)*(Q + A_{0})*C'*(R + C*(Q + A_{0})*C')^-1*C*(Q + A_{0}) + A_{0}\n",
      "s:  (Q + A_{0})*(I + (-1)*C'*(R + C*(Q + A_{0})*C')^-1*C*(Q + A_{0}))\n",
      "s:  (I + (-1)*(Q + A_{0})*C'*(R + C*(Q + A_{0})*C')^-1*C)*(Q + A_{0})\n",
      "s:  (-1)*A_{1}*C'*(R + C*A_{1}*C')^-1*C*A_{1} + A_{1}\n",
      "s:  A_{1}*(I + (-1)*C'*(R + C*A_{1}*C')^-1*C*A_{1})\n",
      "s:  (I + (-1)*A_{1}*C'*(R + C*A_{1}*C')^-1*C)*A_{1}\n",
      "s:  (-1)*A_{2}*C*A_{1} + A_{1}\n",
      "s:  (I + (-1)*A_{2}*C)*A_{1}\n",
      "A_{1}*C'*(R + C*A_{1}*C')^-1: A_{2}\n",
      "A*P_{t-1|t-1}*A': A_{0}\n",
      "Q + A_{0}: A_{1}\n"
     ]
    }
   ],
   "source": [
    "for s in simp_exprs:\n",
    "    print(\"s: \", s)\n",
    "\n",
    "for s in subs.keys():\n",
    "    print(\"%s: %s\"%(s,subs[s]))"
   ]
  }
 ],
 "metadata": {
  "anaconda-cloud": {},
  "kernelspec": {
   "display_name": "Python [Root]",
   "language": "python",
   "name": "Python [Root]"
  },
  "language_info": {
   "codemirror_mode": {
    "name": "ipython",
    "version": 3
   },
   "file_extension": ".py",
   "mimetype": "text/x-python",
   "name": "python",
   "nbconvert_exporter": "python",
   "pygments_lexer": "ipython3",
   "version": "3.5.2"
  },
  "latex_envs": {
   "bibliofile": "biblio.bib",
   "cite_by": "apalike",
   "current_citInitial": 1,
   "eqLabelWithNumbers": true,
   "eqNumInitial": 0
  }
 },
 "nbformat": 4,
 "nbformat_minor": 0
}
