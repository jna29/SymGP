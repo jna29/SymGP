{
 "cells": [
  {
   "cell_type": "markdown",
   "metadata": {},
   "source": [
    "# Kalman Filter"
   ]
  },
  {
   "cell_type": "code",
   "execution_count": 1,
   "metadata": {
    "collapsed": false
   },
   "outputs": [],
   "source": [
    "import sys\n",
    "# Add the symgp folder path to the sys.path list\n",
    "module_path = r'/Users/jaduol/Documents/Uni (original)/Part II/IIB/MEng Project/'\n",
    "if module_path not in sys.path:\n",
    "    sys.path.append(module_path)\n",
    "\n",
    "from symgp import SuperMatSymbol, utils, MVG, Variable, SuperDiagMat, Kernel, Covariance, Constant, Mean\n",
    "from sympy import symbols, ZeroMatrix, Identity\n",
    "from IPython.display import display, Math, Latex, clear_output"
   ]
  },
  {
   "cell_type": "code",
   "execution_count": 2,
   "metadata": {
    "collapsed": false
   },
   "outputs": [],
   "source": [
    "# Shapes\n",
    "m, n, t = symbols('m n t')"
   ]
  },
  {
   "cell_type": "markdown",
   "metadata": {},
   "source": [
    "## 1. Variables"
   ]
  },
  {
   "cell_type": "code",
   "execution_count": 3,
   "metadata": {
    "collapsed": false
   },
   "outputs": [],
   "source": [
    "# Variables\n",
    "x_prev, x_t, y_prev, y_t, b_t, d_t, w_t, e_t = utils.variables('x_{t-1} x_t y_{1:t-1} y_t b_t d_t w_t e_t', \n",
    "                                                                [m, m, (n,t-1), n, m, n, m, n])"
   ]
  },
  {
   "cell_type": "markdown",
   "metadata": {},
   "source": [
    "## 2. Constant Parameters"
   ]
  },
  {
   "cell_type": "code",
   "execution_count": 4,
   "metadata": {
    "collapsed": false
   },
   "outputs": [],
   "source": [
    "# Constant parameters\n",
    "A, C = utils.constants('A C',[(m,m), (n,m)])                                  \n",
    "Q = Covariance(w_t, name='Q')\n",
    "R = Covariance(e_t, name='R')"
   ]
  },
  {
   "cell_type": "markdown",
   "metadata": {},
   "source": [
    "## 3. p(x_(t-1)|y_(1:t-1))"
   ]
  },
  {
   "cell_type": "code",
   "execution_count": 5,
   "metadata": {
    "collapsed": false
   },
   "outputs": [
    {
     "name": "stdout",
     "output_type": "stream",
     "text": [
      "p_xprev:\n"
     ]
    },
    {
     "data": {
      "text/latex": [
       "\\begin{align*}\n",
       "p\\left(\\mathbf{x_{t-1}}|\\mathbf{y_{1:t-1}}\\right)&= \\mathcal{N}\\left(\\mathbf{x_{t-1}};\\mathbf{m}_{\\mathbf{x_{t-1}}|\\mathbf{y_{1:t-1}}},\\mathbf{\\Sigma}_{\\mathbf{x_{t-1}}|\\mathbf{y_{1:t-1}}}\\right)\\\\\n",
       "\\mathbf{m}_{\\mathbf{x_{t-1}}|\\mathbf{y_{1:t-1}}} &= \\mathbf{m_{t-1|t-1}}\\\\\n",
       "\\mathbf{\\Sigma}_{\\mathbf{x_{t-1}}|\\mathbf{y_{1:t-1}}} &= \\mathbf{P_{t-1|t-1}}\\\\\n",
       "\\end{align*}"
      ],
      "text/plain": [
       "<IPython.core.display.Latex object>"
      ]
     },
     "metadata": {},
     "output_type": "display_data"
    }
   ],
   "source": [
    "# p(x_(t-1)|y_(1:t-1))\n",
    "f_prev = Mean(x_prev, name='m_{t-1|t-1}') \n",
    "F_prev = Covariance(x_prev, name='P_{t-1|t-1}') \n",
    "p_xprev = MVG([x_prev], mean=f_prev, cov=F_prev, cond_vars=[y_prev])\n",
    "\n",
    "print(\"p_xprev:\")\n",
    "display(Latex(utils.matLatex(p_xprev)))"
   ]
  },
  {
   "cell_type": "markdown",
   "metadata": {},
   "source": [
    "## 4. p(x_t|x_(t-1))"
   ]
  },
  {
   "cell_type": "code",
   "execution_count": 6,
   "metadata": {
    "collapsed": false
   },
   "outputs": [
    {
     "name": "stdout",
     "output_type": "stream",
     "text": [
      "p_xt:\n"
     ]
    },
    {
     "data": {
      "text/latex": [
       "\\begin{align*}\n",
       "p\\left(\\mathbf{x_t}|\\mathbf{x_{t-1}}\\right)&= \\mathcal{N}\\left(\\mathbf{x_t};\\mathbf{m}_{\\mathbf{x_t}|\\mathbf{x_{t-1}}},\\mathbf{\\Sigma}_{\\mathbf{x_t}|\\mathbf{x_{t-1}}}\\right)\\\\\n",
       "\\mathbf{m}_{\\mathbf{x_t}|\\mathbf{x_{t-1}}} &= \\mathbf{A} \\mathbf{x_{t-1}} + \\mathbf{b_t}\\\\\n",
       "\\mathbf{\\Sigma}_{\\mathbf{x_t}|\\mathbf{x_{t-1}}} &= \\mathbf{Q}\\\\\n",
       "\\end{align*}"
      ],
      "text/plain": [
       "<IPython.core.display.Latex object>"
      ]
     },
     "metadata": {},
     "output_type": "display_data"
    }
   ],
   "source": [
    "p_xt = MVG([x_t], mean=A*x_prev + b_t, cov=Q, cond_vars=[x_prev])\n",
    "\n",
    "print(\"p_xt:\")\n",
    "display(Latex(utils.matLatex(p_xt)))"
   ]
  },
  {
   "cell_type": "markdown",
   "metadata": {},
   "source": [
    "## 5. p(x_t,x_(t-1)|y_(1:t-1))"
   ]
  },
  {
   "cell_type": "code",
   "execution_count": 7,
   "metadata": {
    "collapsed": false
   },
   "outputs": [
    {
     "name": "stdout",
     "output_type": "stream",
     "text": [
      "p_xt_xprev:\n"
     ]
    },
    {
     "data": {
      "text/latex": [
       "\\begin{align*}\n",
       "p\\left(\\mathbf{x_t},\\mathbf{x_{t-1}}|\\mathbf{y_{1:t-1}}\\right)&= \\mathcal{N}\\left(\\left[\\begin{smallmatrix}\\mathbf{x_t}\\\\\\mathbf{x_{t-1}}\\end{smallmatrix}\\right];\\mathbf{m}_{\\mathbf{x_t},\\mathbf{x_{t-1}}|\\mathbf{y_{1:t-1}}},\\mathbf{\\Sigma}_{\\mathbf{x_t},\\mathbf{x_{t-1}}|\\mathbf{y_{1:t-1}}}\\right)\\\\\n",
       "\\mathbf{m}_{\\mathbf{x_t},\\mathbf{x_{t-1}}|\\mathbf{y_{1:t-1}}} &= \\left[\\begin{smallmatrix}\\mathbf{A} \\mathbf{m_{t-1|t-1}} + \\mathbf{b_t}\\\\\\mathbf{m_{t-1|t-1}}\\end{smallmatrix}\\right]\\\\\n",
       "\\mathbf{\\Sigma}_{\\mathbf{x_t},\\mathbf{x_{t-1}}|\\mathbf{y_{1:t-1}}} &= \\left[\\begin{smallmatrix}\\mathbf{Q} + \\mathbf{A} \\mathbf{P_{t-1|t-1}} \\mathbf{A}^T&\\mathbf{A} \\mathbf{P_{t-1|t-1}}\\\\\\mathbf{P_{t-1|t-1}} \\mathbf{A}^T&\\mathbf{P_{t-1|t-1}}\\end{smallmatrix}\\right]\\\\\n",
       "\\end{align*}"
      ],
      "text/plain": [
       "<IPython.core.display.Latex object>"
      ]
     },
     "metadata": {},
     "output_type": "display_data"
    }
   ],
   "source": [
    "p_xt_xprev = p_xt*p_xprev\n",
    "\n",
    "print(\"p_xt_xprev:\")\n",
    "display(Latex(utils.matLatex(p_xt_xprev)))"
   ]
  },
  {
   "cell_type": "code",
   "execution_count": 8,
   "metadata": {
    "collapsed": false
   },
   "outputs": [
    {
     "name": "stdout",
     "output_type": "stream",
     "text": [
      "[[S_{x_t,x_t}, S_{x_t,x_{t-1}}], [S_{x_{t-1},x_t}, S_{x_{t-1},x_{t-1}}]]\n",
      "[[Q + A*P_{t-1|t-1}*A', A*P_{t-1|t-1}], [P_{t-1|t-1}*A', P_{t-1|t-1}]]\n"
     ]
    }
   ],
   "source": [
    "print(p_xt_xprev.covar.blockform)\n",
    "print(p_xt_xprev.covar.to_full_expr())"
   ]
  },
  {
   "cell_type": "markdown",
   "metadata": {},
   "source": [
    "## 6. p(x_t|y_(1:t-1))"
   ]
  },
  {
   "cell_type": "code",
   "execution_count": 9,
   "metadata": {
    "collapsed": false
   },
   "outputs": [
    {
     "name": "stdout",
     "output_type": "stream",
     "text": [
      "p_xt_predict:\n"
     ]
    },
    {
     "data": {
      "text/latex": [
       "\\begin{align*}\n",
       "p\\left(\\mathbf{x_t}|\\mathbf{y_{1:t-1}}\\right)&= \\mathcal{N}\\left(\\mathbf{x_t};\\mathbf{m}_{\\mathbf{x_t}|\\mathbf{y_{1:t-1}}},\\mathbf{\\Sigma}_{\\mathbf{x_t}|\\mathbf{y_{1:t-1}}}\\right)\\\\\n",
       "\\mathbf{m}_{\\mathbf{x_t}|\\mathbf{y_{1:t-1}}} &= \\mathbf{A} \\mathbf{m_{t-1|t-1}} + \\mathbf{b_t}\\\\\n",
       "\\mathbf{\\Sigma}_{\\mathbf{x_t}|\\mathbf{y_{1:t-1}}} &= \\mathbf{Q} + \\mathbf{A} \\mathbf{P_{t-1|t-1}} \\mathbf{A}^T\\\\\n",
       "\\end{align*}"
      ],
      "text/plain": [
       "<IPython.core.display.Latex object>"
      ]
     },
     "metadata": {},
     "output_type": "display_data"
    }
   ],
   "source": [
    "p_xt_predict = p_xt_xprev.marginalise([x_prev])\n",
    "\n",
    "print(\"p_xt_predict:\")\n",
    "display(Latex(utils.matLatex(p_xt_predict)))"
   ]
  },
  {
   "cell_type": "code",
   "execution_count": 10,
   "metadata": {
    "collapsed": false
   },
   "outputs": [
    {
     "name": "stdout",
     "output_type": "stream",
     "text": [
      "\\begin{align*}\n",
      "p\\left(\\mathbf{x_t}|\\mathbf{y_{1:t-1}}\\right)&= \\mathcal{N}\\left(\\mathbf{x_t};\\mathbf{m}_{\\mathbf{x_t}|\\mathbf{y_{1:t-1}}},\\mathbf{\\Sigma}_{\\mathbf{x_t}|\\mathbf{y_{1:t-1}}}\\right)\\\\\n",
      "\\mathbf{m}_{\\mathbf{x_t}|\\mathbf{y_{1:t-1}}} &= \\mathbf{A} \\mathbf{m_{t-1|t-1}} + \\mathbf{b_t}\\\\\n",
      "\\mathbf{\\Sigma}_{\\mathbf{x_t}|\\mathbf{y_{1:t-1}}} &= \\mathbf{Q} + \\mathbf{A} \\mathbf{P_{t-1|t-1}} \\mathbf{A}^T\\\\\n",
      "\\end{align*}\n"
     ]
    }
   ],
   "source": [
    "print(utils.matLatex(p_xt_predict))"
   ]
  },
  {
   "cell_type": "markdown",
   "metadata": {},
   "source": [
    "## 7. p(y_t|x_t)"
   ]
  },
  {
   "cell_type": "code",
   "execution_count": 11,
   "metadata": {
    "collapsed": false
   },
   "outputs": [
    {
     "name": "stdout",
     "output_type": "stream",
     "text": [
      "p_yt:\n"
     ]
    },
    {
     "data": {
      "text/latex": [
       "\\begin{align*}\n",
       "p\\left(\\mathbf{y_t}|\\mathbf{x_t}\\right)&= \\mathcal{N}\\left(\\mathbf{y_t};\\mathbf{m}_{\\mathbf{y_t}|\\mathbf{x_t}},\\mathbf{\\Sigma}_{\\mathbf{y_t}|\\mathbf{x_t}}\\right)\\\\\n",
       "\\mathbf{m}_{\\mathbf{y_t}|\\mathbf{x_t}} &= \\mathbf{C} \\mathbf{x_t} + \\mathbf{d_t}\\\\\n",
       "\\mathbf{\\Sigma}_{\\mathbf{y_t}|\\mathbf{x_t}} &= \\mathbf{R}\\\\\n",
       "\\end{align*}"
      ],
      "text/plain": [
       "<IPython.core.display.Latex object>"
      ]
     },
     "metadata": {},
     "output_type": "display_data"
    }
   ],
   "source": [
    "p_yt = MVG([y_t], mean=C*x_t + d_t, cov=R, cond_vars=[x_t])\n",
    "\n",
    "print(\"p_yt:\")\n",
    "display(Latex(utils.matLatex(p_yt)))"
   ]
  },
  {
   "cell_type": "markdown",
   "metadata": {},
   "source": [
    "## 8. p(y_t ,x_t|y_(1:t-1))"
   ]
  },
  {
   "cell_type": "code",
   "execution_count": 12,
   "metadata": {
    "collapsed": false
   },
   "outputs": [
    {
     "name": "stdout",
     "output_type": "stream",
     "text": [
      "p_yt_xt:\n"
     ]
    },
    {
     "data": {
      "text/latex": [
       "\\begin{align*}\n",
       "p\\left(\\mathbf{y_t},\\mathbf{x_t}|\\mathbf{y_{1:t-1}}\\right)&= \\mathcal{N}\\left(\\left[\\begin{smallmatrix}\\mathbf{y_t}\\\\\\mathbf{x_t}\\end{smallmatrix}\\right];\\mathbf{m}_{\\mathbf{y_t},\\mathbf{x_t}|\\mathbf{y_{1:t-1}}},\\mathbf{\\Sigma}_{\\mathbf{y_t},\\mathbf{x_t}|\\mathbf{y_{1:t-1}}}\\right)\\\\\n",
       "\\mathbf{m}_{\\mathbf{y_t},\\mathbf{x_t}|\\mathbf{y_{1:t-1}}} &= \\left[\\begin{smallmatrix}\\mathbf{C} \\left(\\mathbf{A} \\mathbf{m_{t-1|t-1}} + \\mathbf{b_t}\\right) + \\mathbf{d_t}\\\\\\mathbf{A} \\mathbf{m_{t-1|t-1}} + \\mathbf{b_t}\\end{smallmatrix}\\right]\\\\\n",
       "\\mathbf{\\Sigma}_{\\mathbf{y_t},\\mathbf{x_t}|\\mathbf{y_{1:t-1}}} &= \\left[\\begin{smallmatrix}\\mathbf{R} + \\mathbf{C} \\left(\\mathbf{Q} + \\mathbf{A} \\mathbf{P_{t-1|t-1}} \\mathbf{A}^T\\right) \\mathbf{C}^T&\\mathbf{C} \\left(\\mathbf{Q} + \\mathbf{A} \\mathbf{P_{t-1|t-1}} \\mathbf{A}^T\\right)\\\\\\left(\\mathbf{Q} + \\mathbf{A} \\mathbf{P_{t-1|t-1}} \\mathbf{A}^T\\right) \\mathbf{C}^T&\\mathbf{Q} + \\mathbf{A} \\mathbf{P_{t-1|t-1}} \\mathbf{A}^T\\end{smallmatrix}\\right]\\\\\n",
       "\\end{align*}"
      ],
      "text/plain": [
       "<IPython.core.display.Latex object>"
      ]
     },
     "metadata": {},
     "output_type": "display_data"
    }
   ],
   "source": [
    "p_yt_xt = p_yt*p_xt_predict\n",
    "\n",
    "print(\"p_yt_xt:\")\n",
    "display(Latex(utils.matLatex(p_yt_xt)))"
   ]
  },
  {
   "cell_type": "code",
   "execution_count": 13,
   "metadata": {
    "collapsed": false
   },
   "outputs": [
    {
     "name": "stdout",
     "output_type": "stream",
     "text": [
      "S_{y_t,y_t}\n"
     ]
    }
   ],
   "source": [
    "print(p_yt_xt.covar.blockform[0][0])"
   ]
  },
  {
   "cell_type": "markdown",
   "metadata": {},
   "source": [
    "## 9. p(x_t|y_(1:t))"
   ]
  },
  {
   "cell_type": "code",
   "execution_count": 14,
   "metadata": {
    "collapsed": false
   },
   "outputs": [
    {
     "name": "stdout",
     "output_type": "stream",
     "text": [
      "p_xt_update:\n"
     ]
    },
    {
     "data": {
      "text/latex": [
       "\\begin{align*}\n",
       "p\\left(\\mathbf{x_t}|\\mathbf{y_{1:t-1}},\\mathbf{y_t}\\right)&= \\mathcal{N}\\left(\\mathbf{x_t};\\mathbf{m}_{\\mathbf{x_t}|\\mathbf{y_{1:t-1}},\\mathbf{y_t}},\\mathbf{\\Sigma}_{\\mathbf{x_t}|\\mathbf{y_{1:t-1}},\\mathbf{y_t}}\\right)\\\\\n",
       "\\mathbf{m}_{\\mathbf{x_t}|\\mathbf{y_{1:t-1}},\\mathbf{y_t}} &= \\mathbf{A} \\mathbf{m_{t-1|t-1}} + \\left(\\mathbf{Q} + \\mathbf{A} \\mathbf{P_{t-1|t-1}} \\mathbf{A}^T\\right) \\mathbf{C}^T \\left(\\mathbf{R} + \\mathbf{C} \\left(\\mathbf{Q} + \\mathbf{A} \\mathbf{P_{t-1|t-1}} \\mathbf{A}^T\\right) \\mathbf{C}^T\\right)^{-1} \\left(\\mathbf{y_t} - \\left(\\mathbf{C} \\left(\\mathbf{A} \\mathbf{m_{t-1|t-1}} + \\mathbf{b_t}\\right) + \\mathbf{d_t}\\right)\\right) + \\mathbf{b_t}\\\\\n",
       "\\mathbf{\\Sigma}_{\\mathbf{x_t}|\\mathbf{y_{1:t-1}},\\mathbf{y_t}} &= \\mathbf{Q} + \\mathbf{A} \\mathbf{P_{t-1|t-1}} \\mathbf{A}^T - \\left(\\mathbf{Q} + \\mathbf{A} \\mathbf{P_{t-1|t-1}} \\mathbf{A}^T\\right) \\mathbf{C}^T \\left(\\mathbf{R} + \\mathbf{C} \\left(\\mathbf{Q} + \\mathbf{A} \\mathbf{P_{t-1|t-1}} \\mathbf{A}^T\\right) \\mathbf{C}^T\\right)^{-1} \\mathbf{C} \\left(\\mathbf{Q} + \\mathbf{A} \\mathbf{P_{t-1|t-1}} \\mathbf{A}^T\\right)\\\\\n",
       "\\end{align*}"
      ],
      "text/plain": [
       "<IPython.core.display.Latex object>"
      ]
     },
     "metadata": {},
     "output_type": "display_data"
    }
   ],
   "source": [
    "p_xt_update = p_yt_xt.condition([y_t])\n",
    "\n",
    "print(\"p_xt_update:\")\n",
    "display(Latex(utils.matLatex(p_xt_update)))"
   ]
  },
  {
   "cell_type": "code",
   "execution_count": null,
   "metadata": {
    "collapsed": true
   },
   "outputs": [],
   "source": []
  },
  {
   "cell_type": "code",
   "execution_count": 15,
   "metadata": {
    "collapsed": false
   },
   "outputs": [],
   "source": [
    "#from sympy import srepr\n",
    "#print(srepr(p_xt_update.mean.to_full_expr()))"
   ]
  },
  {
   "cell_type": "code",
   "execution_count": 16,
   "metadata": {
    "collapsed": false
   },
   "outputs": [],
   "source": [
    "from sympy import Matrix, Identity\n",
    "import numpy as np\n",
    "\n",
    "d = {'A': np.array([[1, 0, 1, 0],[0, 1, 0, 1],[0, 0, 1, 0],[0, 0, 0, 1]],dtype=np.float32),\n",
    "     'C': np.array([[1, 0, 0, 0],[0, 1, 0, 0]], dtype=np.float32),\n",
    "     'Q': 0.001*np.eye(4),#Matrix(Identity(4)),\n",
    "     'R': np.eye(2),#Matrix(Identity(2)),\n",
    "     'm_{t-1|t-1}': np.array([[8],[10],[1],[0]],dtype=np.float32),\n",
    "     'P_{t-1|t-1}': np.eye(4),#Matrix(Identity(4)),\n",
    "     'b_t': np.array([[0],[0],[0],[0]],dtype=np.float32),\n",
    "     'd_t': np.array([[0],[0]],dtype=np.float32)}\n"
   ]
  },
  {
   "cell_type": "code",
   "execution_count": 17,
   "metadata": {
    "collapsed": true
   },
   "outputs": [],
   "source": [
    "def ldsSample(A, C, Q, R, initmu, T):\n",
    "    \"\"\"\n",
    "        Simulates a run of a linear dynamical system\n",
    "    \"\"\"\n",
    "    \n",
    "    A, C = np.array(A.tolist(), dtype=np.float32), np.array(C.tolist(), dtype=np.float32)\n",
    "    Q, R = np.array(Q.tolist(), dtype=np.float32), np.array(R.tolist(), dtype=np.float32)\n",
    "    initmu = np.array(initmu.tolist(), dtype=np.float32).reshape((-1,))\n",
    "    \n",
    "    ss = A.shape[0]\n",
    "    os = C.shape[0]\n",
    "    \n",
    "    x = np.zeros((ss,T))\n",
    "    y = np.zeros((os,T))\n",
    "    \n",
    "    x[:,0] = np.dot(A,initmu) + np.random.multivariate_normal(np.zeros(ss),Q)\n",
    "    y[:,0] = np.dot(C,x[:,0]) + np.random.multivariate_normal(np.zeros(os),R)\n",
    "    \n",
    "    for t in range(1,T):\n",
    "        x[:,t] = np.dot(A,x[:,t-1]) + np.random.multivariate_normal(np.zeros(ss),Q)\n",
    "        y[:,t] = np.dot(C,x[:,t-1]) + np.random.multivariate_normal(np.zeros(os),R)\n",
    "    \n",
    "    return x,y\n"
   ]
  },
  {
   "cell_type": "code",
   "execution_count": 18,
   "metadata": {
    "collapsed": false
   },
   "outputs": [],
   "source": [
    "#T = 15\n",
    "#x, y = ldsSample(d['A'], d['C'], d['Q'], d['R'], d['m_{t-1|t-1}'], T)\n",
    "\n",
    "#d['y_t'] = Matrix(y[:,0].reshape((-1,1)))"
   ]
  },
  {
   "cell_type": "code",
   "execution_count": 19,
   "metadata": {
    "collapsed": false
   },
   "outputs": [],
   "source": [
    "def kalmanFilter(y, A, C, Q, R, init_m, init_V, debug=False):\n",
    "    \n",
    "    A, C = np.array(A.tolist(), dtype=np.float32), np.array(C.tolist(), dtype=np.float32)\n",
    "    Q, R = np.array(Q.tolist(), dtype=np.float32), np.array(R.tolist(), dtype=np.float32)\n",
    "    init_m = np.array(init_m.tolist(), dtype=np.float32).reshape((-1,))\n",
    "    init_V = np.array(init_V.tolist(), dtype=np.float32)\n",
    "    \n",
    "    os, T = y.shape   #Observations shape \n",
    "    ss = A.shape[0]   #State space size\n",
    "    \n",
    "    m = np.zeros((ss, T))\n",
    "    mpred = np.zeros((ss, T))\n",
    "    V = np.zeros((ss, ss, T))\n",
    "    Vpred = np.zeros((ss, ss, T))\n",
    "    \n",
    "    for t in range(T):\n",
    "        if t==0:\n",
    "            d['m_{t-1|t-1}'] = init_m\n",
    "            d['P_{t-1|t-1}'] = init_V\n",
    "        else:\n",
    "            d['m_{t-1|t-1}'] = m[:,t-1]\n",
    "            d['P_{t-1|t-1}'] = V[:,:,t-1]\n",
    "        \n",
    "        d['y_t'] = Matrix(y[:,t].reshape((-1,1)))\n",
    "        \n",
    "        if debug:\n",
    "            print(\"t: \", t)\n",
    "            print(\"d['m_{t-1|t-1}']: \",d['m_{t-1|t-1}'])\n",
    "            print(\"d['P_{t-1|t-1}']: \",d['P_{t-1|t-1}'])\n",
    "            print(\"d['y_t']: \", d['y_t'])\n",
    "        \n",
    "    \n",
    "        m[:,t] =  utils.search_and_replace_num(p_xt_update.mean.to_full_expr(), d, debug)\n",
    "        V[:,:,t] = utils.search_and_replace_num(p_xt_update.covar.to_full_expr(), d, debug)\n",
    "        mpred[:,t] = utils.search_and_replace_num(p_xt_predict.mean.to_full_expr(), d, debug)\n",
    "        Vpred[:,:,t] = utils.search_and_replace_num(p_xt_predict.covar.to_full_expr(), d, debug)\n",
    "                \n",
    "    \n",
    "    return m, V, mpred, Vpred"
   ]
  },
  {
   "cell_type": "code",
   "execution_count": 20,
   "metadata": {
    "collapsed": false
   },
   "outputs": [],
   "source": [
    "#mfilt, Vfilt, mpred, Vpred = kalmanFilter(y, d['A'], d['C'], d['Q'], d['R'], d['m_{t-1|t-1}'], d['P_{t-1|t-1}'])"
   ]
  },
  {
   "cell_type": "code",
   "execution_count": 21,
   "metadata": {
    "collapsed": false
   },
   "outputs": [],
   "source": [
    "#Configure the matplotlib backend as plotting inline\n",
    "\"\"\"%matplotlib inline\n",
    "import matplotlib.pyplot as plt\n",
    "import matplotlib.patches as patches\n",
    "\n",
    "#Enables latex\n",
    "from matplotlib import rc\n",
    "rc('font',**{'family':'sans-serif','sans-serif':['Helvetica'],'size':'20'})\n",
    "## for Palatino and other serif fonts use:\n",
    "#rc('font',**{'family':'serif','serif':['Palatino']})\n",
    "rc('text', usetex=True)\"\"\"\n",
    "\n",
    "def plotGaussianEllipse(ax, m, V, ellipsecolor, markercolor,label=None,t=None):\n",
    "    \"\"\"\n",
    "        Plots an ellipse representing the covariance matrix of a Gaussian.\n",
    "        \n",
    "        Args:\n",
    "            ax - The Axes object on which to plot the ellipses\n",
    "            m - The centre of the ellipse\n",
    "            V - Covariance matrix\n",
    "            ellipsecolor - Ellipse color border colour\n",
    "            markercolor - Centre marker colour\n",
    "          (Optional)\n",
    "            label - label for the plot containing this point\n",
    "            t - point at which to add new data\n",
    "    \"\"\"\n",
    "    \n",
    "    s = 4.605  #90% confidence interval\n",
    "    eigVals, eigVecs = np.linalg.eig(V)\n",
    "        \n",
    "    #Sort eigvalues to make sure that large eigval is first\n",
    "    idx = eigVals.argsort()[::-1]\n",
    "    eigVals = eigVals[idx]\n",
    "    eigVecs = eigVecs[:,idx]\n",
    "        \n",
    "    #Add ellipse to axes\n",
    "    border = patches.Arc(xy=m,width = 2*(s*eigVals[0])**0.5,height = 2*(s*eigVals[1])**0.5,\n",
    "                        angle=np.degrees(np.arctan2(eigVecs[1,0],eigVecs[0,0])), \\\n",
    "                         linewidth=0.5, linestyle='--',color=ellipsecolor,fill=False, zorder=2)\n",
    "    ax.add_patch(border)\n",
    "    \n",
    "    #Either plot points that are joined by a line or plot them individually\n",
    "    if t != None:\n",
    "        data = ax.lines[-1].get_data()\n",
    "        if t >= len(data[0]):\n",
    "            new_xdata = np.append(data[0],m[0])\n",
    "            new_ydata = np.append(data[1],m[1])\n",
    "            ax.lines[-1].set_data((new_xdata, new_ydata))\n",
    "        else:\n",
    "            data[0][t] = m[0]\n",
    "            data[1][t] = m[1]\n",
    "            ax.lines[-1].set_data((data[0],data[1]))        \n",
    "    else:   \n",
    "        ax.plot(m[0],m[1],'x-',ms=10,mew=2,c=markercolor,label=label)\n",
    "    \n",
    "def plotLine(ax, a, b, color):\n",
    "    \"\"\"\n",
    "        Plots a line between two points\n",
    "    \"\"\"\n",
    "    ax.plot([a[0], b[0]],[a[1], b[1]], color=color,linestyle='solid')"
   ]
  },
  {
   "cell_type": "code",
   "execution_count": 22,
   "metadata": {
    "collapsed": false
   },
   "outputs": [
    {
     "data": {
      "text/plain": [
       "'#Set up figure\\nfig = plt.figure()\\nfig.set_size_inches(20,7)\\nax = fig.add_subplot(111)\\nplt.axis(\\'equal\\')\\n\\n#Plot observations and true data\\nax.set_xlim(left=5,right=25)\\nax.set_ylim(bottom=5,top=15)\\nax.plot(y[0,:],y[1,:],\\'ko\\',label=r\\'Obs\\')  \\nax.plot(x[0,:],x[1,:],\\'g-s\\',label=r\\'True\\')\\nax.set_xlabel(\\'$x_{1}$\\')\\nax.set_ylabel(\\'$x_{2}$\\')\\nfig.tight_layout()\\n\\nrunTillEnd = False\\n\\n#Plot Kalman filter estimate\\nfor t in range(mfilt.shape[1]):\\n    if not runTillEnd:\\n        if input(\"Press enter to continue (Predict). Type \\'rte\\' to run simulation to end.\") == \"rte\":\\n            runTillEnd = True\\n            \\n    clear_output(wait=True)\\n    \\n    #Plot prediction\\n    plotGaussianEllipse(ax, mpred[:,t], Vpred[:,:,t],                     ellipsecolor=\\'green\\', markercolor=\\'green\\')\\n    display(plt.gcf())\\n    \\n    if not runTillEnd:\\n        if input(\"Press enter to continue (Measurement). Type \\'rte\\' to run simulation to end.\") == \"rte\":\\n            runTillEnd = True\\n            \\n    clear_output(wait=True)\\n    \\n    #Remove last prediction ellipse\\n    del ax.patches[-1]\\n    del ax.lines[-1]\\n            \\n    #Plot update\\n    if t == 0:\\n        plotGaussianEllipse(ax, mfilt[:2,t],Vfilt[:2,:2,t],                    ellipsecolor=\\'blue\\', markercolor=\\'red\\',label=r\\'Filter\\')\\n        ax.legend()\\n    else:\\n        plotGaussianEllipse(ax, mfilt[:2,t],Vfilt[:2,:2,t],                    ellipsecolor=\\'blue\\', markercolor=\\'red\\',t=t)\\n    display(plt.gcf())\\n\\nclear_output(wait=True)'"
      ]
     },
     "execution_count": 22,
     "metadata": {},
     "output_type": "execute_result"
    }
   ],
   "source": [
    "\"\"\"#Set up figure\n",
    "fig = plt.figure()\n",
    "fig.set_size_inches(20,7)\n",
    "ax = fig.add_subplot(111)\n",
    "plt.axis('equal')\n",
    "\n",
    "#Plot observations and true data\n",
    "ax.set_xlim(left=5,right=25)\n",
    "ax.set_ylim(bottom=5,top=15)\n",
    "ax.plot(y[0,:],y[1,:],'ko',label=r'Obs')  \n",
    "ax.plot(x[0,:],x[1,:],'g-s',label=r'True')\n",
    "ax.set_xlabel('$x_{1}$')\n",
    "ax.set_ylabel('$x_{2}$')\n",
    "fig.tight_layout()\n",
    "\n",
    "runTillEnd = False\n",
    "\n",
    "#Plot Kalman filter estimate\n",
    "for t in range(mfilt.shape[1]):\n",
    "    if not runTillEnd:\n",
    "        if input(\"Press enter to continue (Predict). Type 'rte' to run simulation to end.\") == \"rte\":\n",
    "            runTillEnd = True\n",
    "            \n",
    "    clear_output(wait=True)\n",
    "    \n",
    "    #Plot prediction\n",
    "    plotGaussianEllipse(ax, mpred[:,t], Vpred[:,:,t], \\\n",
    "                    ellipsecolor='green', markercolor='green')\n",
    "    display(plt.gcf())\n",
    "    \n",
    "    if not runTillEnd:\n",
    "        if input(\"Press enter to continue (Measurement). Type 'rte' to run simulation to end.\") == \"rte\":\n",
    "            runTillEnd = True\n",
    "            \n",
    "    clear_output(wait=True)\n",
    "    \n",
    "    #Remove last prediction ellipse\n",
    "    del ax.patches[-1]\n",
    "    del ax.lines[-1]\n",
    "            \n",
    "    #Plot update\n",
    "    if t == 0:\n",
    "        plotGaussianEllipse(ax, mfilt[:2,t],Vfilt[:2,:2,t],\\\n",
    "                    ellipsecolor='blue', markercolor='red',label=r'Filter')\n",
    "        ax.legend()\n",
    "    else:\n",
    "        plotGaussianEllipse(ax, mfilt[:2,t],Vfilt[:2,:2,t],\\\n",
    "                    ellipsecolor='blue', markercolor='red',t=t)\n",
    "    display(plt.gcf())\n",
    "\n",
    "clear_output(wait=True)\"\"\""
   ]
  },
  {
   "cell_type": "code",
   "execution_count": 23,
   "metadata": {
    "collapsed": false
   },
   "outputs": [],
   "source": [
    "#utils.display_expr_tree(p_xt_update.covar.to_full_expr())\n",
    "#print(utils.getMaxDepth(p_xt_update.covar.to_full_expr()))\n",
    "#for k,v in utils.getExprsAtDepth(p_xt_update.covar.to_full_expr(),range(8+1),debug=False).items():\n",
    "#    print(k,\": \",v)\n",
    "    \n",
    "#post_cov = utils.collect(p_xt_update.covar.to_full_expr(),[Q+A*F_prev*A.T],'right')\n",
    "#from symgp import SuperMatAdd, SuperMatMul"
   ]
  },
  {
   "cell_type": "code",
   "execution_count": 24,
   "metadata": {
    "collapsed": false
   },
   "outputs": [],
   "source": [
    "#utils.display_expr_tree(post_cov)\n",
    "#for k,v in utils.getExprsAtDepth(post_cov,range(8+1)).items():\n",
    "#    print(k,\": \",v)"
   ]
  },
  {
   "cell_type": "code",
   "execution_count": 25,
   "metadata": {
    "collapsed": false
   },
   "outputs": [],
   "source": [
    "#print(post_cov)\n",
    "#repl_dict = {Q + A*F_prev*A.T: p_xt_predict.covar}\n",
    "#new_cov_1 = utils.replace(post_cov, repl_dict,debug=False).doit()\n",
    "#print(new_cov_1)"
   ]
  },
  {
   "cell_type": "code",
   "execution_count": 26,
   "metadata": {
    "collapsed": false
   },
   "outputs": [
    {
     "data": {
      "text/plain": [
       "'post_mean = p_xt_update.mean.to_full_expr()\\nprint(post_mean)\\nrepl_dict = {Q + A*F_prev*A.T: p_xt_predict.covar, A*f_prev + b_t: p_xt.mean}\\nnew_mean_1 = utils.replace(post_mean, repl_dict).doit()\\nprint(new_mean_1)'"
      ]
     },
     "execution_count": 26,
     "metadata": {},
     "output_type": "execute_result"
    }
   ],
   "source": [
    "\"\"\"post_mean = p_xt_update.mean.to_full_expr()\n",
    "print(post_mean)\n",
    "repl_dict = {Q + A*F_prev*A.T: p_xt_predict.covar, A*f_prev + b_t: p_xt.mean}\n",
    "new_mean_1 = utils.replace(post_mean, repl_dict).doit()\n",
    "print(new_mean_1)\"\"\""
   ]
  },
  {
   "cell_type": "code",
   "execution_count": 27,
   "metadata": {
    "collapsed": false
   },
   "outputs": [
    {
     "data": {
      "text/plain": [
       "'from symgp import SuperMatAdd\\nfrom sympy import expand'"
      ]
     },
     "execution_count": 27,
     "metadata": {},
     "output_type": "execute_result"
    }
   ],
   "source": [
    "\"\"\"from symgp import SuperMatAdd\n",
    "from sympy import expand\"\"\""
   ]
  },
  {
   "cell_type": "code",
   "execution_count": 28,
   "metadata": {
    "collapsed": false
   },
   "outputs": [
    {
     "data": {
      "text/plain": [
       "'k = A*f_prev + b_t\\nsub_expr = k.args[0]\\nfor c in k.args[1:]:\\n    sub_expr += c\\nprint([post_mean.args[1].shape])\\nl = list(k.args) + [post_mean.args[1]+w_t]\\nprint(\"l: \",l)\\nprint(SuperMatAdd(*l))\\nprint(SuperMatAdd(*l).match(post_mean))'"
      ]
     },
     "execution_count": 28,
     "metadata": {},
     "output_type": "execute_result"
    }
   ],
   "source": [
    "\"\"\"k = A*f_prev + b_t\n",
    "sub_expr = k.args[0]\n",
    "for c in k.args[1:]:\n",
    "    sub_expr += c\n",
    "print([post_mean.args[1].shape])\n",
    "l = list(k.args) + [post_mean.args[1]+w_t]\n",
    "print(\"l: \",l)\n",
    "print(SuperMatAdd(*l))\n",
    "print(SuperMatAdd(*l).match(post_mean))\"\"\""
   ]
  },
  {
   "cell_type": "code",
   "execution_count": 29,
   "metadata": {
    "collapsed": false
   },
   "outputs": [
    {
     "data": {
      "text/plain": [
       "\"S_t = Constant('S_{t}',R.shape[0],R.shape[1], full_expr=R + C*p_xt_predict.covar*C.T)\\nrepl_dict = {R + C*p_xt_predict.covar*C.T: S_t}\\nprint(repl_dict)\\nnew_cov_2 = utils.replace(new_cov_1, repl_dict).doit()\\nprint(new_cov_2)\""
      ]
     },
     "execution_count": 29,
     "metadata": {},
     "output_type": "execute_result"
    }
   ],
   "source": [
    "\"\"\"S_t = Constant('S_{t}',R.shape[0],R.shape[1], full_expr=R + C*p_xt_predict.covar*C.T)\n",
    "repl_dict = {R + C*p_xt_predict.covar*C.T: S_t}\n",
    "print(repl_dict)\n",
    "new_cov_2 = utils.replace(new_cov_1, repl_dict).doit()\n",
    "print(new_cov_2)\"\"\""
   ]
  },
  {
   "cell_type": "code",
   "execution_count": 30,
   "metadata": {
    "collapsed": false
   },
   "outputs": [
    {
     "data": {
      "text/plain": [
       "'new_mean_2 = utils.replace(new_mean_1, repl_dict).doit()\\nprint(new_mean_2)'"
      ]
     },
     "execution_count": 30,
     "metadata": {},
     "output_type": "execute_result"
    }
   ],
   "source": [
    "\"\"\"new_mean_2 = utils.replace(new_mean_1, repl_dict).doit()\n",
    "print(new_mean_2)\"\"\""
   ]
  },
  {
   "cell_type": "code",
   "execution_count": 31,
   "metadata": {
    "collapsed": false
   },
   "outputs": [
    {
     "data": {
      "text/plain": [
       "\"K_t = Constant('K_{t}', x_t.shape[0], C.shape[0], full_expr=p_xt_predict.covar*C.T*S_t.I)\\nrepl_dict = {p_xt_predict.covar*C.T*S_t.I: K_t}\\nprint(repl_dict)\\nnew_cov_3 = utils.replace(new_cov_2, repl_dict).doit()\\nprint(new_cov_3)\\nprint(utils.expand_to_fullexpr(new_cov_3))\""
      ]
     },
     "execution_count": 31,
     "metadata": {},
     "output_type": "execute_result"
    }
   ],
   "source": [
    "\"\"\"K_t = Constant('K_{t}', x_t.shape[0], C.shape[0], full_expr=p_xt_predict.covar*C.T*S_t.I)\n",
    "repl_dict = {p_xt_predict.covar*C.T*S_t.I: K_t}\n",
    "print(repl_dict)\n",
    "new_cov_3 = utils.replace(new_cov_2, repl_dict).doit()\n",
    "print(new_cov_3)\n",
    "print(utils.expand_to_fullexpr(new_cov_3))\"\"\""
   ]
  },
  {
   "cell_type": "code",
   "execution_count": 32,
   "metadata": {
    "collapsed": false
   },
   "outputs": [
    {
     "data": {
      "text/plain": [
       "\"r_t = Constant('r_{t}', y_t.shape[0], y_t.shape[1], full_expr=y_t - (C*p_xt.mean + d_t))\\nrepl_dict[y_t - (C*p_xt.mean + d_t)] = r_t\\nnew_mean_3 = utils.replace(new_mean_2, repl_dict).doit()\\nprint(new_mean_3)\""
      ]
     },
     "execution_count": 32,
     "metadata": {},
     "output_type": "execute_result"
    }
   ],
   "source": [
    "\"\"\"r_t = Constant('r_{t}', y_t.shape[0], y_t.shape[1], full_expr=y_t - (C*p_xt.mean + d_t))\n",
    "repl_dict[y_t - (C*p_xt.mean + d_t)] = r_t\n",
    "new_mean_3 = utils.replace(new_mean_2, repl_dict).doit()\n",
    "print(new_mean_3)\"\"\""
   ]
  },
  {
   "cell_type": "code",
   "execution_count": 33,
   "metadata": {
    "collapsed": false
   },
   "outputs": [
    {
     "data": {
      "text/plain": [
       "\"print(utils.collect((Q+A*F_prev*A.T)*Identity(m)-(Q+A*F_prev*A.T)*C.T*(R + C*(Q+A*F_prev*A.T)*C.T).I*C*(Q + A*F_prev*A.T) + (Q+A*F_prev*A.T)*C.T*C*(Q+A*F_prev*A.T),\\n     [Q+A*F_prev*A.T],'right'))\""
      ]
     },
     "execution_count": 33,
     "metadata": {},
     "output_type": "execute_result"
    }
   ],
   "source": [
    "#myexpr=SuperMatAdd(SuperMatAdd(Q,A*F_prev*A.T),-(Q+A*F_prev*A.T)*C.T*(R + C*(Q+A*F_prev*A.T)*C.T).I*C*(Q + A*F_prev*A.T))\n",
    "#print(utils.collect(myexpr,[Q+A*F_prev*A.T],'left'))\n",
    "\"\"\"print(utils.collect((Q+A*F_prev*A.T)*Identity(m)-(Q+A*F_prev*A.T)*C.T*(R + C*(Q+A*F_prev*A.T)*C.T).I*C*(Q + A*F_prev*A.T) + (Q+A*F_prev*A.T)*C.T*C*(Q+A*F_prev*A.T),\n",
    "     [Q+A*F_prev*A.T],'right'))\"\"\""
   ]
  },
  {
   "cell_type": "code",
   "execution_count": 34,
   "metadata": {
    "collapsed": false
   },
   "outputs": [
    {
     "name": "stdout",
     "output_type": "stream",
     "text": [
      "Q + A*P_{t-1|t-1}*A' + (-1)*(Q + A*P_{t-1|t-1}*A')*C'*(R + C*(Q + A*P_{t-1|t-1}*A')*C')^-1*C*(Q + A*P_{t-1|t-1}*A')\n"
     ]
    }
   ],
   "source": [
    "print(p_xt_update.covar.to_full_expr())"
   ]
  },
  {
   "cell_type": "code",
   "execution_count": 35,
   "metadata": {
    "collapsed": false
   },
   "outputs": [
    {
     "name": "stdout",
     "output_type": "stream",
     "text": [
      "[[(Q,), (A, A'), (Q + A*P_{t-1|t-1}*A', Q + A*P_{t-1|t-1}*A')], [(Q + A*P_{t-1|t-1}*A', Q + A*P_{t-1|t-1}*A'), (Q + A*P_{t-1|t-1}*A',), (0,)]]\n"
     ]
    }
   ],
   "source": [
    "print(utils.getEnds(p_xt_update.covar.to_full_expr()))"
   ]
  },
  {
   "cell_type": "code",
   "execution_count": 36,
   "metadata": {
    "collapsed": false
   },
   "outputs": [
    {
     "name": "stdout",
     "output_type": "stream",
     "text": [
      "depth:  8\n",
      "usedNames:  ['x_{t-1}', 'x_t', 'y_{1:t-1}', 'y_t', 'b_t', 'd_t', 'w_t', 'e_t', 'A', 'C', 'Q', 'R', 'm_{t-1|t-1}', 'P_{t-1|t-1}', 'm_{x_{t-1}|y_{1:t-1}}', 'S_{x_{t-1}|y_{1:t-1}}', 'm_{x_t|x_{t-1}}', 'S_{x_t|x_{t-1}}', 'S_{x_t,x_t}', 'S_{x_t,x_{t-1}}', 'S_{x_{t-1},x_t}', 'S_{x_{t-1},x_{t-1}}', 'm_{x_t,x_{t-1}|y_{1:t-1}}', 'S_{x_t,x_{t-1}|y_{1:t-1}}', 'm_{x_t|y_{1:t-1}}', 'S_{x_t|y_{1:t-1}}', 'm_{y_t|x_t}', 'S_{y_t|x_t}', 'S_{y_t,y_t}', 'S_{y_t,x_t}', 'S_{x_t,y_t}', 'S_{x_t,x_t}', 'm_{y_t,x_t|y_{1:t-1}}', 'S_{y_t,x_t|y_{1:t-1}}', 'S_{x_t}', 'S_{x_t,y_t}', 'S_{y_t,x_t}', 'S_{y_t}', 'm_{x_t|y_{1:t-1},y_t}', 'S_{x_t|y_{1:t-1},y_t}']\n",
      "d:  8\n",
      "min_expr:  Q + A*P_{t-1|t-1}*A' + (-1)*(Q + A*P_{t-1|t-1}*A')*C'*(R + C*(Q + A*P_{t-1|t-1}*A')*C')^-1*C*(Q + A*P_{t-1|t-1}*A')\n",
      "exprs_by_depth:  defaultdict(<class 'list'>, {0: [Q + A*P_{t-1|t-1}*A', Q + (-1)*(Q + A*P_{t-1|t-1}*A')*C'*(R + C*(Q + A*P_{t-1|t-1}*A')*C')^-1*C*(Q + A*P_{t-1|t-1}*A'), A*P_{t-1|t-1}*A' + (-1)*(Q + A*P_{t-1|t-1}*A')*C'*(R + C*(Q + A*P_{t-1|t-1}*A')*C')^-1*C*(Q + A*P_{t-1|t-1}*A'), Q + A*P_{t-1|t-1}*A' + (-1)*(Q + A*P_{t-1|t-1}*A')*C'*(R + C*(Q + A*P_{t-1|t-1}*A')*C')^-1*C*(Q + A*P_{t-1|t-1}*A')], 1: [A*P_{t-1|t-1}*A', (-1)*(Q + A*P_{t-1|t-1}*A')*C'*(R + C*(Q + A*P_{t-1|t-1}*A')*C')^-1*C*(Q + A*P_{t-1|t-1}*A')], 2: [Q + A*P_{t-1|t-1}*A', Q + A*P_{t-1|t-1}*A'], 3: [A*P_{t-1|t-1}*A', R + C*(Q + A*P_{t-1|t-1}*A')*C', A*P_{t-1|t-1}*A'], 4: [C*(Q + A*P_{t-1|t-1}*A')*C'], 5: [Q + A*P_{t-1|t-1}*A'], 6: [A*P_{t-1|t-1}*A']})\n",
      "sub_exprs:  []\n",
      "d:  7\n",
      "min_expr:  Q + A*P_{t-1|t-1}*A' + (-1)*(Q + A*P_{t-1|t-1}*A')*C'*(R + C*(Q + A*P_{t-1|t-1}*A')*C')^-1*C*(Q + A*P_{t-1|t-1}*A')\n",
      "exprs_by_depth:  defaultdict(<class 'list'>, {0: [Q + A*P_{t-1|t-1}*A', Q + (-1)*(Q + A*P_{t-1|t-1}*A')*C'*(R + C*(Q + A*P_{t-1|t-1}*A')*C')^-1*C*(Q + A*P_{t-1|t-1}*A'), A*P_{t-1|t-1}*A' + (-1)*(Q + A*P_{t-1|t-1}*A')*C'*(R + C*(Q + A*P_{t-1|t-1}*A')*C')^-1*C*(Q + A*P_{t-1|t-1}*A'), Q + A*P_{t-1|t-1}*A' + (-1)*(Q + A*P_{t-1|t-1}*A')*C'*(R + C*(Q + A*P_{t-1|t-1}*A')*C')^-1*C*(Q + A*P_{t-1|t-1}*A')], 1: [A*P_{t-1|t-1}*A', (-1)*(Q + A*P_{t-1|t-1}*A')*C'*(R + C*(Q + A*P_{t-1|t-1}*A')*C')^-1*C*(Q + A*P_{t-1|t-1}*A')], 2: [Q + A*P_{t-1|t-1}*A', Q + A*P_{t-1|t-1}*A'], 3: [A*P_{t-1|t-1}*A', R + C*(Q + A*P_{t-1|t-1}*A')*C', A*P_{t-1|t-1}*A'], 4: [C*(Q + A*P_{t-1|t-1}*A')*C'], 5: [Q + A*P_{t-1|t-1}*A'], 6: [A*P_{t-1|t-1}*A']})\n",
      "sub_exprs:  []\n",
      "d:  6\n",
      "min_expr:  Q + A*P_{t-1|t-1}*A' + (-1)*(Q + A*P_{t-1|t-1}*A')*C'*(R + C*(Q + A*P_{t-1|t-1}*A')*C')^-1*C*(Q + A*P_{t-1|t-1}*A')\n",
      "exprs_by_depth:  defaultdict(<class 'list'>, {0: [Q + A*P_{t-1|t-1}*A', Q + (-1)*(Q + A*P_{t-1|t-1}*A')*C'*(R + C*(Q + A*P_{t-1|t-1}*A')*C')^-1*C*(Q + A*P_{t-1|t-1}*A'), A*P_{t-1|t-1}*A' + (-1)*(Q + A*P_{t-1|t-1}*A')*C'*(R + C*(Q + A*P_{t-1|t-1}*A')*C')^-1*C*(Q + A*P_{t-1|t-1}*A'), Q + A*P_{t-1|t-1}*A' + (-1)*(Q + A*P_{t-1|t-1}*A')*C'*(R + C*(Q + A*P_{t-1|t-1}*A')*C')^-1*C*(Q + A*P_{t-1|t-1}*A')], 1: [A*P_{t-1|t-1}*A', (-1)*(Q + A*P_{t-1|t-1}*A')*C'*(R + C*(Q + A*P_{t-1|t-1}*A')*C')^-1*C*(Q + A*P_{t-1|t-1}*A')], 2: [Q + A*P_{t-1|t-1}*A', Q + A*P_{t-1|t-1}*A'], 3: [A*P_{t-1|t-1}*A', R + C*(Q + A*P_{t-1|t-1}*A')*C', A*P_{t-1|t-1}*A'], 4: [C*(Q + A*P_{t-1|t-1}*A')*C'], 5: [Q + A*P_{t-1|t-1}*A'], 6: [A*P_{t-1|t-1}*A']})\n",
      "sub_exprs:  [A*P_{t-1|t-1}*A']\n",
      "s:  A*P_{t-1|t-1}*A'\n",
      "repetitions:  3\n",
      "c:  A\n",
      "r_name:  A_{0}\n",
      "repl_dict:  {A*P_{t-1|t-1}*A': A_{0}}\n",
      "simp_expr:  Q + (-1)*(Q + A_{0})*C'*(R + C*(Q + A_{0})*C')^-1*C*(Q + A_{0}) + A_{0}\n",
      "min_syms:  inf\n",
      "min_syms:  13\n",
      "simps:  [Q + (-1)*(Q + A_{0})*C'*(R + C*(Q + A_{0})*C')^-1*C*(Q + A_{0}) + A_{0}]\n",
      "expr:  Q + (-1)*(Q + A_{0})*C'*(R + C*(Q + A_{0})*C')^-1*C*(Q + A_{0}) + A_{0}\n",
      "expr_args:  [Q, (-1)*(Q + A_{0})*C'*(R + C*(Q + A_{0})*C')^-1*C*(Q + A_{0}), A_{0}]\n",
      "a.as_coeff_mmul:  (1, Q)\n",
      "a_mmul:  Q\n",
      "a.as_coeff_mmul:  (-1, (Q + A_{0})*C'*(R + C*(Q + A_{0})*C')^-1*C*(Q + A_{0}))\n",
      "a_mmul:  (Q + A_{0})*C'*(R + C*(Q + A_{0})*C')^-1*C*(Q + A_{0})\n",
      "a.as_coeff_mmul:  (1, A_{0})\n",
      "a_mmul:  A_{0}\n",
      "ends:  [(Q,), (Q + A_{0}, Q + A_{0}), (A_{0},)]\n",
      "mmul_to_rem:  {(Q + A_{0}, Q + A_{0}): ((-1)*(Q + A_{0})*C'*(R + C*(Q + A_{0})*C')^-1*C*(Q + A_{0}), Q + A_{0})}\n",
      "ends_mmul, val: (Q + A_{0}, Q + A_{0}), ((-1)*(Q + A_{0})*C'*(R + C*(Q + A_{0})*C')^-1*C*(Q + A_{0}), Q + A_{0})\n",
      "end:  Q + A_{0}\n",
      "rem:  Q + A_{0}\n",
      "match:  [Q + A_{0}]\n",
      "rem:  <class 'sympy.matrices.expressions.matexpr.ZeroMatrix'>\n",
      "new_ends:  [(Q + A_{0}, Q + A_{0}), (Q + A_{0},), (0,)]\n",
      "end:  Q + A_{0}\n",
      "rem:  Q + A_{0}\n",
      "match:  [Q + A_{0}]\n",
      "rem:  <class 'sympy.matrices.expressions.matexpr.ZeroMatrix'>\n",
      "new_ends:  [(Q + A_{0}, Q + A_{0}), (Q + A_{0},), (0,)]\n",
      "ends_of_expr_collection:  [[(Q,), (Q + A_{0}, Q + A_{0}), (A_{0},)], [(Q + A_{0}, Q + A_{0}), (Q + A_{0},), (0,)]]\n",
      "ends_of_expr:  [(Q,), (Q + A_{0}, Q + A_{0}), (A_{0},)]\n",
      "ends_dict_left:  defaultdict(<class 'list'>, {Q + A_{0}: [1], A_{0}: [2], Q: [0]})\n",
      "ends_dict_right:  defaultdict(<class 'list'>, {Q + A_{0}: [1], A_{0}: [2], Q: [0]})\n",
      "ends_dict_both:  defaultdict(<class 'list'>, {(Q + A_{0}, Q + A_{0}): [1]})\n",
      "simps(before):  [Q + (-1)*(Q + A_{0})*C'*(R + C*(Q + A_{0})*C')^-1*C*(Q + A_{0}) + A_{0}]\n",
      "simp_expr:  Q + (-1)*(Q + A_{0})*C'*(R + C*(Q + A_{0})*C')^-1*C*(Q + A_{0}) + A_{0}\n",
      "key:  Q + A_{0}\n",
      "simped (left):  (Q + A_{0})*(I + (-1)*C'*(R + C*(Q + A_{0})*C')^-1*C*(Q + A_{0}))\n",
      "simp_expr:  Q + (-1)*(Q + A_{0})*C'*(R + C*(Q + A_{0})*C')^-1*C*(Q + A_{0}) + A_{0}\n",
      "key:  A_{0}\n",
      "simped (left):  Q + (-1)*(Q + A_{0})*C'*(R + C*(Q + A_{0})*C')^-1*C*(Q + A_{0}) + A_{0}\n",
      "simp_expr:  Q + (-1)*(Q + A_{0})*C'*(R + C*(Q + A_{0})*C')^-1*C*(Q + A_{0}) + A_{0}\n",
      "key:  Q\n",
      "simped (left):  Q + (-1)*(Q + A_{0})*C'*(R + C*(Q + A_{0})*C')^-1*C*(Q + A_{0}) + A_{0}\n",
      "simped (right):  (I + (-1)*(Q + A_{0})*C'*(R + C*(Q + A_{0})*C')^-1*C)*(Q + A_{0})\n",
      "simped (right):  Q + (-1)*(Q + A_{0})*C'*(R + C*(Q + A_{0})*C')^-1*C*(Q + A_{0}) + A_{0}\n",
      "simped (right):  Q + (-1)*(Q + A_{0})*C'*(R + C*(Q + A_{0})*C')^-1*C*(Q + A_{0}) + A_{0}\n",
      "simped (both):  (Q + A_{0})*(I + (-1)*C'*(R + C*(Q + A_{0})*C')^-1*C*(Q + A_{0}))\n",
      "simps (MatAdd):  [Q + (-1)*(Q + A_{0})*C'*(R + C*(Q + A_{0})*C')^-1*C*(Q + A_{0}) + A_{0}]\n",
      "ends_of_expr:  [(Q + A_{0}, Q + A_{0}), (Q + A_{0},), (0,)]\n",
      "ends_dict_left:  defaultdict(<class 'list'>, {Q + A_{0}: [0, 1], 0: [2]})\n",
      "ends_dict_right:  defaultdict(<class 'list'>, {Q + A_{0}: [0, 1], 0: [2]})\n",
      "ends_dict_both:  defaultdict(<class 'list'>, {(Q + A_{0}, Q + A_{0}): [0]})\n",
      "simps(before):  [Q + (-1)*(Q + A_{0})*C'*(R + C*(Q + A_{0})*C')^-1*C*(Q + A_{0}) + A_{0}]\n",
      "simp_expr:  Q + (-1)*(Q + A_{0})*C'*(R + C*(Q + A_{0})*C')^-1*C*(Q + A_{0}) + A_{0}\n",
      "key:  Q + A_{0}\n",
      "simped (left):  (Q + A_{0})*(I + (-1)*C'*(R + C*(Q + A_{0})*C')^-1*C*(Q + A_{0}))\n",
      "simp_expr:  Q + (-1)*(Q + A_{0})*C'*(R + C*(Q + A_{0})*C')^-1*C*(Q + A_{0}) + A_{0}\n",
      "key:  0\n",
      "simped (left):  Q + (-1)*(Q + A_{0})*C'*(R + C*(Q + A_{0})*C')^-1*C*(Q + A_{0}) + A_{0}\n",
      "simped (right):  (I + (-1)*(Q + A_{0})*C'*(R + C*(Q + A_{0})*C')^-1*C)*(Q + A_{0})\n",
      "simped (right):  Q + (-1)*(Q + A_{0})*C'*(R + C*(Q + A_{0})*C')^-1*C*(Q + A_{0}) + A_{0}\n",
      "simped (both):  (Q + A_{0})*(I + (-1)*C'*(R + C*(Q + A_{0})*C')^-1*C*(Q + A_{0}))\n",
      "simps (MatAdd):  [Q + (-1)*(Q + A_{0})*C'*(R + C*(Q + A_{0})*C')^-1*C*(Q + A_{0}) + A_{0}, (Q + A_{0})*(I + (-1)*C'*(R + C*(Q + A_{0})*C')^-1*C*(Q + A_{0})), (I + (-1)*(Q + A_{0})*C'*(R + C*(Q + A_{0})*C')^-1*C)*(Q + A_{0})]\n",
      "d:  5\n",
      "min_expr:  Q + (-1)*(Q + A_{0})*C'*(R + C*(Q + A_{0})*C')^-1*C*(Q + A_{0}) + A_{0}\n",
      "exprs_by_depth:  defaultdict(<class 'list'>, {0: [Q + (-1)*(Q + A_{0})*C'*(R + C*(Q + A_{0})*C')^-1*C*(Q + A_{0}), Q + A_{0}, (-1)*(Q + A_{0})*C'*(R + C*(Q + A_{0})*C')^-1*C*(Q + A_{0}) + A_{0}, Q + (-1)*(Q + A_{0})*C'*(R + C*(Q + A_{0})*C')^-1*C*(Q + A_{0}) + A_{0}], 1: [(-1)*(Q + A_{0})*C'*(R + C*(Q + A_{0})*C')^-1*C*(Q + A_{0})], 2: [Q + A_{0}, Q + A_{0}], 3: [R + C*(Q + A_{0})*C'], 4: [C*(Q + A_{0})*C'], 5: [Q + A_{0}]})\n",
      "sub_exprs:  [Q + A_{0}]\n",
      "s:  Q + A_{0}\n",
      "repetitions:  3\n",
      "c:  A\n",
      "r_name:  A_{0}\n",
      "i:  0\n",
      "r_name:  A_{1}\n",
      "repl_dict:  {Q + A_{0}: A_{1}}\n",
      "simp_expr:  (-1)*A_{1}*C'*(R + C*A_{1}*C')^-1*C*A_{1} + A_{1}\n",
      "min_syms:  inf\n",
      "min_syms:  9\n",
      "simps:  [Q + (-1)*(Q + A_{0})*C'*(R + C*(Q + A_{0})*C')^-1*C*(Q + A_{0}) + A_{0}, (Q + A_{0})*(I + (-1)*C'*(R + C*(Q + A_{0})*C')^-1*C*(Q + A_{0})), (I + (-1)*(Q + A_{0})*C'*(R + C*(Q + A_{0})*C')^-1*C)*(Q + A_{0}), (-1)*A_{1}*C'*(R + C*A_{1}*C')^-1*C*A_{1} + A_{1}]\n",
      "expr:  (-1)*A_{1}*C'*(R + C*A_{1}*C')^-1*C*A_{1} + A_{1}\n",
      "expr_args:  [(-1)*A_{1}*C'*(R + C*A_{1}*C')^-1*C*A_{1}, A_{1}]\n",
      "a.as_coeff_mmul:  (-1, A_{1}*C'*(R + C*A_{1}*C')^-1*C*A_{1})\n",
      "a_mmul:  A_{1}*C'*(R + C*A_{1}*C')^-1*C*A_{1}\n",
      "a.as_coeff_mmul:  (1, A_{1})\n",
      "a_mmul:  A_{1}\n",
      "ends:  [(A_{1}, A_{1}), (A_{1},)]\n",
      "mmul_to_rem:  {(A_{1}, A_{1}): ((-1)*A_{1}*C'*(R + C*A_{1}*C')^-1*C*A_{1}, A_{1})}\n",
      "ends_mmul, val: (A_{1}, A_{1}), ((-1)*A_{1}*C'*(R + C*A_{1}*C')^-1*C*A_{1}, A_{1})\n",
      "ends_of_expr_collection:  [[(A_{1}, A_{1}), (A_{1},)]]\n",
      "ends_of_expr:  [(A_{1}, A_{1}), (A_{1},)]\n",
      "ends_dict_left:  defaultdict(<class 'list'>, {A_{1}: [0, 1]})\n",
      "ends_dict_right:  defaultdict(<class 'list'>, {A_{1}: [0, 1]})\n",
      "ends_dict_both:  defaultdict(<class 'list'>, {(A_{1}, A_{1}): [0]})\n",
      "simps(before):  [Q + (-1)*(Q + A_{0})*C'*(R + C*(Q + A_{0})*C')^-1*C*(Q + A_{0}) + A_{0}, (Q + A_{0})*(I + (-1)*C'*(R + C*(Q + A_{0})*C')^-1*C*(Q + A_{0})), (I + (-1)*(Q + A_{0})*C'*(R + C*(Q + A_{0})*C')^-1*C)*(Q + A_{0}), (-1)*A_{1}*C'*(R + C*A_{1}*C')^-1*C*A_{1} + A_{1}]\n",
      "simp_expr:  (-1)*A_{1}*C'*(R + C*A_{1}*C')^-1*C*A_{1} + A_{1}\n",
      "key:  A_{1}\n",
      "simped (left):  A_{1}*(I + (-1)*C'*(R + C*A_{1}*C')^-1*C*A_{1})\n",
      "simped (right):  (I + (-1)*A_{1}*C'*(R + C*A_{1}*C')^-1*C)*A_{1}\n",
      "simped (both):  A_{1}*(I + (-1)*C'*(R + C*A_{1}*C')^-1*C*A_{1})\n",
      "simps (MatAdd):  [Q + (-1)*(Q + A_{0})*C'*(R + C*(Q + A_{0})*C')^-1*C*(Q + A_{0}) + A_{0}, (Q + A_{0})*(I + (-1)*C'*(R + C*(Q + A_{0})*C')^-1*C*(Q + A_{0})), (I + (-1)*(Q + A_{0})*C'*(R + C*(Q + A_{0})*C')^-1*C)*(Q + A_{0}), (-1)*A_{1}*C'*(R + C*A_{1}*C')^-1*C*A_{1} + A_{1}, A_{1}*(I + (-1)*C'*(R + C*A_{1}*C')^-1*C*A_{1}), (I + (-1)*A_{1}*C'*(R + C*A_{1}*C')^-1*C)*A_{1}]\n",
      "d:  4\n",
      "min_expr:  (-1)*A_{1}*C'*(R + C*A_{1}*C')^-1*C*A_{1} + A_{1}\n",
      "exprs_by_depth:  defaultdict(<class 'list'>, {0: [(-1)*A_{1}*C'*(R + C*A_{1}*C')^-1*C*A_{1} + A_{1}], 1: [A_{1}*C'*(R + C*A_{1}*C')^-1], 3: [R + C*A_{1}*C'], 4: [C*A_{1}*C']})\n",
      "sub_exprs:  [C*A_{1}*C']\n",
      "s:  C*A_{1}*C'\n",
      "repetitions:  0\n",
      "d:  3\n",
      "min_expr:  (-1)*A_{1}*C'*(R + C*A_{1}*C')^-1*C*A_{1} + A_{1}\n",
      "exprs_by_depth:  defaultdict(<class 'list'>, {0: [(-1)*A_{1}*C'*(R + C*A_{1}*C')^-1*C*A_{1} + A_{1}], 1: [A_{1}*C'*(R + C*A_{1}*C')^-1], 3: [R + C*A_{1}*C'], 4: [C*A_{1}*C']})\n",
      "sub_exprs:  [R + C*A_{1}*C']\n",
      "s:  R + C*A_{1}*C'\n",
      "repetitions:  0\n",
      "d:  2\n",
      "min_expr:  (-1)*A_{1}*C'*(R + C*A_{1}*C')^-1*C*A_{1} + A_{1}\n",
      "exprs_by_depth:  defaultdict(<class 'list'>, {0: [(-1)*A_{1}*C'*(R + C*A_{1}*C')^-1*C*A_{1} + A_{1}], 1: [A_{1}*C'*(R + C*A_{1}*C')^-1], 3: [R + C*A_{1}*C'], 4: [C*A_{1}*C']})\n",
      "sub_exprs:  []\n",
      "d:  1\n",
      "min_expr:  (-1)*A_{1}*C'*(R + C*A_{1}*C')^-1*C*A_{1} + A_{1}\n",
      "exprs_by_depth:  defaultdict(<class 'list'>, {0: [(-1)*A_{1}*C'*(R + C*A_{1}*C')^-1*C*A_{1} + A_{1}], 1: [A_{1}*C'*(R + C*A_{1}*C')^-1], 3: [R + C*A_{1}*C'], 4: [C*A_{1}*C']})\n",
      "sub_exprs:  [A_{1}*C'*(R + C*A_{1}*C')^-1]\n",
      "s:  A_{1}*C'*(R + C*A_{1}*C')^-1\n",
      "repetitions:  0\n",
      "c:  A\n",
      "r_name:  A_{0}\n",
      "i:  0\n",
      "r_name:  A_{1}\n",
      "i:  1\n",
      "r_name:  A_{2}\n",
      "repl_dict:  {A_{1}*C'*(R + C*A_{1}*C')^-1: A_{2}}\n",
      "simp_expr:  (-1)*A_{2}*C*A_{1} + A_{1}\n",
      "min_syms:  inf\n",
      "min_syms:  4\n",
      "simps:  [Q + (-1)*(Q + A_{0})*C'*(R + C*(Q + A_{0})*C')^-1*C*(Q + A_{0}) + A_{0}, (Q + A_{0})*(I + (-1)*C'*(R + C*(Q + A_{0})*C')^-1*C*(Q + A_{0})), (I + (-1)*(Q + A_{0})*C'*(R + C*(Q + A_{0})*C')^-1*C)*(Q + A_{0}), (-1)*A_{1}*C'*(R + C*A_{1}*C')^-1*C*A_{1} + A_{1}, A_{1}*(I + (-1)*C'*(R + C*A_{1}*C')^-1*C*A_{1}), (I + (-1)*A_{1}*C'*(R + C*A_{1}*C')^-1*C)*A_{1}, (-1)*A_{2}*C*A_{1} + A_{1}]\n",
      "expr:  (-1)*A_{2}*C*A_{1} + A_{1}\n",
      "expr_args:  [(-1)*A_{2}*C*A_{1}, A_{1}]\n",
      "a.as_coeff_mmul:  (-1, A_{2}*C*A_{1})\n",
      "a_mmul:  A_{2}*C*A_{1}\n",
      "a.as_coeff_mmul:  (1, A_{1})\n",
      "a_mmul:  A_{1}\n",
      "ends:  [(A_{2}, A_{1}), (A_{1},)]\n",
      "mmul_to_rem:  {(A_{2}, A_{1}): ((-1)*A_{2}*C*A_{1}, A_{1})}\n",
      "ends_mmul, val: (A_{2}, A_{1}), ((-1)*A_{2}*C*A_{1}, A_{1})\n",
      "ends_of_expr_collection:  [[(A_{2}, A_{1}), (A_{1},)]]\n",
      "ends_of_expr:  [(A_{2}, A_{1}), (A_{1},)]\n",
      "ends_dict_left:  defaultdict(<class 'list'>, {A_{1}: [1], A_{2}: [0]})\n",
      "ends_dict_right:  defaultdict(<class 'list'>, {A_{1}: [0, 1]})\n",
      "ends_dict_both:  defaultdict(<class 'list'>, {(A_{2}, A_{1}): [0]})\n",
      "simps(before):  [Q + (-1)*(Q + A_{0})*C'*(R + C*(Q + A_{0})*C')^-1*C*(Q + A_{0}) + A_{0}, (Q + A_{0})*(I + (-1)*C'*(R + C*(Q + A_{0})*C')^-1*C*(Q + A_{0})), (I + (-1)*(Q + A_{0})*C'*(R + C*(Q + A_{0})*C')^-1*C)*(Q + A_{0}), (-1)*A_{1}*C'*(R + C*A_{1}*C')^-1*C*A_{1} + A_{1}, A_{1}*(I + (-1)*C'*(R + C*A_{1}*C')^-1*C*A_{1}), (I + (-1)*A_{1}*C'*(R + C*A_{1}*C')^-1*C)*A_{1}, (-1)*A_{2}*C*A_{1} + A_{1}]\n",
      "simp_expr:  (-1)*A_{2}*C*A_{1} + A_{1}\n",
      "key:  A_{1}\n",
      "simped (left):  A_{1}*(I + (-1)*A_{2}*C)\n",
      "simp_expr:  (-1)*A_{2}*C*A_{1} + A_{1}\n",
      "key:  A_{2}\n",
      "simped (left):  (-1)*A_{2}*C*A_{1} + A_{1}\n",
      "simped (right):  (I + (-1)*A_{2}*C)*A_{1}\n",
      "simped (both):  (-1)*A_{2}*C*A_{1} + A_{1}\n",
      "simps (MatAdd):  [Q + (-1)*(Q + A_{0})*C'*(R + C*(Q + A_{0})*C')^-1*C*(Q + A_{0}) + A_{0}, (Q + A_{0})*(I + (-1)*C'*(R + C*(Q + A_{0})*C')^-1*C*(Q + A_{0})), (I + (-1)*(Q + A_{0})*C'*(R + C*(Q + A_{0})*C')^-1*C)*(Q + A_{0}), (-1)*A_{1}*C'*(R + C*A_{1}*C')^-1*C*A_{1} + A_{1}, A_{1}*(I + (-1)*C'*(R + C*A_{1}*C')^-1*C*A_{1}), (I + (-1)*A_{1}*C'*(R + C*A_{1}*C')^-1*C)*A_{1}, (-1)*A_{2}*C*A_{1} + A_{1}, (I + (-1)*A_{2}*C)*A_{1}]\n",
      "d:  0\n",
      "min_expr:  (-1)*A_{2}*C*A_{1} + A_{1}\n",
      "exprs_by_depth:  defaultdict(<class 'list'>, {0: [(-1)*A_{2}*C*A_{1} + A_{1}], 1: [(-1)*A_{2}*C*A_{1}]})\n",
      "sub_exprs:  [(-1)*A_{2}*C*A_{1} + A_{1}]\n",
      "s:  (-1)*A_{2}*C*A_{1} + A_{1}\n",
      "repetitions:  0\n"
     ]
    }
   ],
   "source": [
    "simp_exprs, subs = utils.simplify(p_xt_update.covar.to_full_expr(),debug=True)"
   ]
  },
  {
   "cell_type": "code",
   "execution_count": 37,
   "metadata": {
    "collapsed": false
   },
   "outputs": [
    {
     "name": "stdout",
     "output_type": "stream",
     "text": [
      "(-1)*B_{99}*C'*(R + C*B_{99}*C')^-1*C*B_{99} + B_{99}\n"
     ]
    }
   ],
   "source": [
    "B_99 = SuperMatSymbol(Q.shape[0],Q.shape[1],'B_{99}')\n",
    "d = {Q + A*F_prev*A.T: B_99}\n",
    "\n",
    "print(utils.replace(p_xt_update.covar.to_full_expr(), d).doit())"
   ]
  },
  {
   "cell_type": "code",
   "execution_count": 38,
   "metadata": {
    "collapsed": false
   },
   "outputs": [
    {
     "name": "stdout",
     "output_type": "stream",
     "text": [
      "depths:  [0, 1, 2, 3, 4, 5, 6, 7]\n",
      "sub_expr: (-1)*B_{99}*C'*(R + C*B_{99}*C')^-1*C*B_{99} + B_{99}, level: 0\n",
      "sub_expr:  (-1)*B_{99}*C'*(R + C*B_{99}*C')^-1*C*B_{99} + B_{99}\n",
      "exprs_at_depth[0]: [(-1)*B_{99}*C'*(R + C*B_{99}*C')^-1*C*B_{99} + B_{99}]\n",
      "sub_expr.args:  ((-1)*B_{99}*C'*(R + C*B_{99}*C')^-1*C*B_{99}, B_{99})\n",
      "sub_expr: (-1)*B_{99}*C'*(R + C*B_{99}*C')^-1*C*B_{99}, level: 1\n",
      "sub_expr:  (-1)*B_{99}*C'*(R + C*B_{99}*C')^-1*C*B_{99}\n",
      "Matched E^{-1}\n",
      "Matched E^{-1}F\n",
      "Matched E^{-1}F({MatExpr})^{-1}\n",
      "Matched E^{-1}F({MatAdd})^{-1}\n",
      "Matched E^{-1}F(A+B)^{-1}\n",
      "Matched E^{-1}F(A + GCD)^{-1} or E^{-1}F(A + (-1)*GCD)^{-1}\n",
      "exprs_at_depth[1]: [B_{99}*C'*(R + C*B_{99}*C')^-1]\n",
      "sub_expr.args:  (-1, B_{99}, C', (R + C*B_{99}*C')^-1, C, B_{99})\n",
      "sub_expr: -1, level: 2\n",
      "sub_expr: B_{99}, level: 2\n",
      "sub_expr: C', level: 2\n",
      "sub_expr.args:  (C,)\n",
      "sub_expr: C, level: 3\n",
      "sub_expr: (R + C*B_{99}*C')^-1, level: 2\n",
      "sub_expr.args:  (R + C*B_{99}*C',)\n",
      "sub_expr: R + C*B_{99}*C', level: 3\n",
      "sub_expr:  R + C*B_{99}*C'\n",
      "exprs_at_depth[3]: [R + C*B_{99}*C']\n",
      "sub_expr.args:  (R, C*B_{99}*C')\n",
      "sub_expr: R, level: 4\n",
      "sub_expr: C*B_{99}*C', level: 4\n",
      "sub_expr:  C*B_{99}*C'\n",
      "Matched E^{-1}\n",
      "Matched E^{-1}F\n",
      "exprs_at_depth[4]: [C*B_{99}*C']\n",
      "sub_expr.args:  (C, B_{99}, C')\n",
      "sub_expr: C, level: 5\n",
      "sub_expr: B_{99}, level: 5\n",
      "sub_expr: C', level: 5\n",
      "sub_expr.args:  (C,)\n",
      "sub_expr: C, level: 6\n",
      "sub_expr: C, level: 2\n",
      "sub_expr: B_{99}, level: 2\n",
      "sub_expr: B_{99}, level: 1\n",
      "defaultdict(<class 'list'>, {0: [(-1)*B_{99}*C'*(R + C*B_{99}*C')^-1*C*B_{99} + B_{99}], 1: [B_{99}*C'*(R + C*B_{99}*C')^-1], 3: [R + C*B_{99}*C'], 4: [C*B_{99}*C']})\n"
     ]
    }
   ],
   "source": [
    "print(utils.getExprsAtDepth(utils.replace(p_xt_update.covar.to_full_expr(), d).doit(),range(8),debug=True))"
   ]
  },
  {
   "cell_type": "code",
   "execution_count": 39,
   "metadata": {
    "collapsed": false
   },
   "outputs": [
    {
     "name": "stdout",
     "output_type": "stream",
     "text": [
      "s:  Q + (-1)*(Q + A_{0})*C'*(R + C*(Q + A_{0})*C')^-1*C*(Q + A_{0}) + A_{0}\n",
      "s:  (Q + A_{0})*(I + (-1)*C'*(R + C*(Q + A_{0})*C')^-1*C*(Q + A_{0}))\n",
      "s:  (I + (-1)*(Q + A_{0})*C'*(R + C*(Q + A_{0})*C')^-1*C)*(Q + A_{0})\n",
      "s:  (-1)*A_{1}*C'*(R + C*A_{1}*C')^-1*C*A_{1} + A_{1}\n",
      "s:  A_{1}*(I + (-1)*C'*(R + C*A_{1}*C')^-1*C*A_{1})\n",
      "s:  (I + (-1)*A_{1}*C'*(R + C*A_{1}*C')^-1*C)*A_{1}\n",
      "s:  (-1)*A_{2}*C*A_{1} + A_{1}\n",
      "s:  (I + (-1)*A_{2}*C)*A_{1}\n",
      "Q + A_{0}: A_{1}\n",
      "A_{1}*C'*(R + C*A_{1}*C')^-1: A_{2}\n",
      "A*P_{t-1|t-1}*A': A_{0}\n"
     ]
    }
   ],
   "source": [
    "for s in simp_exprs:\n",
    "    print(\"s: \", s)\n",
    "\n",
    "for s in subs.keys():\n",
    "    print(\"%s: %s\"%(s,subs[s]))"
   ]
  },
  {
   "cell_type": "code",
   "execution_count": 40,
   "metadata": {
    "collapsed": false
   },
   "outputs": [
    {
     "name": "stdout",
     "output_type": "stream",
     "text": [
      "(I + (-1)*A_{2}*C)*A_{1}\n",
      "(-1)*A_{2}*C*A_{1} + A_{1}\n",
      "A_{1}*(I + (-1)*C'*(R + C*A_{1}*C')^-1*C*A_{1})\n",
      "(I + (-1)*A_{1}*C'*(R + C*A_{1}*C')^-1*C)*A_{1}\n",
      "(-1)*A_{1}*C'*(R + C*A_{1}*C')^-1*C*A_{1} + A_{1}\n",
      "(Q + A_{0})*(I + (-1)*C'*(R + C*(Q + A_{0})*C')^-1*C*(Q + A_{0}))\n",
      "(I + (-1)*(Q + A_{0})*C'*(R + C*(Q + A_{0})*C')^-1*C)*(Q + A_{0})\n",
      "Q + (-1)*(Q + A_{0})*C'*(R + C*(Q + A_{0})*C')^-1*C*(Q + A_{0}) + A_{0}\n"
     ]
    },
    {
     "data": {
      "text/plain": [
       "[None, None, None, None, None, None, None, None]"
      ]
     },
     "execution_count": 40,
     "metadata": {},
     "output_type": "execute_result"
    }
   ],
   "source": [
    "sorted_simp_exprs = sorted(simp_exprs, key=lambda x: utils.getNumSymbols(x))\n",
    "[print(s) for s in sorted_simp_exprs]"
   ]
  },
  {
   "cell_type": "code",
   "execution_count": 41,
   "metadata": {
    "collapsed": false
   },
   "outputs": [
    {
     "ename": "SyntaxError",
     "evalue": "invalid syntax (<ipython-input-41-635b06e76bb5>, line 1)",
     "output_type": "error",
     "traceback": [
      "\u001b[0;36m  File \u001b[0;32m\"<ipython-input-41-635b06e76bb5>\"\u001b[0;36m, line \u001b[0;32m1\u001b[0m\n\u001b[0;31m    K_t = Constant('K_t',x_t.shape[0],C.shape[0],full_expr=)\u001b[0m\n\u001b[0m                                                           ^\u001b[0m\n\u001b[0;31mSyntaxError\u001b[0m\u001b[0;31m:\u001b[0m invalid syntax\n"
     ]
    }
   ],
   "source": [
    "K_t = Constant('K_t',x_t.shape[0],C.shape[0],full_expr=)"
   ]
  },
  {
   "cell_type": "code",
   "execution_count": null,
   "metadata": {
    "collapsed": false
   },
   "outputs": [],
   "source": [
    "simp_exprs_2, subs_2 = utils.simplify(p_xt_update.mean.to_full_expr(),debug=True)"
   ]
  },
  {
   "cell_type": "code",
   "execution_count": null,
   "metadata": {
    "collapsed": false
   },
   "outputs": [],
   "source": [
    "print(p_xt_update.mean.to_full_expr())"
   ]
  },
  {
   "cell_type": "code",
   "execution_count": null,
   "metadata": {
    "collapsed": false
   },
   "outputs": [],
   "source": [
    "for s in simp_exprs_2:\n",
    "    print(\"s: \", s)\n",
    "\n",
    "for s in subs_2.keys():\n",
    "    print(\"%s: %s\"%(s,subs_2[s]))"
   ]
  },
  {
   "cell_type": "code",
   "execution_count": null,
   "metadata": {
    "collapsed": false
   },
   "outputs": [],
   "source": [
    "keys=list(subs.keys())\n",
    "print(simp_exprs[3])\n",
    "#print(s[3], subs[keys[0]])\n",
    "print(utils.collect(simp_exprs[3],subs[keys[0]],'left'))"
   ]
  },
  {
   "cell_type": "code",
   "execution_count": null,
   "metadata": {
    "collapsed": false
   },
   "outputs": [],
   "source": [
    "print(utils.expand_matexpr((A*Q + 2*Identity(m))*A,debug=False).doit().as_coeff_mmul())\n",
    "print(utils.collect(A*Q*A + 2*A,[A],'right'))"
   ]
  },
  {
   "cell_type": "code",
   "execution_count": null,
   "metadata": {
    "collapsed": true
   },
   "outputs": [],
   "source": [
    "from sympy import srepr"
   ]
  },
  {
   "cell_type": "code",
   "execution_count": null,
   "metadata": {
    "collapsed": false
   },
   "outputs": [],
   "source": [
    "print((2*A).as_coeff_mmul())\n",
    "print(A.I.as_coeff_mmul())"
   ]
  },
  {
   "cell_type": "code",
   "execution_count": null,
   "metadata": {
    "collapsed": false
   },
   "outputs": [],
   "source": [
    "print(A+Q == Q+A)"
   ]
  },
  {
   "cell_type": "code",
   "execution_count": null,
   "metadata": {
    "collapsed": false
   },
   "outputs": [],
   "source": [
    "print(srepr(Identity(m)*2*A))\n",
    "print((2*Identity(m)*A))"
   ]
  },
  {
   "cell_type": "code",
   "execution_count": null,
   "metadata": {
    "collapsed": false
   },
   "outputs": [],
   "source": [
    "print(p_xt_update.covar.to_full_expr())"
   ]
  },
  {
   "cell_type": "code",
   "execution_count": null,
   "metadata": {
    "collapsed": false
   },
   "outputs": [],
   "source": [
    "print(utils.replace(p_xt_update.covar.to_full_expr(), {A*F_prev*A.T: SuperMatSymbol(m,m,'B_{99}')},debug=False))"
   ]
  },
  {
   "cell_type": "code",
   "execution_count": null,
   "metadata": {
    "collapsed": true
   },
   "outputs": [],
   "source": [
    "from sympy import MatrixSymbol, MatMul\n",
    "from symgp import SuperMatMul"
   ]
  },
  {
   "cell_type": "code",
   "execution_count": null,
   "metadata": {
    "collapsed": false
   },
   "outputs": [],
   "source": [
    "print()"
   ]
  },
  {
   "cell_type": "code",
   "execution_count": null,
   "metadata": {
    "collapsed": false
   },
   "outputs": [],
   "source": [
    "print(SuperMatMul(*(2*Identity(n)).args,A_76).doit())"
   ]
  },
  {
   "cell_type": "code",
   "execution_count": null,
   "metadata": {
    "collapsed": false
   },
   "outputs": [],
   "source": [
    "A_76 = MatrixSymbol('A_{76}',n,n)\n",
    "print(MatMul(MatMul(2,Identity(n)),A_76).doit())\n",
    "#print((2*Identity(n)*A_76).args)"
   ]
  },
  {
   "cell_type": "code",
   "execution_count": null,
   "metadata": {
    "collapsed": true
   },
   "outputs": [],
   "source": []
  }
 ],
 "metadata": {
  "anaconda-cloud": {},
  "kernelspec": {
   "display_name": "Python [Root]",
   "language": "python",
   "name": "Python [Root]"
  },
  "language_info": {
   "codemirror_mode": {
    "name": "ipython",
    "version": 3
   },
   "file_extension": ".py",
   "mimetype": "text/x-python",
   "name": "python",
   "nbconvert_exporter": "python",
   "pygments_lexer": "ipython3",
   "version": "3.5.2"
  },
  "latex_envs": {
   "bibliofile": "biblio.bib",
   "cite_by": "apalike",
   "current_citInitial": 1,
   "eqLabelWithNumbers": true,
   "eqNumInitial": 0
  }
 },
 "nbformat": 4,
 "nbformat_minor": 0
}
